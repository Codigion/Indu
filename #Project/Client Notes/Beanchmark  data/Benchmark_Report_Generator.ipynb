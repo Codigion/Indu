{
  "nbformat": 4,
  "nbformat_minor": 0,
  "metadata": {
    "colab": {
      "provenance": [],
      "gpuType": "V28"
    },
    "kernelspec": {
      "name": "python3",
      "display_name": "Python 3"
    },
    "language_info": {
      "name": "python"
    },
    "accelerator": "TPU"
  },
  "cells": [
    {
      "cell_type": "code",
      "source": [
        "!pip3 install opencv-python\n",
        "!pip3 install ultralytics\n",
        "!pip3 install tensorflow\n",
        "!pip3 install dill\n",
        "!clear"
      ],
      "metadata": {
        "id": "PzTrMiCZBHKa",
        "colab": {
          "base_uri": "https://localhost:8080/"
        },
        "outputId": "c1bb6ba4-68d3-4e78-9968-f1ee0fe50225"
      },
      "execution_count": 1,
      "outputs": [
        {
          "output_type": "stream",
          "name": "stdout",
          "text": [
            "Requirement already satisfied: opencv-python in /usr/local/lib/python3.10/dist-packages (4.10.0.84)\n",
            "Requirement already satisfied: numpy>=1.21.2 in /usr/local/lib/python3.10/dist-packages (from opencv-python) (1.26.4)\n",
            "Collecting ultralytics\n",
            "  Downloading ultralytics-8.2.81-py3-none-any.whl.metadata (41 kB)\n",
            "\u001b[2K     \u001b[90m━━━━━━━━━━━━━━━━━━━━━━━━━━━━━━━━━━━━━━━━\u001b[0m \u001b[32m41.3/41.3 kB\u001b[0m \u001b[31m671.7 kB/s\u001b[0m eta \u001b[36m0:00:00\u001b[0m\n",
            "\u001b[?25hRequirement already satisfied: numpy<2.0.0,>=1.23.0 in /usr/local/lib/python3.10/dist-packages (from ultralytics) (1.26.4)\n",
            "Requirement already satisfied: matplotlib>=3.3.0 in /usr/local/lib/python3.10/dist-packages (from ultralytics) (3.7.1)\n",
            "Requirement already satisfied: opencv-python>=4.6.0 in /usr/local/lib/python3.10/dist-packages (from ultralytics) (4.10.0.84)\n",
            "Requirement already satisfied: pillow>=7.1.2 in /usr/local/lib/python3.10/dist-packages (from ultralytics) (10.4.0)\n",
            "Requirement already satisfied: pyyaml>=5.3.1 in /usr/local/lib/python3.10/dist-packages (from ultralytics) (6.0.2)\n",
            "Requirement already satisfied: requests>=2.23.0 in /usr/local/lib/python3.10/dist-packages (from ultralytics) (2.32.3)\n",
            "Requirement already satisfied: scipy>=1.4.1 in /usr/local/lib/python3.10/dist-packages (from ultralytics) (1.13.1)\n",
            "Requirement already satisfied: torch>=1.8.0 in /usr/local/lib/python3.10/dist-packages (from ultralytics) (2.3.0+cpu)\n",
            "Requirement already satisfied: torchvision>=0.9.0 in /usr/local/lib/python3.10/dist-packages (from ultralytics) (0.18.0+cpu)\n",
            "Requirement already satisfied: tqdm>=4.64.0 in /usr/local/lib/python3.10/dist-packages (from ultralytics) (4.66.5)\n",
            "Requirement already satisfied: psutil in /usr/local/lib/python3.10/dist-packages (from ultralytics) (5.9.5)\n",
            "Collecting py-cpuinfo (from ultralytics)\n",
            "  Downloading py_cpuinfo-9.0.0-py3-none-any.whl.metadata (794 bytes)\n",
            "Requirement already satisfied: pandas>=1.1.4 in /usr/local/lib/python3.10/dist-packages (from ultralytics) (2.1.4)\n",
            "Requirement already satisfied: seaborn>=0.11.0 in /usr/local/lib/python3.10/dist-packages (from ultralytics) (0.13.1)\n",
            "Collecting ultralytics-thop>=2.0.0 (from ultralytics)\n",
            "  Downloading ultralytics_thop-2.0.5-py3-none-any.whl.metadata (8.9 kB)\n",
            "Requirement already satisfied: contourpy>=1.0.1 in /usr/local/lib/python3.10/dist-packages (from matplotlib>=3.3.0->ultralytics) (1.2.1)\n",
            "Requirement already satisfied: cycler>=0.10 in /usr/local/lib/python3.10/dist-packages (from matplotlib>=3.3.0->ultralytics) (0.12.1)\n",
            "Requirement already satisfied: fonttools>=4.22.0 in /usr/local/lib/python3.10/dist-packages (from matplotlib>=3.3.0->ultralytics) (4.53.1)\n",
            "Requirement already satisfied: kiwisolver>=1.0.1 in /usr/local/lib/python3.10/dist-packages (from matplotlib>=3.3.0->ultralytics) (1.4.5)\n",
            "Requirement already satisfied: packaging>=20.0 in /usr/local/lib/python3.10/dist-packages (from matplotlib>=3.3.0->ultralytics) (24.1)\n",
            "Requirement already satisfied: pyparsing>=2.3.1 in /usr/local/lib/python3.10/dist-packages (from matplotlib>=3.3.0->ultralytics) (3.1.2)\n",
            "Requirement already satisfied: python-dateutil>=2.7 in /usr/local/lib/python3.10/dist-packages (from matplotlib>=3.3.0->ultralytics) (2.9.0.post0)\n",
            "Requirement already satisfied: pytz>=2020.1 in /usr/local/lib/python3.10/dist-packages (from pandas>=1.1.4->ultralytics) (2024.1)\n",
            "Requirement already satisfied: tzdata>=2022.1 in /usr/local/lib/python3.10/dist-packages (from pandas>=1.1.4->ultralytics) (2024.1)\n",
            "Requirement already satisfied: charset-normalizer<4,>=2 in /usr/local/lib/python3.10/dist-packages (from requests>=2.23.0->ultralytics) (3.3.2)\n",
            "Requirement already satisfied: idna<4,>=2.5 in /usr/local/lib/python3.10/dist-packages (from requests>=2.23.0->ultralytics) (3.7)\n",
            "Requirement already satisfied: urllib3<3,>=1.21.1 in /usr/local/lib/python3.10/dist-packages (from requests>=2.23.0->ultralytics) (2.0.7)\n",
            "Requirement already satisfied: certifi>=2017.4.17 in /usr/local/lib/python3.10/dist-packages (from requests>=2.23.0->ultralytics) (2024.7.4)\n",
            "Requirement already satisfied: filelock in /usr/local/lib/python3.10/dist-packages (from torch>=1.8.0->ultralytics) (3.15.4)\n",
            "Requirement already satisfied: typing-extensions>=4.8.0 in /usr/local/lib/python3.10/dist-packages (from torch>=1.8.0->ultralytics) (4.12.2)\n",
            "Requirement already satisfied: sympy in /usr/local/lib/python3.10/dist-packages (from torch>=1.8.0->ultralytics) (1.13.2)\n",
            "Requirement already satisfied: networkx in /usr/local/lib/python3.10/dist-packages (from torch>=1.8.0->ultralytics) (3.3)\n",
            "Requirement already satisfied: jinja2 in /usr/local/lib/python3.10/dist-packages (from torch>=1.8.0->ultralytics) (3.1.4)\n",
            "Requirement already satisfied: fsspec in /usr/local/lib/python3.10/dist-packages (from torch>=1.8.0->ultralytics) (2024.6.1)\n",
            "Requirement already satisfied: six>=1.5 in /usr/local/lib/python3.10/dist-packages (from python-dateutil>=2.7->matplotlib>=3.3.0->ultralytics) (1.16.0)\n",
            "Requirement already satisfied: MarkupSafe>=2.0 in /usr/local/lib/python3.10/dist-packages (from jinja2->torch>=1.8.0->ultralytics) (2.1.5)\n",
            "Requirement already satisfied: mpmath<1.4,>=1.1.0 in /usr/local/lib/python3.10/dist-packages (from sympy->torch>=1.8.0->ultralytics) (1.3.0)\n",
            "Downloading ultralytics-8.2.81-py3-none-any.whl (869 kB)\n",
            "\u001b[2K   \u001b[90m━━━━━━━━━━━━━━━━━━━━━━━━━━━━━━━━━━━━━━━━\u001b[0m \u001b[32m869.4/869.4 kB\u001b[0m \u001b[31m6.6 MB/s\u001b[0m eta \u001b[36m0:00:00\u001b[0m\n",
            "\u001b[?25hDownloading ultralytics_thop-2.0.5-py3-none-any.whl (25 kB)\n",
            "Downloading py_cpuinfo-9.0.0-py3-none-any.whl (22 kB)\n",
            "Installing collected packages: py-cpuinfo, ultralytics-thop, ultralytics\n",
            "Successfully installed py-cpuinfo-9.0.0 ultralytics-8.2.81 ultralytics-thop-2.0.5\n",
            "Requirement already satisfied: tensorflow in /usr/local/lib/python3.10/dist-packages (2.15.0)\n",
            "Requirement already satisfied: absl-py>=1.0.0 in /usr/local/lib/python3.10/dist-packages (from tensorflow) (1.4.0)\n",
            "Requirement already satisfied: astunparse>=1.6.0 in /usr/local/lib/python3.10/dist-packages (from tensorflow) (1.6.3)\n",
            "Requirement already satisfied: flatbuffers>=23.5.26 in /usr/local/lib/python3.10/dist-packages (from tensorflow) (24.3.25)\n",
            "Requirement already satisfied: gast!=0.5.0,!=0.5.1,!=0.5.2,>=0.2.1 in /usr/local/lib/python3.10/dist-packages (from tensorflow) (0.6.0)\n",
            "Requirement already satisfied: google-pasta>=0.1.1 in /usr/local/lib/python3.10/dist-packages (from tensorflow) (0.2.0)\n",
            "Requirement already satisfied: h5py>=2.9.0 in /usr/local/lib/python3.10/dist-packages (from tensorflow) (3.11.0)\n",
            "Requirement already satisfied: libclang>=13.0.0 in /usr/local/lib/python3.10/dist-packages (from tensorflow) (18.1.1)\n",
            "Requirement already satisfied: ml-dtypes~=0.2.0 in /usr/local/lib/python3.10/dist-packages (from tensorflow) (0.2.0)\n",
            "Requirement already satisfied: numpy<2.0.0,>=1.23.5 in /usr/local/lib/python3.10/dist-packages (from tensorflow) (1.26.4)\n",
            "Requirement already satisfied: opt-einsum>=2.3.2 in /usr/local/lib/python3.10/dist-packages (from tensorflow) (3.3.0)\n",
            "Requirement already satisfied: packaging in /usr/local/lib/python3.10/dist-packages (from tensorflow) (24.1)\n",
            "Requirement already satisfied: protobuf!=4.21.0,!=4.21.1,!=4.21.2,!=4.21.3,!=4.21.4,!=4.21.5,<5.0.0dev,>=3.20.3 in /usr/local/lib/python3.10/dist-packages (from tensorflow) (3.20.3)\n",
            "Requirement already satisfied: setuptools in /usr/local/lib/python3.10/dist-packages (from tensorflow) (71.0.4)\n",
            "Requirement already satisfied: six>=1.12.0 in /usr/local/lib/python3.10/dist-packages (from tensorflow) (1.16.0)\n",
            "Requirement already satisfied: termcolor>=1.1.0 in /usr/local/lib/python3.10/dist-packages (from tensorflow) (2.4.0)\n",
            "Requirement already satisfied: typing-extensions>=3.6.6 in /usr/local/lib/python3.10/dist-packages (from tensorflow) (4.12.2)\n",
            "Requirement already satisfied: wrapt<1.15,>=1.11.0 in /usr/local/lib/python3.10/dist-packages (from tensorflow) (1.14.1)\n",
            "Requirement already satisfied: tensorflow-io-gcs-filesystem>=0.23.1 in /usr/local/lib/python3.10/dist-packages (from tensorflow) (0.37.1)\n",
            "Requirement already satisfied: grpcio<2.0,>=1.24.3 in /usr/local/lib/python3.10/dist-packages (from tensorflow) (1.65.5)\n",
            "Requirement already satisfied: tensorboard<2.16,>=2.15 in /usr/local/lib/python3.10/dist-packages (from tensorflow) (2.15.2)\n",
            "Requirement already satisfied: tensorflow-estimator<2.16,>=2.15.0 in /usr/local/lib/python3.10/dist-packages (from tensorflow) (2.15.0)\n",
            "Requirement already satisfied: keras<2.16,>=2.15.0 in /usr/local/lib/python3.10/dist-packages (from tensorflow) (2.15.0)\n",
            "Requirement already satisfied: wheel<1.0,>=0.23.0 in /usr/local/lib/python3.10/dist-packages (from astunparse>=1.6.0->tensorflow) (0.44.0)\n",
            "Requirement already satisfied: google-auth<3,>=1.6.3 in /usr/local/lib/python3.10/dist-packages (from tensorboard<2.16,>=2.15->tensorflow) (2.27.0)\n",
            "Requirement already satisfied: google-auth-oauthlib<2,>=0.5 in /usr/local/lib/python3.10/dist-packages (from tensorboard<2.16,>=2.15->tensorflow) (1.2.1)\n",
            "Requirement already satisfied: markdown>=2.6.8 in /usr/local/lib/python3.10/dist-packages (from tensorboard<2.16,>=2.15->tensorflow) (3.7)\n",
            "Requirement already satisfied: requests<3,>=2.21.0 in /usr/local/lib/python3.10/dist-packages (from tensorboard<2.16,>=2.15->tensorflow) (2.32.3)\n",
            "Requirement already satisfied: tensorboard-data-server<0.8.0,>=0.7.0 in /usr/local/lib/python3.10/dist-packages (from tensorboard<2.16,>=2.15->tensorflow) (0.7.2)\n",
            "Requirement already satisfied: werkzeug>=1.0.1 in /usr/local/lib/python3.10/dist-packages (from tensorboard<2.16,>=2.15->tensorflow) (3.0.3)\n",
            "Requirement already satisfied: cachetools<6.0,>=2.0.0 in /usr/local/lib/python3.10/dist-packages (from google-auth<3,>=1.6.3->tensorboard<2.16,>=2.15->tensorflow) (5.5.0)\n",
            "Requirement already satisfied: pyasn1-modules>=0.2.1 in /usr/local/lib/python3.10/dist-packages (from google-auth<3,>=1.6.3->tensorboard<2.16,>=2.15->tensorflow) (0.4.0)\n",
            "Requirement already satisfied: rsa<5,>=3.1.4 in /usr/local/lib/python3.10/dist-packages (from google-auth<3,>=1.6.3->tensorboard<2.16,>=2.15->tensorflow) (4.9)\n",
            "Requirement already satisfied: requests-oauthlib>=0.7.0 in /usr/local/lib/python3.10/dist-packages (from google-auth-oauthlib<2,>=0.5->tensorboard<2.16,>=2.15->tensorflow) (2.0.0)\n",
            "Requirement already satisfied: charset-normalizer<4,>=2 in /usr/local/lib/python3.10/dist-packages (from requests<3,>=2.21.0->tensorboard<2.16,>=2.15->tensorflow) (3.3.2)\n",
            "Requirement already satisfied: idna<4,>=2.5 in /usr/local/lib/python3.10/dist-packages (from requests<3,>=2.21.0->tensorboard<2.16,>=2.15->tensorflow) (3.7)\n",
            "Requirement already satisfied: urllib3<3,>=1.21.1 in /usr/local/lib/python3.10/dist-packages (from requests<3,>=2.21.0->tensorboard<2.16,>=2.15->tensorflow) (2.0.7)\n",
            "Requirement already satisfied: certifi>=2017.4.17 in /usr/local/lib/python3.10/dist-packages (from requests<3,>=2.21.0->tensorboard<2.16,>=2.15->tensorflow) (2024.7.4)\n",
            "Requirement already satisfied: MarkupSafe>=2.1.1 in /usr/local/lib/python3.10/dist-packages (from werkzeug>=1.0.1->tensorboard<2.16,>=2.15->tensorflow) (2.1.5)\n",
            "Requirement already satisfied: pyasn1<0.7.0,>=0.4.6 in /usr/local/lib/python3.10/dist-packages (from pyasn1-modules>=0.2.1->google-auth<3,>=1.6.3->tensorboard<2.16,>=2.15->tensorflow) (0.6.0)\n",
            "Requirement already satisfied: oauthlib>=3.0.0 in /usr/local/lib/python3.10/dist-packages (from requests-oauthlib>=0.7.0->google-auth-oauthlib<2,>=0.5->tensorboard<2.16,>=2.15->tensorflow) (3.2.2)\n",
            "Collecting dill\n",
            "  Downloading dill-0.3.8-py3-none-any.whl.metadata (10 kB)\n",
            "Downloading dill-0.3.8-py3-none-any.whl (116 kB)\n",
            "\u001b[2K   \u001b[90m━━━━━━━━━━━━━━━━━━━━━━━━━━━━━━━━━━━━━━━━\u001b[0m \u001b[32m116.3/116.3 kB\u001b[0m \u001b[31m1.3 MB/s\u001b[0m eta \u001b[36m0:00:00\u001b[0m\n",
            "\u001b[?25hInstalling collected packages: dill\n",
            "Successfully installed dill-0.3.8\n",
            "\u001b[H\u001b[2J"
          ]
        }
      ]
    },
    {
      "cell_type": "code",
      "source": [
        "import os\n",
        "from google.colab import drive\n",
        "\n",
        "def mount_drive_if_not_mounted(mount_point='/content/drive'):\n",
        "    \"\"\"\n",
        "    Checks if Google Drive is mounted at the specified mount_point.\n",
        "    If not, mounts the drive.\n",
        "\n",
        "    Parameters:\n",
        "    - mount_point (str): The directory where Google Drive is mounted.\n",
        "    \"\"\"\n",
        "    # Define the path to 'My Drive' within the mount point\n",
        "    my_drive_path = os.path.join(mount_point, 'My Drive')\n",
        "\n",
        "    # Check if 'My Drive' directory exists\n",
        "    if os.path.isdir(my_drive_path):\n",
        "        print(\"✅ Google Drive is already mounted.\")\n",
        "    else:\n",
        "        print(\"🔄 Mounting Google Drive...\")\n",
        "        drive.mount(mount_point)\n",
        "        # Optional: Verify the mount was successful\n",
        "        if os.path.isdir(my_drive_path):\n",
        "            print(\"✅ Google Drive mounted successfully.\")\n",
        "        else:\n",
        "            print(\"❌ Failed to mount Google Drive.\")\n",
        "\n",
        "# Usage\n",
        "mount_drive_if_not_mounted()"
      ],
      "metadata": {
        "colab": {
          "base_uri": "https://localhost:8080/"
        },
        "id": "vyPp_lCc_487",
        "outputId": "05c257b4-79f9-4553-87ee-b9c316df7da8"
      },
      "execution_count": 2,
      "outputs": [
        {
          "output_type": "stream",
          "name": "stdout",
          "text": [
            "🔄 Mounting Google Drive...\n",
            "Mounted at /content/drive\n",
            "✅ Google Drive mounted successfully.\n"
          ]
        }
      ]
    },
    {
      "cell_type": "code",
      "source": [
        "%mkdir /new\n",
        "%cp -r /content/drive/MyDrive/Data  /new -v\n",
        "\n"
      ],
      "metadata": {
        "colab": {
          "base_uri": "https://localhost:8080/"
        },
        "id": "GQa0B0ohJM0J",
        "outputId": "dc1c3ca3-d0a4-4066-cbf6-441b0b260c34"
      },
      "execution_count": 3,
      "outputs": [
        {
          "output_type": "stream",
          "name": "stdout",
          "text": [
            "'/content/drive/MyDrive/Data' -> '/new/Data'\n",
            "'/content/drive/MyDrive/Data/6_1.jpg' -> '/new/Data/6_1.jpg'\n",
            "'/content/drive/MyDrive/Data/2450_1.jpg' -> '/new/Data/2450_1.jpg'\n",
            "'/content/drive/MyDrive/Data/2608_1.jpg' -> '/new/Data/2608_1.jpg'\n",
            "'/content/drive/MyDrive/Data/870_1.jpg' -> '/new/Data/870_1.jpg'\n",
            "'/content/drive/MyDrive/Data/2680_1.jpg' -> '/new/Data/2680_1.jpg'\n",
            "'/content/drive/MyDrive/Data/607_1.jpg' -> '/new/Data/607_1.jpg'\n",
            "'/content/drive/MyDrive/Data/2424_1.jpg' -> '/new/Data/2424_1.jpg'\n",
            "'/content/drive/MyDrive/Data/2393_1.jpg' -> '/new/Data/2393_1.jpg'\n",
            "'/content/drive/MyDrive/Data/2749_1.jpg' -> '/new/Data/2749_1.jpg'\n",
            "'/content/drive/MyDrive/Data/2641_1.jpg' -> '/new/Data/2641_1.jpg'\n",
            "'/content/drive/MyDrive/Data/2468_1.jpg' -> '/new/Data/2468_1.jpg'\n",
            "'/content/drive/MyDrive/Data/2721_1.jpg' -> '/new/Data/2721_1.jpg'\n",
            "'/content/drive/MyDrive/Data/2637_1.jpg' -> '/new/Data/2637_1.jpg'\n",
            "'/content/drive/MyDrive/Data/2644_1.jpg' -> '/new/Data/2644_1.jpg'\n",
            "'/content/drive/MyDrive/Data/2681_1.jpg' -> '/new/Data/2681_1.jpg'\n",
            "'/content/drive/MyDrive/Data/266_1.jpg' -> '/new/Data/266_1.jpg'\n",
            "'/content/drive/MyDrive/Data/2853_1.jpg' -> '/new/Data/2853_1.jpg'\n",
            "'/content/drive/MyDrive/Data/best.pt' -> '/new/Data/best.pt'\n",
            "'/content/drive/MyDrive/Data/2766_1.jpg' -> '/new/Data/2766_1.jpg'\n",
            "'/content/drive/MyDrive/Data/2725_1.jpg' -> '/new/Data/2725_1.jpg'\n",
            "'/content/drive/MyDrive/Data/2417_1.jpg' -> '/new/Data/2417_1.jpg'\n",
            "'/content/drive/MyDrive/Data/2799_1.jpg' -> '/new/Data/2799_1.jpg'\n",
            "'/content/drive/MyDrive/Data/2764_1.jpg' -> '/new/Data/2764_1.jpg'\n",
            "'/content/drive/MyDrive/Data/2775_1.jpg' -> '/new/Data/2775_1.jpg'\n",
            "'/content/drive/MyDrive/Data/2761_1.jpg' -> '/new/Data/2761_1.jpg'\n",
            "'/content/drive/MyDrive/Data/2686_1.jpg' -> '/new/Data/2686_1.jpg'\n",
            "'/content/drive/MyDrive/Data/2816_1.jpg' -> '/new/Data/2816_1.jpg'\n",
            "'/content/drive/MyDrive/Data/2621_1.jpg' -> '/new/Data/2621_1.jpg'\n",
            "'/content/drive/MyDrive/Data/2518_1.jpg' -> '/new/Data/2518_1.jpg'\n",
            "'/content/drive/MyDrive/Data/1966_1.jpg' -> '/new/Data/1966_1.jpg'\n",
            "'/content/drive/MyDrive/Data/2566_1.jpg' -> '/new/Data/2566_1.jpg'\n",
            "'/content/drive/MyDrive/Data/2261_1.jpg' -> '/new/Data/2261_1.jpg'\n",
            "'/content/drive/MyDrive/Data/2393_4.jpg' -> '/new/Data/2393_4.jpg'\n",
            "'/content/drive/MyDrive/Data/2701_1.jpg' -> '/new/Data/2701_1.jpg'\n",
            "'/content/drive/MyDrive/Data/2349_1.jpg' -> '/new/Data/2349_1.jpg'\n",
            "'/content/drive/MyDrive/Data/2227_1.jpg' -> '/new/Data/2227_1.jpg'\n",
            "'/content/drive/MyDrive/Data/2613_1.jpg' -> '/new/Data/2613_1.jpg'\n",
            "'/content/drive/MyDrive/Data/2603_1.jpg' -> '/new/Data/2603_1.jpg'\n",
            "'/content/drive/MyDrive/Data/2513_1.jpg' -> '/new/Data/2513_1.jpg'\n",
            "'/content/drive/MyDrive/Data/2737_1.jpg' -> '/new/Data/2737_1.jpg'\n",
            "'/content/drive/MyDrive/Data/2612_1.jpg' -> '/new/Data/2612_1.jpg'\n",
            "'/content/drive/MyDrive/Data/2718_1.jpg' -> '/new/Data/2718_1.jpg'\n",
            "'/content/drive/MyDrive/Data/2541_1.jpg' -> '/new/Data/2541_1.jpg'\n",
            "'/content/drive/MyDrive/Data/2752_1.jpg' -> '/new/Data/2752_1.jpg'\n",
            "'/content/drive/MyDrive/Data/2536_1.jpg' -> '/new/Data/2536_1.jpg'\n",
            "'/content/drive/MyDrive/Data/2733_1.jpg' -> '/new/Data/2733_1.jpg'\n",
            "'/content/drive/MyDrive/Data/2773_1.jpg' -> '/new/Data/2773_1.jpg'\n",
            "'/content/drive/MyDrive/Data/594_1.jpg' -> '/new/Data/594_1.jpg'\n",
            "'/content/drive/MyDrive/Data/2790_1.jpg' -> '/new/Data/2790_1.jpg'\n",
            "'/content/drive/MyDrive/Data/2755_1.jpg' -> '/new/Data/2755_1.jpg'\n",
            "'/content/drive/MyDrive/Data/2690_1.jpg' -> '/new/Data/2690_1.jpg'\n",
            "'/content/drive/MyDrive/Data/2596_1.jpg' -> '/new/Data/2596_1.jpg'\n",
            "'/content/drive/MyDrive/Data/2774_1.jpg' -> '/new/Data/2774_1.jpg'\n",
            "'/content/drive/MyDrive/Data/2785_1.jpg' -> '/new/Data/2785_1.jpg'\n",
            "'/content/drive/MyDrive/Data/2736_1.jpg' -> '/new/Data/2736_1.jpg'\n",
            "'/content/drive/MyDrive/Data/2528_1.jpg' -> '/new/Data/2528_1.jpg'\n",
            "'/content/drive/MyDrive/Data/2601_1.jpg' -> '/new/Data/2601_1.jpg'\n",
            "'/content/drive/MyDrive/Data/2797_1.jpg' -> '/new/Data/2797_1.jpg'\n",
            "'/content/drive/MyDrive/Data/2600_1.jpg' -> '/new/Data/2600_1.jpg'\n",
            "'/content/drive/MyDrive/Data/2720_1.jpg' -> '/new/Data/2720_1.jpg'\n",
            "'/content/drive/MyDrive/Data/2699_1.jpg' -> '/new/Data/2699_1.jpg'\n",
            "'/content/drive/MyDrive/Data/2657_1.jpg' -> '/new/Data/2657_1.jpg'\n",
            "'/content/drive/MyDrive/Data/2730_1.jpg' -> '/new/Data/2730_1.jpg'\n",
            "'/content/drive/MyDrive/Data/2747_1.jpg' -> '/new/Data/2747_1.jpg'\n",
            "'/content/drive/MyDrive/Data/2728_1.jpg' -> '/new/Data/2728_1.jpg'\n",
            "'/content/drive/MyDrive/Data/2729_1.jpg' -> '/new/Data/2729_1.jpg'\n",
            "'/content/drive/MyDrive/Data/612_1.jpg' -> '/new/Data/612_1.jpg'\n",
            "'/content/drive/MyDrive/Data/2740_1.jpg' -> '/new/Data/2740_1.jpg'\n",
            "'/content/drive/MyDrive/Data/2673_1.jpg' -> '/new/Data/2673_1.jpg'\n",
            "'/content/drive/MyDrive/Data/14_1.jpg' -> '/new/Data/14_1.jpg'\n",
            "'/content/drive/MyDrive/Data/7_1.jpg' -> '/new/Data/7_1.jpg'\n",
            "'/content/drive/MyDrive/Data/2691_1.jpg' -> '/new/Data/2691_1.jpg'\n",
            "'/content/drive/MyDrive/Data/2671_1.jpg' -> '/new/Data/2671_1.jpg'\n",
            "'/content/drive/MyDrive/Data/2592_1.jpg' -> '/new/Data/2592_1.jpg'\n",
            "'/content/drive/MyDrive/Data/2514_1.jpg' -> '/new/Data/2514_1.jpg'\n",
            "'/content/drive/MyDrive/Data/2588_1.jpg' -> '/new/Data/2588_1.jpg'\n",
            "'/content/drive/MyDrive/Data/2647_1.jpg' -> '/new/Data/2647_1.jpg'\n",
            "'/content/drive/MyDrive/Data/2692_1.jpg' -> '/new/Data/2692_1.jpg'\n",
            "'/content/drive/MyDrive/Data/2586_1.jpg' -> '/new/Data/2586_1.jpg'\n",
            "'/content/drive/MyDrive/Data/2442_1.jpg' -> '/new/Data/2442_1.jpg'\n",
            "'/content/drive/MyDrive/Data/15_1.jpg' -> '/new/Data/15_1.jpg'\n",
            "'/content/drive/MyDrive/Data/2629_1.jpg' -> '/new/Data/2629_1.jpg'\n",
            "'/content/drive/MyDrive/Data/2564_1.jpg' -> '/new/Data/2564_1.jpg'\n",
            "'/content/drive/MyDrive/Data/2617_1.jpg' -> '/new/Data/2617_1.jpg'\n",
            "'/content/drive/MyDrive/Data/2762_1.jpg' -> '/new/Data/2762_1.jpg'\n",
            "'/content/drive/MyDrive/Data/2781_1.jpg' -> '/new/Data/2781_1.jpg'\n",
            "'/content/drive/MyDrive/Data/2809_1.jpg' -> '/new/Data/2809_1.jpg'\n",
            "'/content/drive/MyDrive/Data/2780_1.jpg' -> '/new/Data/2780_1.jpg'\n",
            "'/content/drive/MyDrive/Data/2798_1.jpg' -> '/new/Data/2798_1.jpg'\n",
            "'/content/drive/MyDrive/Data/2756_1.jpg' -> '/new/Data/2756_1.jpg'\n",
            "'/content/drive/MyDrive/Data/2713_1.jpg' -> '/new/Data/2713_1.jpg'\n",
            "'/content/drive/MyDrive/Data/2754_1.jpg' -> '/new/Data/2754_1.jpg'\n",
            "'/content/drive/MyDrive/Data/2459_1.jpg' -> '/new/Data/2459_1.jpg'\n",
            "'/content/drive/MyDrive/Data/2697_1.jpg' -> '/new/Data/2697_1.jpg'\n",
            "'/content/drive/MyDrive/Data/2772_1.jpg' -> '/new/Data/2772_1.jpg'\n",
            "'/content/drive/MyDrive/Data/2315_1.jpg' -> '/new/Data/2315_1.jpg'\n",
            "'/content/drive/MyDrive/Data/2745_1.jpg' -> '/new/Data/2745_1.jpg'\n",
            "'/content/drive/MyDrive/Data/2537_1.jpg' -> '/new/Data/2537_1.jpg'\n",
            "'/content/drive/MyDrive/Data/2049_1.jpg' -> '/new/Data/2049_1.jpg'\n",
            "'/content/drive/MyDrive/Data/2335_1.jpg' -> '/new/Data/2335_1.jpg'\n",
            "'/content/drive/MyDrive/Data/2480_1.jpg' -> '/new/Data/2480_1.jpg'\n",
            "'/content/drive/MyDrive/Data/2750_1.jpg' -> '/new/Data/2750_1.jpg'\n",
            "'/content/drive/MyDrive/Data/2665_1.jpg' -> '/new/Data/2665_1.jpg'\n",
            "'/content/drive/MyDrive/Data/2663_1.jpg' -> '/new/Data/2663_1.jpg'\n",
            "'/content/drive/MyDrive/Data/2672_1.jpg' -> '/new/Data/2672_1.jpg'\n",
            "'/content/drive/MyDrive/Data/2661_1.jpg' -> '/new/Data/2661_1.jpg'\n",
            "'/content/drive/MyDrive/Data/2695_1.jpg' -> '/new/Data/2695_1.jpg'\n",
            "'/content/drive/MyDrive/Data/2693_1.jpg' -> '/new/Data/2693_1.jpg'\n",
            "'/content/drive/MyDrive/Data/2684_1.jpg' -> '/new/Data/2684_1.jpg'\n",
            "'/content/drive/MyDrive/Data/2659_1.jpg' -> '/new/Data/2659_1.jpg'\n",
            "'/content/drive/MyDrive/Data/2848_1.jpg' -> '/new/Data/2848_1.jpg'\n",
            "'/content/drive/MyDrive/Data/2849_1.jpg' -> '/new/Data/2849_1.jpg'\n",
            "'/content/drive/MyDrive/Data/2866_1.jpg' -> '/new/Data/2866_1.jpg'\n",
            "'/content/drive/MyDrive/Data/2676_1.jpg' -> '/new/Data/2676_1.jpg'\n",
            "'/content/drive/MyDrive/Data/2670_1.jpg' -> '/new/Data/2670_1.jpg'\n",
            "'/content/drive/MyDrive/Data/2682_1.jpg' -> '/new/Data/2682_1.jpg'\n",
            "'/content/drive/MyDrive/Data/2683_1.jpg' -> '/new/Data/2683_1.jpg'\n",
            "'/content/drive/MyDrive/Data/2677_1.jpg' -> '/new/Data/2677_1.jpg'\n",
            "'/content/drive/MyDrive/Data/2794_1.jpg' -> '/new/Data/2794_1.jpg'\n",
            "'/content/drive/MyDrive/Data/2802_1.jpg' -> '/new/Data/2802_1.jpg'\n",
            "'/content/drive/MyDrive/Data/2123_1.jpg' -> '/new/Data/2123_1.jpg'\n",
            "'/content/drive/MyDrive/Data/2787_1.jpg' -> '/new/Data/2787_1.jpg'\n",
            "'/content/drive/MyDrive/Data/2777_1.jpg' -> '/new/Data/2777_1.jpg'\n",
            "'/content/drive/MyDrive/Data/2784_1.jpg' -> '/new/Data/2784_1.jpg'\n",
            "'/content/drive/MyDrive/Data/2599_1.jpg' -> '/new/Data/2599_1.jpg'\n",
            "'/content/drive/MyDrive/Data/2746_1.jpg' -> '/new/Data/2746_1.jpg'\n",
            "'/content/drive/MyDrive/Data/2786_1.jpg' -> '/new/Data/2786_1.jpg'\n",
            "'/content/drive/MyDrive/Data/2847_2.jpg' -> '/new/Data/2847_2.jpg'\n",
            "'/content/drive/MyDrive/Data/2251_1.jpg' -> '/new/Data/2251_1.jpg'\n",
            "'/content/drive/MyDrive/Data/2796_1.jpg' -> '/new/Data/2796_1.jpg'\n",
            "'/content/drive/MyDrive/Data/2768_1.jpg' -> '/new/Data/2768_1.jpg'\n",
            "'/content/drive/MyDrive/Data/2783_1.jpg' -> '/new/Data/2783_1.jpg'\n",
            "'/content/drive/MyDrive/Data/2779_1.jpg' -> '/new/Data/2779_1.jpg'\n",
            "'/content/drive/MyDrive/Data/2760_1.jpg' -> '/new/Data/2760_1.jpg'\n",
            "'/content/drive/MyDrive/Data/2554_1.jpg' -> '/new/Data/2554_1.jpg'\n",
            "'/content/drive/MyDrive/Data/2374_1.jpg' -> '/new/Data/2374_1.jpg'\n",
            "'/content/drive/MyDrive/Data/2795_1.jpg' -> '/new/Data/2795_1.jpg'\n",
            "'/content/drive/MyDrive/Data/2577_1.jpg' -> '/new/Data/2577_1.jpg'\n",
            "'/content/drive/MyDrive/Data/2582_1.jpg' -> '/new/Data/2582_1.jpg'\n",
            "'/content/drive/MyDrive/Data/2476_1.jpg' -> '/new/Data/2476_1.jpg'\n",
            "'/content/drive/MyDrive/Data/2495_1.jpg' -> '/new/Data/2495_1.jpg'\n",
            "'/content/drive/MyDrive/Data/2587_1.jpg' -> '/new/Data/2587_1.jpg'\n",
            "'/content/drive/MyDrive/Data/2722_1.jpg' -> '/new/Data/2722_1.jpg'\n",
            "'/content/drive/MyDrive/Data/2631_1.jpg' -> '/new/Data/2631_1.jpg'\n",
            "'/content/drive/MyDrive/Data/2415_1.jpg' -> '/new/Data/2415_1.jpg'\n",
            "'/content/drive/MyDrive/Data/12_1.jpg' -> '/new/Data/12_1.jpg'\n",
            "'/content/drive/MyDrive/Data/797_1.jpg' -> '/new/Data/797_1.jpg'\n",
            "'/content/drive/MyDrive/Data/2487_1.jpg' -> '/new/Data/2487_1.jpg'\n",
            "'/content/drive/MyDrive/Data/844_1.jpg' -> '/new/Data/844_1.jpg'\n",
            "'/content/drive/MyDrive/Data/2607_1.jpg' -> '/new/Data/2607_1.jpg'\n",
            "'/content/drive/MyDrive/Data/2726_1.jpg' -> '/new/Data/2726_1.jpg'\n",
            "'/content/drive/MyDrive/Data/2_1.jpg' -> '/new/Data/2_1.jpg'\n",
            "'/content/drive/MyDrive/Data/2723_1.jpg' -> '/new/Data/2723_1.jpg'\n",
            "'/content/drive/MyDrive/Data/2583_1.jpg' -> '/new/Data/2583_1.jpg'\n",
            "'/content/drive/MyDrive/Data/2771_1.jpg' -> '/new/Data/2771_1.jpg'\n",
            "'/content/drive/MyDrive/Data/2751_1.jpg' -> '/new/Data/2751_1.jpg'\n",
            "'/content/drive/MyDrive/Data/242_1.jpg' -> '/new/Data/242_1.jpg'\n",
            "'/content/drive/MyDrive/Data/2530_1.jpg' -> '/new/Data/2530_1.jpg'\n",
            "'/content/drive/MyDrive/Data/2743_1.jpg' -> '/new/Data/2743_1.jpg'\n",
            "'/content/drive/MyDrive/Data/606_1.jpg' -> '/new/Data/606_1.jpg'\n",
            "'/content/drive/MyDrive/Data/2782_1.jpg' -> '/new/Data/2782_1.jpg'\n",
            "'/content/drive/MyDrive/Data/2623_1.jpg' -> '/new/Data/2623_1.jpg'\n",
            "'/content/drive/MyDrive/Data/2625_1.jpg' -> '/new/Data/2625_1.jpg'\n",
            "'/content/drive/MyDrive/Data/2265_1.jpg' -> '/new/Data/2265_1.jpg'\n",
            "'/content/drive/MyDrive/Data/2451_1.jpg' -> '/new/Data/2451_1.jpg'\n",
            "'/content/drive/MyDrive/Data/2626_1.jpg' -> '/new/Data/2626_1.jpg'\n",
            "'/content/drive/MyDrive/Data/2640_1.jpg' -> '/new/Data/2640_1.jpg'\n",
            "'/content/drive/MyDrive/Data/2679_1.jpg' -> '/new/Data/2679_1.jpg'\n",
            "'/content/drive/MyDrive/Data/10_1.jpg' -> '/new/Data/10_1.jpg'\n",
            "'/content/drive/MyDrive/Data/2574_1.jpg' -> '/new/Data/2574_1.jpg'\n",
            "'/content/drive/MyDrive/Data/2364_1.jpg' -> '/new/Data/2364_1.jpg'\n",
            "'/content/drive/MyDrive/Data/9_1.jpg' -> '/new/Data/9_1.jpg'\n",
            "'/content/drive/MyDrive/Data/2560_1.jpg' -> '/new/Data/2560_1.jpg'\n",
            "'/content/drive/MyDrive/Data/2535_1.jpg' -> '/new/Data/2535_1.jpg'\n",
            "'/content/drive/MyDrive/Data/2778_1.jpg' -> '/new/Data/2778_1.jpg'\n",
            "'/content/drive/MyDrive/Data/2845_1.jpg' -> '/new/Data/2845_1.jpg'\n",
            "'/content/drive/MyDrive/Data/21_1.jpg' -> '/new/Data/21_1.jpg'\n",
            "'/content/drive/MyDrive/Data/16_1.jpg' -> '/new/Data/16_1.jpg'\n",
            "'/content/drive/MyDrive/Data/2856_1.jpg' -> '/new/Data/2856_1.jpg'\n",
            "'/content/drive/MyDrive/Data/2867_1.jpg' -> '/new/Data/2867_1.jpg'\n",
            "'/content/drive/MyDrive/Data/2861_1.jpg' -> '/new/Data/2861_1.jpg'\n",
            "'/content/drive/MyDrive/Data/2850_1.jpg' -> '/new/Data/2850_1.jpg'\n",
            "'/content/drive/MyDrive/Data/2842_1.jpg' -> '/new/Data/2842_1.jpg'\n",
            "'/content/drive/MyDrive/Data/2860_1.jpg' -> '/new/Data/2860_1.jpg'\n",
            "'/content/drive/MyDrive/Data/2855_1.jpg' -> '/new/Data/2855_1.jpg'\n",
            "'/content/drive/MyDrive/Data/2854_1.jpg' -> '/new/Data/2854_1.jpg'\n",
            "'/content/drive/MyDrive/Data/2846_1.jpg' -> '/new/Data/2846_1.jpg'\n",
            "'/content/drive/MyDrive/Data/2897_1.jpg' -> '/new/Data/2897_1.jpg'\n",
            "'/content/drive/MyDrive/Data/2894_1.jpg' -> '/new/Data/2894_1.jpg'\n",
            "'/content/drive/MyDrive/Data/2905_1.jpg' -> '/new/Data/2905_1.jpg'\n",
            "'/content/drive/MyDrive/Data/2890_1.jpg' -> '/new/Data/2890_1.jpg'\n",
            "'/content/drive/MyDrive/Data/2879_1.jpg' -> '/new/Data/2879_1.jpg'\n",
            "'/content/drive/MyDrive/Data/2891_1.jpg' -> '/new/Data/2891_1.jpg'\n",
            "'/content/drive/MyDrive/Data/2904_1.jpg' -> '/new/Data/2904_1.jpg'\n",
            "'/content/drive/MyDrive/Data/2901_1.jpg' -> '/new/Data/2901_1.jpg'\n",
            "'/content/drive/MyDrive/Data/2880_1.jpg' -> '/new/Data/2880_1.jpg'\n",
            "'/content/drive/MyDrive/Data/2893_1.jpg' -> '/new/Data/2893_1.jpg'\n",
            "'/content/drive/MyDrive/Data/2892_1.jpg' -> '/new/Data/2892_1.jpg'\n",
            "'/content/drive/MyDrive/Data/2885_1.jpg' -> '/new/Data/2885_1.jpg'\n",
            "'/content/drive/MyDrive/Data/2896_1.jpg' -> '/new/Data/2896_1.jpg'\n",
            "'/content/drive/MyDrive/Data/2908_1.jpg' -> '/new/Data/2908_1.jpg'\n",
            "'/content/drive/MyDrive/Data/2899_1.jpg' -> '/new/Data/2899_1.jpg'\n",
            "'/content/drive/MyDrive/Data/2895_1.jpg' -> '/new/Data/2895_1.jpg'\n",
            "'/content/drive/MyDrive/Data/2900_1.jpg' -> '/new/Data/2900_1.jpg'\n",
            "'/content/drive/MyDrive/Data/23_1.jpg' -> '/new/Data/23_1.jpg'\n",
            "'/content/drive/MyDrive/Data/2886_1.jpg' -> '/new/Data/2886_1.jpg'\n",
            "'/content/drive/MyDrive/Data/2903_1.jpg' -> '/new/Data/2903_1.jpg'\n",
            "'/content/drive/MyDrive/Data/2998_1.jpg' -> '/new/Data/2998_1.jpg'\n",
            "'/content/drive/MyDrive/Data/3009_1.jpg' -> '/new/Data/3009_1.jpg'\n",
            "'/content/drive/MyDrive/Data/2888_1.jpg' -> '/new/Data/2888_1.jpg'\n",
            "'/content/drive/MyDrive/Data/2884_1.jpg' -> '/new/Data/2884_1.jpg'\n",
            "'/content/drive/MyDrive/Data/26_1.jpg' -> '/new/Data/26_1.jpg'\n",
            "'/content/drive/MyDrive/Data/3026_1.jpg' -> '/new/Data/3026_1.jpg'\n",
            "'/content/drive/MyDrive/Data/2906_1.jpg' -> '/new/Data/2906_1.jpg'\n",
            "'/content/drive/MyDrive/Data/27_1.jpg' -> '/new/Data/27_1.jpg'\n",
            "'/content/drive/MyDrive/Data/3027_1.jpg' -> '/new/Data/3027_1.jpg'\n",
            "'/content/drive/MyDrive/Data/2907_1.jpg' -> '/new/Data/2907_1.jpg'\n",
            "'/content/drive/MyDrive/Data/2912_1.jpg' -> '/new/Data/2912_1.jpg'\n",
            "'/content/drive/MyDrive/Data/2910_1.jpg' -> '/new/Data/2910_1.jpg'\n",
            "'/content/drive/MyDrive/Data/3031_1.jpg' -> '/new/Data/3031_1.jpg'\n",
            "'/content/drive/MyDrive/Data/2918_1.jpg' -> '/new/Data/2918_1.jpg'\n",
            "'/content/drive/MyDrive/Data/2927_1.jpg' -> '/new/Data/2927_1.jpg'\n",
            "'/content/drive/MyDrive/Data/3032_1.jpg' -> '/new/Data/3032_1.jpg'\n",
            "'/content/drive/MyDrive/Data/25_1.jpg' -> '/new/Data/25_1.jpg'\n",
            "'/content/drive/MyDrive/Data/2926_1.jpg' -> '/new/Data/2926_1.jpg'\n",
            "'/content/drive/MyDrive/Data/2921_1.jpg' -> '/new/Data/2921_1.jpg'\n",
            "'/content/drive/MyDrive/Data/2928_1.jpg' -> '/new/Data/2928_1.jpg'\n",
            "'/content/drive/MyDrive/Data/2917_1.jpg' -> '/new/Data/2917_1.jpg'\n",
            "'/content/drive/MyDrive/Data/2920_1.jpg' -> '/new/Data/2920_1.jpg'\n",
            "'/content/drive/MyDrive/Data/3035_1.jpg' -> '/new/Data/3035_1.jpg'\n",
            "'/content/drive/MyDrive/Data/2909_1.jpg' -> '/new/Data/2909_1.jpg'\n",
            "'/content/drive/MyDrive/Data/2913_1.jpg' -> '/new/Data/2913_1.jpg'\n",
            "'/content/drive/MyDrive/Data/2914_1.jpg' -> '/new/Data/2914_1.jpg'\n",
            "'/content/drive/MyDrive/Data/3036_1.jpg' -> '/new/Data/3036_1.jpg'\n",
            "'/content/drive/MyDrive/Data/24_1.jpg' -> '/new/Data/24_1.jpg'\n",
            "'/content/drive/MyDrive/Data/2911_1.jpg' -> '/new/Data/2911_1.jpg'\n",
            "'/content/drive/MyDrive/Data/2919_1.jpg' -> '/new/Data/2919_1.jpg'\n",
            "'/content/drive/MyDrive/Data/2922_1.jpg' -> '/new/Data/2922_1.jpg'\n",
            "'/content/drive/MyDrive/Data/2915_1.jpg' -> '/new/Data/2915_1.jpg'\n",
            "'/content/drive/MyDrive/Data/2924_1.jpg' -> '/new/Data/2924_1.jpg'\n",
            "'/content/drive/MyDrive/Data/3037_1.jpg' -> '/new/Data/3037_1.jpg'\n",
            "'/content/drive/MyDrive/Data/3004_1.jpg' -> '/new/Data/3004_1.jpg'\n",
            "'/content/drive/MyDrive/Data/3005_1.jpg' -> '/new/Data/3005_1.jpg'\n",
            "'/content/drive/MyDrive/Data/3021_1.jpg' -> '/new/Data/3021_1.jpg'\n",
            "'/content/drive/MyDrive/Data/3017_1.jpg' -> '/new/Data/3017_1.jpg'\n",
            "'/content/drive/MyDrive/Data/3019_1.jpg' -> '/new/Data/3019_1.jpg'\n",
            "'/content/drive/MyDrive/Data/3006_1.jpg' -> '/new/Data/3006_1.jpg'\n",
            "'/content/drive/MyDrive/Data/3018_1.jpg' -> '/new/Data/3018_1.jpg'\n",
            "'/content/drive/MyDrive/Data/2993_1.jpg' -> '/new/Data/2993_1.jpg'\n",
            "'/content/drive/MyDrive/Data/3015_1.jpg' -> '/new/Data/3015_1.jpg'\n",
            "'/content/drive/MyDrive/Data/3014_1.jpg' -> '/new/Data/3014_1.jpg'\n",
            "'/content/drive/MyDrive/Data/3008_1.jpg' -> '/new/Data/3008_1.jpg'\n",
            "'/content/drive/MyDrive/Data/3025_1.jpg' -> '/new/Data/3025_1.jpg'\n",
            "'/content/drive/MyDrive/Data/22_1.jpg' -> '/new/Data/22_1.jpg'\n",
            "'/content/drive/MyDrive/Data/3012_1.jpg' -> '/new/Data/3012_1.jpg'\n",
            "'/content/drive/MyDrive/Data/3013_1.jpg' -> '/new/Data/3013_1.jpg'\n",
            "'/content/drive/MyDrive/Data/3020_1.jpg' -> '/new/Data/3020_1.jpg'\n",
            "'/content/drive/MyDrive/Data/3011_1.jpg' -> '/new/Data/3011_1.jpg'\n",
            "'/content/drive/MyDrive/Data/3023_1.jpg' -> '/new/Data/3023_1.jpg'\n",
            "'/content/drive/MyDrive/Data/3022_1.jpg' -> '/new/Data/3022_1.jpg'\n",
            "'/content/drive/MyDrive/Data/2843_1.jpg' -> '/new/Data/2843_1.jpg'\n",
            "'/content/drive/MyDrive/Data/2980_1.jpg' -> '/new/Data/2980_1.jpg'\n",
            "'/content/drive/MyDrive/Data/2985_1.jpg' -> '/new/Data/2985_1.jpg'\n",
            "'/content/drive/MyDrive/Data/2975_1.jpg' -> '/new/Data/2975_1.jpg'\n",
            "'/content/drive/MyDrive/Data/2986_1.jpg' -> '/new/Data/2986_1.jpg'\n",
            "'/content/drive/MyDrive/Data/2991_1.jpg' -> '/new/Data/2991_1.jpg'\n",
            "'/content/drive/MyDrive/Data/2983_1.jpg' -> '/new/Data/2983_1.jpg'\n",
            "'/content/drive/MyDrive/Data/2942_1.jpg' -> '/new/Data/2942_1.jpg'\n",
            "'/content/drive/MyDrive/Data/17_1.jpg' -> '/new/Data/17_1.jpg'\n",
            "'/content/drive/MyDrive/Data/2962_1.jpg' -> '/new/Data/2962_1.jpg'\n",
            "'/content/drive/MyDrive/Data/2995_1.jpg' -> '/new/Data/2995_1.jpg'\n",
            "'/content/drive/MyDrive/Data/2953_1.jpg' -> '/new/Data/2953_1.jpg'\n",
            "'/content/drive/MyDrive/Data/2970_1.jpg' -> '/new/Data/2970_1.jpg'\n",
            "'/content/drive/MyDrive/Data/3089_1.jpg' -> '/new/Data/3089_1.jpg'\n",
            "'/content/drive/MyDrive/Data/2944_1.jpg' -> '/new/Data/2944_1.jpg'\n",
            "'/content/drive/MyDrive/Data/2943_1.jpg' -> '/new/Data/2943_1.jpg'\n",
            "'/content/drive/MyDrive/Data/2984_1.jpg' -> '/new/Data/2984_1.jpg'\n",
            "'/content/drive/MyDrive/Data/2947_1.jpg' -> '/new/Data/2947_1.jpg'\n",
            "'/content/drive/MyDrive/Data/2972_1.jpg' -> '/new/Data/2972_1.jpg'\n",
            "'/content/drive/MyDrive/Data/2950_1.jpg' -> '/new/Data/2950_1.jpg'\n",
            "'/content/drive/MyDrive/Data/2956_1.jpg' -> '/new/Data/2956_1.jpg'\n",
            "'/content/drive/MyDrive/Data/2981_1.jpg' -> '/new/Data/2981_1.jpg'\n",
            "'/content/drive/MyDrive/Data/2946_1.jpg' -> '/new/Data/2946_1.jpg'\n",
            "'/content/drive/MyDrive/Data/2979_1.jpg' -> '/new/Data/2979_1.jpg'\n",
            "'/content/drive/MyDrive/Data/2968_1.jpg' -> '/new/Data/2968_1.jpg'\n",
            "'/content/drive/MyDrive/Data/2939_1.jpg' -> '/new/Data/2939_1.jpg'\n",
            "'/content/drive/MyDrive/Data/2973_1.jpg' -> '/new/Data/2973_1.jpg'\n",
            "'/content/drive/MyDrive/Data/2961_1.jpg' -> '/new/Data/2961_1.jpg'\n",
            "'/content/drive/MyDrive/Data/2800_1.jpg' -> '/new/Data/2800_1.jpg'\n",
            "'/content/drive/MyDrive/Data/2852_1.jpg' -> '/new/Data/2852_1.jpg'\n",
            "'/content/drive/MyDrive/Data/2792_1.jpg' -> '/new/Data/2792_1.jpg'\n",
            "'/content/drive/MyDrive/Data/2818_1.jpg' -> '/new/Data/2818_1.jpg'\n",
            "'/content/drive/MyDrive/Data/2857_1.jpg' -> '/new/Data/2857_1.jpg'\n",
            "'/content/drive/MyDrive/Data/2841_1.jpg' -> '/new/Data/2841_1.jpg'\n",
            "'/content/drive/MyDrive/Data/2859_1.jpg' -> '/new/Data/2859_1.jpg'\n",
            "'/content/drive/MyDrive/Data/2863_1.jpg' -> '/new/Data/2863_1.jpg'\n",
            "'/content/drive/MyDrive/Data/2694_1.jpg' -> '/new/Data/2694_1.jpg'\n",
            "'/content/drive/MyDrive/Data/2694_2.jpg' -> '/new/Data/2694_2.jpg'\n",
            "'/content/drive/MyDrive/Data/2620_1.jpg' -> '/new/Data/2620_1.jpg'\n",
            "'/content/drive/MyDrive/Data/2298_1.jpg' -> '/new/Data/2298_1.jpg'\n",
            "'/content/drive/MyDrive/Data/2445_1.jpg' -> '/new/Data/2445_1.jpg'\n",
            "'/content/drive/MyDrive/Data/2653_1.jpg' -> '/new/Data/2653_1.jpg'\n",
            "'/content/drive/MyDrive/Data/2594_1.jpg' -> '/new/Data/2594_1.jpg'\n",
            "'/content/drive/MyDrive/Data/2689_1.jpg' -> '/new/Data/2689_1.jpg'\n",
            "'/content/drive/MyDrive/Data/2615_1.jpg' -> '/new/Data/2615_1.jpg'\n",
            "'/content/drive/MyDrive/Data/2465_1.jpg' -> '/new/Data/2465_1.jpg'\n",
            "'/content/drive/MyDrive/Data/2483_1.jpg' -> '/new/Data/2483_1.jpg'\n",
            "'/content/drive/MyDrive/Data/2525_1.jpg' -> '/new/Data/2525_1.jpg'\n",
            "'/content/drive/MyDrive/Data/2390_1.jpg' -> '/new/Data/2390_1.jpg'\n",
            "'/content/drive/MyDrive/Data/2614_1.jpg' -> '/new/Data/2614_1.jpg'\n",
            "'/content/drive/MyDrive/Data/2830_1.jpg' -> '/new/Data/2830_1.jpg'\n",
            "'/content/drive/MyDrive/Data/2839_1.jpg' -> '/new/Data/2839_1.jpg'\n",
            "'/content/drive/MyDrive/Data/2834_1.jpg' -> '/new/Data/2834_1.jpg'\n",
            "'/content/drive/MyDrive/Data/2801_1.jpg' -> '/new/Data/2801_1.jpg'\n",
            "'/content/drive/MyDrive/Data/2822_.jpg' -> '/new/Data/2822_.jpg'\n",
            "'/content/drive/MyDrive/Data/2828_1.jpg' -> '/new/Data/2828_1.jpg'\n",
            "'/content/drive/MyDrive/Data/2813_1.jpg' -> '/new/Data/2813_1.jpg'\n",
            "'/content/drive/MyDrive/Data/2836_1.jpg' -> '/new/Data/2836_1.jpg'\n",
            "'/content/drive/MyDrive/Data/2840_1.jpg' -> '/new/Data/2840_1.jpg'\n",
            "'/content/drive/MyDrive/Data/2835_1.jpg' -> '/new/Data/2835_1.jpg'\n",
            "'/content/drive/MyDrive/Data/2831_1.jpg' -> '/new/Data/2831_1.jpg'\n",
            "'/content/drive/MyDrive/Data/2829_1.jpg' -> '/new/Data/2829_1.jpg'\n",
            "'/content/drive/MyDrive/Data/2815_1.jpg' -> '/new/Data/2815_1.jpg'\n",
            "'/content/drive/MyDrive/Data/2817_1.jpg' -> '/new/Data/2817_1.jpg'\n",
            "'/content/drive/MyDrive/Data/2833_1.jpg' -> '/new/Data/2833_1.jpg'\n",
            "'/content/drive/MyDrive/Data/2806_1.jpg' -> '/new/Data/2806_1.jpg'\n",
            "'/content/drive/MyDrive/Data/2811_1.jpg' -> '/new/Data/2811_1.jpg'\n",
            "'/content/drive/MyDrive/Data/2820_1.jpg' -> '/new/Data/2820_1.jpg'\n",
            "'/content/drive/MyDrive/Data/2804_1.jpg' -> '/new/Data/2804_1.jpg'\n",
            "'/content/drive/MyDrive/Data/2838_1.jpg' -> '/new/Data/2838_1.jpg'\n",
            "'/content/drive/MyDrive/Data/2837_1.jpg' -> '/new/Data/2837_1.jpg'\n",
            "'/content/drive/MyDrive/Data/2832_1.jpg' -> '/new/Data/2832_1.jpg'\n",
            "'/content/drive/MyDrive/Data/2875_1.jpg' -> '/new/Data/2875_1.jpg'\n",
            "'/content/drive/MyDrive/Data/2869_1.jpg' -> '/new/Data/2869_1.jpg'\n",
            "'/content/drive/MyDrive/Data/2876_1.jpg' -> '/new/Data/2876_1.jpg'\n",
            "'/content/drive/MyDrive/Data/2877_1.jpg' -> '/new/Data/2877_1.jpg'\n",
            "'/content/drive/MyDrive/Data/2865_1.jpg' -> '/new/Data/2865_1.jpg'\n",
            "'/content/drive/MyDrive/Data/2868_1.jpg' -> '/new/Data/2868_1.jpg'\n",
            "'/content/drive/MyDrive/Data/2873_1.jpg' -> '/new/Data/2873_1.jpg'\n",
            "'/content/drive/MyDrive/Data/2870_1.jpg' -> '/new/Data/2870_1.jpg'\n",
            "'/content/drive/MyDrive/Data/2864_1.jpg' -> '/new/Data/2864_1.jpg'\n",
            "'/content/drive/MyDrive/Data/2872_1.jpg' -> '/new/Data/2872_1.jpg'\n",
            "'/content/drive/MyDrive/Data/2734_1.jpg' -> '/new/Data/2734_1.jpg'\n",
            "'/content/drive/MyDrive/Data/2767_1.jpg' -> '/new/Data/2767_1.jpg'\n",
            "'/content/drive/MyDrive/Data/2791_1.jpg' -> '/new/Data/2791_1.jpg'\n",
            "'/content/drive/MyDrive/Data/2763_1.jpg' -> '/new/Data/2763_1.jpg'\n",
            "'/content/drive/MyDrive/Data/2732_.jpg' -> '/new/Data/2732_.jpg'\n",
            "'/content/drive/MyDrive/Data/2789_1.jpg' -> '/new/Data/2789_1.jpg'\n",
            "'/content/drive/MyDrive/Data/2810_1.jpg' -> '/new/Data/2810_1.jpg'\n",
            "'/content/drive/MyDrive/Data/ResNet50_cow_id_all.h5' -> '/new/Data/ResNet50_cow_id_all.h5'\n",
            "'/content/drive/MyDrive/Data/int_to_ID_all_cows.yaml' -> '/new/Data/int_to_ID_all_cows.yaml'\n",
            "'/content/drive/MyDrive/Data/process.log' -> '/new/Data/process.log'\n",
            "'/content/drive/MyDrive/Data/color_file.png' -> '/new/Data/color_file.png'\n",
            "'/content/drive/MyDrive/Data/model.py' -> '/new/Data/model.py'\n"
          ]
        }
      ]
    },
    {
      "cell_type": "code",
      "execution_count": 4,
      "metadata": {
        "colab": {
          "base_uri": "https://localhost:8080/"
        },
        "id": "d_20i8vz9sx3",
        "outputId": "035468a6-14ec-4d84-970b-f4f817bfd3fa"
      },
      "outputs": [
        {
          "output_type": "stream",
          "name": "stdout",
          "text": [
            "/new/Data\n",
            "Processing file 1 of 349 -  3026_1.jpg\n",
            "{\"image_path\": \"3026_1.jpg\", \"cow_id\": \"3026\", \"confidence_score\": 1.0, \"temperature\": 0.5, \"threshold\": 0.5, \"quality\": \"Excellent\", \"error\": null}\n",
            "Processing file 2 of 349 -  2261_1.jpg\n",
            "{\"image_path\": \"2261_1.jpg\", \"cow_id\": \"2856\", \"confidence_score\": 0.75, \"temperature\": 0.5, \"threshold\": 0.5, \"quality\": \"Excellent\", \"error\": null}\n",
            "Processing file 3 of 349 -  2641_1.jpg\n"
          ]
        },
        {
          "output_type": "stream",
          "name": "stderr",
          "text": [
            "{\"error\": \"Cow ID prediction failed. Please check the image and model.\"}"
          ]
        },
        {
          "output_type": "stream",
          "name": "stdout",
          "text": [
            "Processing file 4 of 349 -  2528_1.jpg\n",
            "{\"image_path\": \"2528_1.jpg\", \"cow_id\": \"2528\", \"confidence_score\": 1.0, \"temperature\": 0.5, \"threshold\": 0.5, \"quality\": \"Very Good\", \"error\": null}\n",
            "Processing file 5 of 349 -  2750_1.jpg\n"
          ]
        },
        {
          "output_type": "stream",
          "name": "stderr",
          "text": [
            "WARNING:tensorflow:5 out of the last 5 calls to <function Model.make_predict_function.<locals>.predict_function at 0x79d96c13e200> triggered tf.function retracing. Tracing is expensive and the excessive number of tracings could be due to (1) creating @tf.function repeatedly in a loop, (2) passing tensors with different shapes, (3) passing Python objects instead of tensors. For (1), please define your @tf.function outside of the loop. For (2), @tf.function has reduce_retracing=True option that can avoid unnecessary retracing. For (3), please refer to https://www.tensorflow.org/guide/function#controlling_retracing and https://www.tensorflow.org/api_docs/python/tf/function for  more details.\n",
            "{\"error\": \"Cow ID prediction failed. Please check the image and model.\"}"
          ]
        },
        {
          "output_type": "stream",
          "name": "stdout",
          "text": [
            "Processing file 6 of 349 -  2745_1.jpg\n"
          ]
        },
        {
          "output_type": "stream",
          "name": "stderr",
          "text": [
            "WARNING:tensorflow:6 out of the last 6 calls to <function Model.make_predict_function.<locals>.predict_function at 0x79d92c2e28c0> triggered tf.function retracing. Tracing is expensive and the excessive number of tracings could be due to (1) creating @tf.function repeatedly in a loop, (2) passing tensors with different shapes, (3) passing Python objects instead of tensors. For (1), please define your @tf.function outside of the loop. For (2), @tf.function has reduce_retracing=True option that can avoid unnecessary retracing. For (3), please refer to https://www.tensorflow.org/guide/function#controlling_retracing and https://www.tensorflow.org/api_docs/python/tf/function for  more details.\n"
          ]
        },
        {
          "output_type": "stream",
          "name": "stdout",
          "text": [
            "{\"image_path\": \"2745_1.jpg\", \"cow_id\": \"2914\", \"confidence_score\": 0.36, \"temperature\": 0.5, \"threshold\": 0.5, \"quality\": \"Excellent\", \"error\": null}\n",
            "Processing file 7 of 349 -  2922_1.jpg\n",
            "{\"image_path\": \"2922_1.jpg\", \"cow_id\": \"2922\", \"confidence_score\": 1.0, \"temperature\": 0.5, \"threshold\": 0.5, \"quality\": \"Excellent\", \"error\": null}\n",
            "Processing file 8 of 349 -  2599_1.jpg\n",
            "{\"image_path\": \"2599_1.jpg\", \"cow_id\": \"2599\", \"confidence_score\": 1.0, \"temperature\": 0.5, \"threshold\": 0.5, \"quality\": \"Good\", \"error\": null}\n",
            "Processing file 9 of 349 -  2789_1.jpg\n"
          ]
        },
        {
          "output_type": "stream",
          "name": "stderr",
          "text": [
            "{\"error\": \"Cow ID prediction failed. Please check the image and model.\"}"
          ]
        },
        {
          "output_type": "stream",
          "name": "stdout",
          "text": [
            "Processing file 10 of 349 -  2893_1.jpg\n"
          ]
        },
        {
          "output_type": "stream",
          "name": "stderr",
          "text": [
            "{\"error\": \"Cow ID prediction failed. Please check the image and model.\"}"
          ]
        },
        {
          "output_type": "stream",
          "name": "stdout",
          "text": [
            "Processing file 11 of 349 -  2897_1.jpg\n",
            "{\"image_path\": \"2897_1.jpg\", \"cow_id\": \"2897\", \"confidence_score\": 1.0, \"temperature\": 0.5, \"threshold\": 0.5, \"quality\": \"Excellent\", \"error\": null}\n",
            "Processing file 12 of 349 -  2468_1.jpg\n"
          ]
        },
        {
          "output_type": "stream",
          "name": "stderr",
          "text": [
            "{\"error\": \"Cow ID prediction failed. Please check the image and model.\"}"
          ]
        },
        {
          "output_type": "stream",
          "name": "stdout",
          "text": [
            "Processing file 13 of 349 -  2626_1.jpg\n"
          ]
        },
        {
          "output_type": "stream",
          "name": "stderr",
          "text": [
            "{\"error\": \"Cow ID prediction failed. Please check the image and model.\"}"
          ]
        },
        {
          "output_type": "stream",
          "name": "stdout",
          "text": [
            "Processing file 14 of 349 -  3012_1.jpg\n",
            "{\"image_path\": \"3012_1.jpg\", \"cow_id\": \"3012\", \"confidence_score\": 1.0, \"temperature\": 0.5, \"threshold\": 0.5, \"quality\": \"Excellent\", \"error\": null}\n",
            "Processing file 15 of 349 -  2625_1.jpg\n",
            "{\"image_path\": \"2625_1.jpg\", \"cow_id\": \"2625\", \"confidence_score\": 1.0, \"temperature\": 0.5, \"threshold\": 0.5, \"quality\": \"Excellent\", \"error\": null}\n",
            "Processing file 16 of 349 -  2487_1.jpg\n",
            "{\"image_path\": \"2487_1.jpg\", \"cow_id\": \"2487\", \"confidence_score\": 1.0, \"temperature\": 0.5, \"threshold\": 0.5, \"quality\": \"Good\", \"error\": null}\n",
            "Processing file 17 of 349 -  2886_1.jpg\n",
            "{\"image_path\": \"2886_1.jpg\", \"cow_id\": \"2886\", \"confidence_score\": 1.0, \"temperature\": 0.5, \"threshold\": 0.5, \"quality\": \"Excellent\", \"error\": null}\n",
            "Processing file 18 of 349 -  2298_1.jpg\n"
          ]
        },
        {
          "output_type": "stream",
          "name": "stderr",
          "text": [
            "{\"error\": \"Cow ID prediction failed. Please check the image and model.\"}"
          ]
        },
        {
          "output_type": "stream",
          "name": "stdout",
          "text": [
            "Processing file 19 of 349 -  2813_1.jpg\n"
          ]
        },
        {
          "output_type": "stream",
          "name": "stderr",
          "text": [
            "{\"error\": \"Cow ID prediction failed. Please check the image and model.\"}"
          ]
        },
        {
          "output_type": "stream",
          "name": "stdout",
          "text": [
            "Processing file 20 of 349 -  2374_1.jpg\n",
            "{\"image_path\": \"2374_1.jpg\", \"cow_id\": \"2374\", \"confidence_score\": 1.0, \"temperature\": 0.5, \"threshold\": 0.5, \"quality\": \"Excellent\", \"error\": null}\n",
            "Processing file 21 of 349 -  2784_1.jpg\n",
            "{\"image_path\": \"2784_1.jpg\", \"cow_id\": \"2784\", \"confidence_score\": 1.0, \"temperature\": 0.5, \"threshold\": 0.5, \"quality\": \"Good\", \"error\": null}\n",
            "Processing file 22 of 349 -  2676_1.jpg\n",
            "{\"image_path\": \"2676_1.jpg\", \"cow_id\": \"2676\", \"confidence_score\": 1.0, \"temperature\": 0.5, \"threshold\": 0.5, \"quality\": \"Excellent\", \"error\": null}\n",
            "Processing file 23 of 349 -  2671_1.jpg\n",
            "{\"image_path\": \"2671_1.jpg\", \"cow_id\": \"2671\", \"confidence_score\": 1.0, \"temperature\": 0.5, \"threshold\": 0.5, \"quality\": \"Excellent\", \"error\": null}\n",
            "Processing file 24 of 349 -  594_1.jpg\n"
          ]
        },
        {
          "output_type": "stream",
          "name": "stderr",
          "text": [
            "{\"error\": \"Cow ID prediction failed. Please check the image and model.\"}"
          ]
        },
        {
          "output_type": "stream",
          "name": "stdout",
          "text": [
            "Processing file 25 of 349 -  2786_1.jpg\n",
            "{\"image_path\": \"2786_1.jpg\", \"cow_id\": \"2786\", \"confidence_score\": 1.0, \"temperature\": 0.5, \"threshold\": 0.5, \"quality\": \"Excellent\", \"error\": null}\n",
            "Processing file 26 of 349 -  2_1.jpg\n",
            "{\"image_path\": \"2_1.jpg\", \"cow_id\": \"2\", \"confidence_score\": 1.0, \"temperature\": 0.5, \"threshold\": 0.5, \"quality\": \"Good\", \"error\": null}\n",
            "Processing file 27 of 349 -  2227_1.jpg\n",
            "{\"image_path\": \"2227_1.jpg\", \"cow_id\": \"2227\", \"confidence_score\": 1.0, \"temperature\": 0.5, \"threshold\": 0.5, \"quality\": \"Excellent\", \"error\": null}\n",
            "Processing file 28 of 349 -  2956_1.jpg\n",
            "{\"image_path\": \"2956_1.jpg\", \"cow_id\": \"2956\", \"confidence_score\": 1.0, \"temperature\": 0.5, \"threshold\": 0.5, \"quality\": \"Very Good\", \"error\": null}\n",
            "Processing file 29 of 349 -  2950_1.jpg\n",
            "{\"image_path\": \"2950_1.jpg\", \"cow_id\": \"2950\", \"confidence_score\": 1.0, \"temperature\": 0.5, \"threshold\": 0.5, \"quality\": \"Excellent\", \"error\": null}\n",
            "Processing file 30 of 349 -  3023_1.jpg\n",
            "{\"image_path\": \"3023_1.jpg\", \"cow_id\": \"2911\", \"confidence_score\": 0.65, \"temperature\": 0.5, \"threshold\": 0.5, \"quality\": \"Excellent\", \"error\": null}\n",
            "Processing file 31 of 349 -  2872_1.jpg\n",
            "{\"image_path\": \"2872_1.jpg\", \"cow_id\": \"3035\", \"confidence_score\": 0.96, \"temperature\": 0.5, \"threshold\": 0.5, \"quality\": \"Good\", \"error\": null}\n",
            "Processing file 32 of 349 -  3089_1.jpg\n",
            "{\"image_path\": \"3089_1.jpg\", \"cow_id\": \"3089\", \"confidence_score\": 1.0, \"temperature\": 0.5, \"threshold\": 0.5, \"quality\": \"Very Good\", \"error\": null}\n",
            "Processing file 33 of 349 -  3032_1.jpg\n",
            "{\"image_path\": \"3032_1.jpg\", \"cow_id\": \"3032\", \"confidence_score\": 1.0, \"temperature\": 0.5, \"threshold\": 0.5, \"quality\": \"Excellent\", \"error\": null}\n",
            "Processing file 34 of 349 -  2596_1.jpg\n",
            "{\"image_path\": \"2596_1.jpg\", \"cow_id\": \"2596\", \"confidence_score\": 1.0, \"temperature\": 0.5, \"threshold\": 0.5, \"quality\": \"Excellent\", \"error\": null}\n",
            "Processing file 35 of 349 -  2608_1.jpg\n",
            "{\"image_path\": \"2608_1.jpg\", \"cow_id\": \"2856\", \"confidence_score\": 0.99, \"temperature\": 0.5, \"threshold\": 0.5, \"quality\": \"Very Good\", \"error\": null}\n",
            "Processing file 36 of 349 -  2947_1.jpg\n",
            "{\"image_path\": \"2947_1.jpg\", \"cow_id\": \"2947\", \"confidence_score\": 1.0, \"temperature\": 0.5, \"threshold\": 0.5, \"quality\": \"Excellent\", \"error\": null}\n",
            "Processing file 37 of 349 -  24_1.jpg\n",
            "{\"image_path\": \"24_1.jpg\", \"cow_id\": \"24\", \"confidence_score\": 0.99, \"temperature\": 0.5, \"threshold\": 0.5, \"quality\": \"Excellent\", \"error\": null}\n",
            "Processing file 38 of 349 -  2390_1.jpg\n"
          ]
        },
        {
          "output_type": "stream",
          "name": "stderr",
          "text": [
            "{\"error\": \"Cow ID prediction failed. Please check the image and model.\"}"
          ]
        },
        {
          "output_type": "stream",
          "name": "stdout",
          "text": [
            "Processing file 39 of 349 -  2695_1.jpg\n",
            "{\"image_path\": \"2695_1.jpg\", \"cow_id\": \"2695\", \"confidence_score\": 1.0, \"temperature\": 0.5, \"threshold\": 0.5, \"quality\": \"Excellent\", \"error\": null}\n",
            "Processing file 40 of 349 -  2525_1.jpg\n"
          ]
        },
        {
          "output_type": "stream",
          "name": "stderr",
          "text": [
            "{\"error\": \"Cow ID prediction failed. Please check the image and model.\"}"
          ]
        },
        {
          "output_type": "stream",
          "name": "stdout",
          "text": [
            "Processing file 41 of 349 -  2909_1.jpg\n",
            "{\"image_path\": \"2909_1.jpg\", \"cow_id\": \"2903\", \"confidence_score\": 1.0, \"temperature\": 0.5, \"threshold\": 0.5, \"quality\": \"Good\", \"error\": null}\n",
            "Processing file 42 of 349 -  2884_1.jpg\n",
            "{\"image_path\": \"2884_1.jpg\", \"cow_id\": \"2884\", \"confidence_score\": 1.0, \"temperature\": 0.5, \"threshold\": 0.5, \"quality\": \"Excellent\", \"error\": null}\n",
            "Processing file 43 of 349 -  2773_1.jpg\n",
            "{\"image_path\": \"2773_1.jpg\", \"cow_id\": \"2773\", \"confidence_score\": 0.95, \"temperature\": 0.5, \"threshold\": 0.5, \"quality\": \"Very Good\", \"error\": null}\n",
            "Processing file 44 of 349 -  2985_1.jpg\n",
            "{\"image_path\": \"2985_1.jpg\", \"cow_id\": \"2985\", \"confidence_score\": 1.0, \"temperature\": 0.5, \"threshold\": 0.5, \"quality\": \"Excellent\", \"error\": null}\n",
            "Processing file 45 of 349 -  2921_1.jpg\n",
            "{\"image_path\": \"2921_1.jpg\", \"cow_id\": \"2921\", \"confidence_score\": 1.0, \"temperature\": 0.5, \"threshold\": 0.5, \"quality\": \"Excellent\", \"error\": null}\n",
            "Processing file 46 of 349 -  2756_1.jpg\n",
            "{\"image_path\": \"2756_1.jpg\", \"cow_id\": \"2756\", \"confidence_score\": 1.0, \"temperature\": 0.5, \"threshold\": 0.5, \"quality\": \"Excellent\", \"error\": null}\n",
            "Processing file 47 of 349 -  2775_1.jpg\n"
          ]
        },
        {
          "output_type": "stream",
          "name": "stderr",
          "text": [
            "{\"error\": \"Cow ID prediction failed. Please check the image and model.\"}"
          ]
        },
        {
          "output_type": "stream",
          "name": "stdout",
          "text": [
            "Processing file 48 of 349 -  6_1.jpg\n",
            "{\"image_path\": \"6_1.jpg\", \"cow_id\": \"2767\", \"confidence_score\": 0.89, \"temperature\": 0.5, \"threshold\": 0.5, \"quality\": \"Excellent\", \"error\": null}\n",
            "Processing file 49 of 349 -  16_1.jpg\n",
            "{\"image_path\": \"16_1.jpg\", \"cow_id\": \"16\", \"confidence_score\": 1.0, \"temperature\": 0.5, \"threshold\": 0.5, \"quality\": \"Good\", \"error\": null}\n",
            "Processing file 50 of 349 -  2764_1.jpg\n",
            "{\"image_path\": \"2764_1.jpg\", \"cow_id\": \"2764\", \"confidence_score\": 1.0, \"temperature\": 0.5, \"threshold\": 0.5, \"quality\": \"Good\", \"error\": null}\n",
            "Processing file 51 of 349 -  17_1.jpg\n"
          ]
        },
        {
          "output_type": "stream",
          "name": "stderr",
          "text": [
            "{\"error\": \"Cow ID prediction failed. Please check the image and model.\"}"
          ]
        },
        {
          "output_type": "stream",
          "name": "stdout",
          "text": [
            "Processing file 52 of 349 -  2840_1.jpg\n",
            "{\"image_path\": \"2840_1.jpg\", \"cow_id\": \"2840\", \"confidence_score\": 1.0, \"temperature\": 0.5, \"threshold\": 0.5, \"quality\": \"Good\", \"error\": null}\n",
            "Processing file 53 of 349 -  2681_1.jpg\n"
          ]
        },
        {
          "output_type": "stream",
          "name": "stderr",
          "text": [
            "{\"error\": \"Cow ID prediction failed. Please check the image and model.\"}"
          ]
        },
        {
          "output_type": "stream",
          "name": "stdout",
          "text": [
            "Processing file 54 of 349 -  2514_1.jpg\n",
            "{\"image_path\": \"2514_1.jpg\", \"cow_id\": \"2514\", \"confidence_score\": 1.0, \"temperature\": 0.5, \"threshold\": 0.5, \"quality\": \"Excellent\", \"error\": null}\n",
            "Processing file 55 of 349 -  2743_1.jpg\n",
            "{\"image_path\": \"2743_1.jpg\", \"cow_id\": \"2743\", \"confidence_score\": 1.0, \"temperature\": 0.5, \"threshold\": 0.5, \"quality\": \"Excellent\", \"error\": null}\n",
            "Processing file 56 of 349 -  2647_1.jpg\n",
            "{\"image_path\": \"2647_1.jpg\", \"cow_id\": \"2647\", \"confidence_score\": 1.0, \"temperature\": 0.5, \"threshold\": 0.5, \"quality\": \"Good\", \"error\": null}\n",
            "Processing file 57 of 349 -  2903_1.jpg\n",
            "{\"image_path\": \"2903_1.jpg\", \"cow_id\": \"2903\", \"confidence_score\": 1.0, \"temperature\": 0.5, \"threshold\": 0.5, \"quality\": \"Excellent\", \"error\": null}\n",
            "Processing file 58 of 349 -  2792_1.jpg\n",
            "{\"image_path\": \"2792_1.jpg\", \"cow_id\": \"2695\", \"confidence_score\": 0.7, \"temperature\": 0.5, \"threshold\": 0.5, \"quality\": \"Very Good\", \"error\": null}\n",
            "Processing file 59 of 349 -  3011_1.jpg\n",
            "{\"image_path\": \"3011_1.jpg\", \"cow_id\": \"3011\", \"confidence_score\": 1.0, \"temperature\": 0.5, \"threshold\": 0.5, \"quality\": \"Excellent\", \"error\": null}\n",
            "Processing file 60 of 349 -  2734_1.jpg\n",
            "{\"image_path\": \"2734_1.jpg\", \"cow_id\": \"2734\", \"confidence_score\": 1.0, \"temperature\": 0.5, \"threshold\": 0.5, \"quality\": \"Excellent\", \"error\": null}\n",
            "Processing file 61 of 349 -  2480_1.jpg\n",
            "{\"image_path\": \"2480_1.jpg\", \"cow_id\": \"2480\", \"confidence_score\": 0.99, \"temperature\": 0.5, \"threshold\": 0.5, \"quality\": \"Excellent\", \"error\": null}\n",
            "Processing file 62 of 349 -  2691_1.jpg\n",
            "{\"image_path\": \"2691_1.jpg\", \"cow_id\": \"2721\", \"confidence_score\": 0.85, \"temperature\": 0.5, \"threshold\": 0.5, \"quality\": \"Excellent\", \"error\": null}\n",
            "Processing file 63 of 349 -  2777_1.jpg\n",
            "{\"image_path\": \"2777_1.jpg\", \"cow_id\": \"2892\", \"confidence_score\": 0.71, \"temperature\": 0.5, \"threshold\": 0.5, \"quality\": \"Excellent\", \"error\": null}\n",
            "Processing file 64 of 349 -  2790_1.jpg\n"
          ]
        },
        {
          "output_type": "stream",
          "name": "stderr",
          "text": [
            "{\"error\": \"Cow ID prediction failed. Please check the image and model.\"}"
          ]
        },
        {
          "output_type": "stream",
          "name": "stdout",
          "text": [
            "Processing file 65 of 349 -  2644_1.jpg\n"
          ]
        },
        {
          "output_type": "stream",
          "name": "stderr",
          "text": [
            "{\"error\": \"Cow ID prediction failed. Please check the image and model.\"}"
          ]
        },
        {
          "output_type": "stream",
          "name": "stdout",
          "text": [
            "Processing file 66 of 349 -  2970_1.jpg\n",
            "{\"image_path\": \"2970_1.jpg\", \"cow_id\": \"2970\", \"confidence_score\": 1.0, \"temperature\": 0.5, \"threshold\": 0.5, \"quality\": \"Excellent\", \"error\": null}\n",
            "Processing file 67 of 349 -  2752_1.jpg\n"
          ]
        },
        {
          "output_type": "stream",
          "name": "stderr",
          "text": [
            "{\"error\": \"Cow ID prediction failed. Please check the image and model.\"}"
          ]
        },
        {
          "output_type": "stream",
          "name": "stdout",
          "text": [
            "Processing file 68 of 349 -  2737_1.jpg\n",
            "{\"image_path\": \"2737_1.jpg\", \"cow_id\": \"2726\", \"confidence_score\": 0.94, \"temperature\": 0.5, \"threshold\": 0.5, \"quality\": \"Very Good\", \"error\": null}\n",
            "Processing file 69 of 349 -  2541_1.jpg\n",
            "{\"image_path\": \"2541_1.jpg\", \"cow_id\": \"21\", \"confidence_score\": 0.37, \"temperature\": 0.5, \"threshold\": 0.5, \"quality\": \"Excellent\", \"error\": null}\n",
            "Processing file 70 of 349 -  2864_1.jpg\n",
            "{\"image_path\": \"2864_1.jpg\", \"cow_id\": \"2864\", \"confidence_score\": 1.0, \"temperature\": 0.5, \"threshold\": 0.5, \"quality\": \"Excellent\", \"error\": null}\n",
            "Processing file 71 of 349 -  2594_1.jpg\n"
          ]
        },
        {
          "output_type": "stream",
          "name": "stderr",
          "text": [
            "{\"error\": \"Cow ID prediction failed. Please check the image and model.\"}"
          ]
        },
        {
          "output_type": "stream",
          "name": "stdout",
          "text": [
            "Processing file 72 of 349 -  2995_1.jpg\n",
            "{\"image_path\": \"2995_1.jpg\", \"cow_id\": \"2995\", \"confidence_score\": 0.65, \"temperature\": 0.5, \"threshold\": 0.5, \"quality\": \"Excellent\", \"error\": null}\n",
            "Processing file 73 of 349 -  2682_1.jpg\n",
            "{\"image_path\": \"2682_1.jpg\", \"cow_id\": \"2682\", \"confidence_score\": 0.36, \"temperature\": 0.5, \"threshold\": 0.5, \"quality\": \"Excellent\", \"error\": null}\n",
            "Processing file 74 of 349 -  2465_1.jpg\n"
          ]
        },
        {
          "output_type": "stream",
          "name": "stderr",
          "text": [
            "{\"error\": \"Cow ID prediction failed. Please check the image and model.\"}"
          ]
        },
        {
          "output_type": "stream",
          "name": "stdout",
          "text": [
            "Processing file 75 of 349 -  2973_1.jpg\n",
            "{\"image_path\": \"2973_1.jpg\", \"cow_id\": \"2564\", \"confidence_score\": 0.93, \"temperature\": 0.5, \"threshold\": 0.5, \"quality\": \"Excellent\", \"error\": null}\n",
            "Processing file 76 of 349 -  2680_1.jpg\n",
            "{\"image_path\": \"2680_1.jpg\", \"cow_id\": \"2795\", \"confidence_score\": 0.99, \"temperature\": 0.5, \"threshold\": 0.5, \"quality\": \"Excellent\", \"error\": null}\n",
            "Processing file 77 of 349 -  2796_1.jpg\n",
            "{\"image_path\": \"2796_1.jpg\", \"cow_id\": \"2796\", \"confidence_score\": 1.0, \"temperature\": 0.5, \"threshold\": 0.5, \"quality\": \"Excellent\", \"error\": null}\n",
            "Processing file 78 of 349 -  2984_1.jpg\n",
            "{\"image_path\": \"2984_1.jpg\", \"cow_id\": \"2984\", \"confidence_score\": 1.0, \"temperature\": 0.5, \"threshold\": 0.5, \"quality\": \"Very Good\", \"error\": null}\n",
            "Processing file 79 of 349 -  2832_1.jpg\n"
          ]
        },
        {
          "output_type": "stream",
          "name": "stderr",
          "text": [
            "{\"error\": \"Cow ID prediction failed. Please check the image and model.\"}"
          ]
        },
        {
          "output_type": "stream",
          "name": "stdout",
          "text": [
            "Processing file 80 of 349 -  2536_1.jpg\n"
          ]
        },
        {
          "output_type": "stream",
          "name": "stderr",
          "text": [
            "{\"error\": \"Cow ID prediction failed. Please check the image and model.\"}"
          ]
        },
        {
          "output_type": "stream",
          "name": "stdout",
          "text": [
            "Processing file 81 of 349 -  2885_1.jpg\n",
            "{\"image_path\": \"2885_1.jpg\", \"cow_id\": \"2885\", \"confidence_score\": 1.0, \"temperature\": 0.5, \"threshold\": 0.5, \"quality\": \"Excellent\", \"error\": null}\n",
            "Processing file 82 of 349 -  2861_1.jpg\n",
            "{\"image_path\": \"2861_1.jpg\", \"cow_id\": \"2861\", \"confidence_score\": 1.0, \"temperature\": 0.5, \"threshold\": 0.5, \"quality\": \"Very Good\", \"error\": null}\n",
            "Processing file 83 of 349 -  797_1.jpg\n",
            "{\"image_path\": \"797_1.jpg\", \"cow_id\": \"2749\", \"confidence_score\": 0.37, \"temperature\": 0.5, \"threshold\": 0.5, \"quality\": \"Good\", \"error\": null}\n",
            "Processing file 84 of 349 -  2853_1.jpg\n"
          ]
        },
        {
          "output_type": "stream",
          "name": "stderr",
          "text": [
            "{\"error\": \"Cow ID prediction failed. Please check the image and model.\"}"
          ]
        },
        {
          "output_type": "stream",
          "name": "stdout",
          "text": [
            "Processing file 85 of 349 -  2991_1.jpg\n",
            "{\"image_path\": \"2991_1.jpg\", \"cow_id\": \"2991\", \"confidence_score\": 1.0, \"temperature\": 0.5, \"threshold\": 0.5, \"quality\": \"Good\", \"error\": null}\n",
            "Processing file 86 of 349 -  2857_1.jpg\n",
            "{\"image_path\": \"2857_1.jpg\", \"cow_id\": \"2857\", \"confidence_score\": 1.0, \"temperature\": 0.5, \"threshold\": 0.5, \"quality\": \"Excellent\", \"error\": null}\n",
            "Processing file 87 of 349 -  2837_1.jpg\n"
          ]
        },
        {
          "output_type": "stream",
          "name": "stderr",
          "text": [
            "{\"error\": \"Cow ID prediction failed. Please check the image and model.\"}"
          ]
        },
        {
          "output_type": "stream",
          "name": "stdout",
          "text": [
            "Processing file 88 of 349 -  14_1.jpg\n",
            "{\"image_path\": \"14_1.jpg\", \"cow_id\": \"14\", \"confidence_score\": 1.0, \"temperature\": 0.5, \"threshold\": 0.5, \"quality\": \"Good\", \"error\": null}\n",
            "Processing file 89 of 349 -  2586_1.jpg\n",
            "{\"image_path\": \"2586_1.jpg\", \"cow_id\": \"2586\", \"confidence_score\": 1.0, \"temperature\": 0.5, \"threshold\": 0.5, \"quality\": \"Good\", \"error\": null}\n",
            "Processing file 90 of 349 -  2907_1.jpg\n",
            "{\"image_path\": \"2907_1.jpg\", \"cow_id\": \"2907\", \"confidence_score\": 1.0, \"temperature\": 0.5, \"threshold\": 0.5, \"quality\": \"Very Good\", \"error\": null}\n",
            "Processing file 91 of 349 -  2800_1.jpg\n",
            "{\"image_path\": \"2800_1.jpg\", \"cow_id\": \"2800\", \"confidence_score\": 1.0, \"temperature\": 0.5, \"threshold\": 0.5, \"quality\": \"Excellent\", \"error\": null}\n",
            "Processing file 92 of 349 -  2607_1.jpg\n",
            "{\"image_path\": \"2607_1.jpg\", \"cow_id\": \"2607\", \"confidence_score\": 1.0, \"temperature\": 0.5, \"threshold\": 0.5, \"quality\": \"Good\", \"error\": null}\n",
            "Processing file 93 of 349 -  2679_1.jpg\n",
            "{\"image_path\": \"2679_1.jpg\", \"cow_id\": \"2679\", \"confidence_score\": 1.0, \"temperature\": 0.5, \"threshold\": 0.5, \"quality\": \"Excellent\", \"error\": null}\n",
            "Processing file 94 of 349 -  2554_1.jpg\n"
          ]
        },
        {
          "output_type": "stream",
          "name": "stderr",
          "text": [
            "{\"error\": \"Cow ID prediction failed. Please check the image and model.\"}"
          ]
        },
        {
          "output_type": "stream",
          "name": "stdout",
          "text": [
            "Processing file 95 of 349 -  2895_1.jpg\n",
            "{\"image_path\": \"2895_1.jpg\", \"cow_id\": \"2895\", \"confidence_score\": 1.0, \"temperature\": 0.5, \"threshold\": 0.5, \"quality\": \"Excellent\", \"error\": null}\n",
            "Processing file 96 of 349 -  2900_1.jpg\n",
            "{\"image_path\": \"2900_1.jpg\", \"cow_id\": \"2900\", \"confidence_score\": 1.0, \"temperature\": 0.5, \"threshold\": 0.5, \"quality\": \"Excellent\", \"error\": null}\n",
            "Processing file 97 of 349 -  3019_1.jpg\n",
            "{\"image_path\": \"3019_1.jpg\", \"cow_id\": \"3019\", \"confidence_score\": 1.0, \"temperature\": 0.5, \"threshold\": 0.5, \"quality\": \"Excellent\", \"error\": null}\n",
            "Processing file 98 of 349 -  2983_1.jpg\n",
            "{\"image_path\": \"2983_1.jpg\", \"cow_id\": \"2983\", \"confidence_score\": 1.0, \"temperature\": 0.5, \"threshold\": 0.5, \"quality\": \"Excellent\", \"error\": null}\n",
            "Processing file 99 of 349 -  2891_1.jpg\n",
            "{\"image_path\": \"2891_1.jpg\", \"cow_id\": \"2891\", \"confidence_score\": 1.0, \"temperature\": 0.5, \"threshold\": 0.5, \"quality\": \"Excellent\", \"error\": null}\n",
            "Processing file 100 of 349 -  2890_1.jpg\n"
          ]
        },
        {
          "output_type": "stream",
          "name": "stderr",
          "text": [
            "{\"error\": \"Cow ID prediction failed. Please check the image and model.\"}"
          ]
        },
        {
          "output_type": "stream",
          "name": "stdout",
          "text": [
            "Processing file 101 of 349 -  2736_1.jpg\n"
          ]
        },
        {
          "output_type": "stream",
          "name": "stderr",
          "text": [
            "{\"error\": \"Cow ID prediction failed. Please check the image and model.\"}"
          ]
        },
        {
          "output_type": "stream",
          "name": "stdout",
          "text": [
            "Processing file 102 of 349 -  22_1.jpg\n",
            "{\"image_path\": \"22_1.jpg\", \"cow_id\": \"22\", \"confidence_score\": 1.0, \"temperature\": 0.5, \"threshold\": 0.5, \"quality\": \"Excellent\", \"error\": null}\n",
            "Processing file 103 of 349 -  2854_1.jpg\n",
            "{\"image_path\": \"2854_1.jpg\", \"cow_id\": \"2854\", \"confidence_score\": 1.0, \"temperature\": 0.5, \"threshold\": 0.5, \"quality\": \"Excellent\", \"error\": null}\n",
            "Processing file 104 of 349 -  2842_1.jpg\n",
            "{\"image_path\": \"2842_1.jpg\", \"cow_id\": \"2842\", \"confidence_score\": 1.0, \"temperature\": 0.5, \"threshold\": 0.5, \"quality\": \"Excellent\", \"error\": null}\n",
            "Processing file 105 of 349 -  2870_1.jpg\n",
            "{\"image_path\": \"2870_1.jpg\", \"cow_id\": \"2870\", \"confidence_score\": 1.0, \"temperature\": 0.5, \"threshold\": 0.5, \"quality\": \"Excellent\", \"error\": null}\n",
            "Processing file 106 of 349 -  3013_1.jpg\n",
            "{\"image_path\": \"3013_1.jpg\", \"cow_id\": \"3013\", \"confidence_score\": 1.0, \"temperature\": 0.5, \"threshold\": 0.5, \"quality\": \"Excellent\", \"error\": null}\n",
            "Processing file 107 of 349 -  12_1.jpg\n",
            "{\"image_path\": \"12_1.jpg\", \"cow_id\": \"12\", \"confidence_score\": 1.0, \"temperature\": 0.5, \"threshold\": 0.5, \"quality\": \"Excellent\", \"error\": null}\n",
            "Processing file 108 of 349 -  2817_1.jpg\n",
            "{\"image_path\": \"2817_1.jpg\", \"cow_id\": \"2817\", \"confidence_score\": 1.0, \"temperature\": 0.5, \"threshold\": 0.5, \"quality\": \"Good\", \"error\": null}\n",
            "Processing file 109 of 349 -  2911_1.jpg\n"
          ]
        },
        {
          "output_type": "stream",
          "name": "stderr",
          "text": [
            "{\"error\": \"Cow ID prediction failed. Please check the image and model.\"}"
          ]
        },
        {
          "output_type": "stream",
          "name": "stdout",
          "text": [
            "Processing file 110 of 349 -  2843_1.jpg\n",
            "{\"image_path\": \"2843_1.jpg\", \"cow_id\": \"2843\", \"confidence_score\": 1.0, \"temperature\": 0.5, \"threshold\": 0.5, \"quality\": \"Good\", \"error\": null}\n",
            "Processing file 111 of 349 -  2774_1.jpg\n",
            "{\"image_path\": \"2774_1.jpg\", \"cow_id\": \"2774\", \"confidence_score\": 1.0, \"temperature\": 0.5, \"threshold\": 0.5, \"quality\": \"Good\", \"error\": null}\n",
            "Processing file 112 of 349 -  2762_1.jpg\n",
            "{\"image_path\": \"2762_1.jpg\", \"cow_id\": \"2762\", \"confidence_score\": 1.0, \"temperature\": 0.5, \"threshold\": 0.5, \"quality\": \"Excellent\", \"error\": null}\n",
            "Processing file 113 of 349 -  2763_1.jpg\n"
          ]
        },
        {
          "output_type": "stream",
          "name": "stderr",
          "text": [
            "{\"error\": \"Cow ID prediction failed. Please check the image and model.\"}"
          ]
        },
        {
          "output_type": "stream",
          "name": "stdout",
          "text": [
            "Processing file 114 of 349 -  2906_1.jpg\n",
            "{\"image_path\": \"2906_1.jpg\", \"cow_id\": \"2906\", \"confidence_score\": 1.0, \"temperature\": 0.5, \"threshold\": 0.5, \"quality\": \"Excellent\", \"error\": null}\n",
            "Processing file 115 of 349 -  2049_1.jpg\n",
            "{\"image_path\": \"2049_1.jpg\", \"cow_id\": \"2049\", \"confidence_score\": 1.0, \"temperature\": 0.5, \"threshold\": 0.5, \"quality\": \"Excellent\", \"error\": null}\n",
            "Processing file 116 of 349 -  2251_1.jpg\n",
            "{\"image_path\": \"2251_1.jpg\", \"cow_id\": \"2251\", \"confidence_score\": 1.0, \"temperature\": 0.5, \"threshold\": 0.5, \"quality\": \"Excellent\", \"error\": null}\n",
            "Processing file 117 of 349 -  2620_1.jpg\n"
          ]
        },
        {
          "output_type": "stream",
          "name": "stderr",
          "text": [
            "{\"error\": \"Cow ID prediction failed. Please check the image and model.\"}"
          ]
        },
        {
          "output_type": "stream",
          "name": "stdout",
          "text": [
            "Processing file 118 of 349 -  2892_1.jpg\n",
            "{\"image_path\": \"2892_1.jpg\", \"cow_id\": \"2892\", \"confidence_score\": 1.0, \"temperature\": 0.5, \"threshold\": 0.5, \"quality\": \"Very Good\", \"error\": null}\n",
            "Processing file 119 of 349 -  2767_1.jpg\n",
            "{\"image_path\": \"2767_1.jpg\", \"cow_id\": \"2767\", \"confidence_score\": 1.0, \"temperature\": 0.5, \"threshold\": 0.5, \"quality\": \"Excellent\", \"error\": null}\n",
            "Processing file 120 of 349 -  2835_1.jpg\n",
            "{\"image_path\": \"2835_1.jpg\", \"cow_id\": \"2835\", \"confidence_score\": 1.0, \"temperature\": 0.5, \"threshold\": 0.5, \"quality\": \"Good\", \"error\": null}\n",
            "Processing file 121 of 349 -  612_1.jpg\n"
          ]
        },
        {
          "output_type": "stream",
          "name": "stderr",
          "text": [
            "{\"error\": \"Cow ID prediction failed. Please check the image and model.\"}"
          ]
        },
        {
          "output_type": "stream",
          "name": "stdout",
          "text": [
            "Processing file 122 of 349 -  2961_1.jpg\n",
            "{\"image_path\": \"2961_1.jpg\", \"cow_id\": \"2961\", \"confidence_score\": 1.0, \"temperature\": 0.5, \"threshold\": 0.5, \"quality\": \"Excellent\", \"error\": null}\n",
            "Processing file 123 of 349 -  2797_1.jpg\n"
          ]
        },
        {
          "output_type": "stream",
          "name": "stderr",
          "text": [
            "{\"error\": \"Cow ID prediction failed. Please check the image and model.\"}"
          ]
        },
        {
          "output_type": "stream",
          "name": "stdout",
          "text": [
            "Processing file 124 of 349 -  2926_1.jpg\n"
          ]
        },
        {
          "output_type": "stream",
          "name": "stderr",
          "text": [
            "{\"error\": \"Cow ID prediction failed. Please check the image and model.\"}"
          ]
        },
        {
          "output_type": "stream",
          "name": "stdout",
          "text": [
            "Processing file 125 of 349 -  2690_1.jpg\n",
            "{\"image_path\": \"2690_1.jpg\", \"cow_id\": \"2690\", \"confidence_score\": 1.0, \"temperature\": 0.5, \"threshold\": 0.5, \"quality\": \"Excellent\", \"error\": null}\n",
            "Processing file 126 of 349 -  2614_1.jpg\n"
          ]
        },
        {
          "output_type": "stream",
          "name": "stderr",
          "text": [
            "{\"error\": \"Cow ID prediction failed. Please check the image and model.\"}"
          ]
        },
        {
          "output_type": "stream",
          "name": "stdout",
          "text": [
            "Processing file 127 of 349 -  2943_1.jpg\n"
          ]
        },
        {
          "output_type": "stream",
          "name": "stderr",
          "text": [
            "{\"error\": \"Cow ID prediction failed. Please check the image and model.\"}"
          ]
        },
        {
          "output_type": "stream",
          "name": "stdout",
          "text": [
            "Processing file 128 of 349 -  2445_1.jpg\n"
          ]
        },
        {
          "output_type": "stream",
          "name": "stderr",
          "text": [
            "{\"error\": \"Cow ID prediction failed. Please check the image and model.\"}"
          ]
        },
        {
          "output_type": "stream",
          "name": "stdout",
          "text": [
            "Processing file 129 of 349 -  2615_1.jpg\n"
          ]
        },
        {
          "output_type": "stream",
          "name": "stderr",
          "text": [
            "{\"error\": \"Cow ID prediction failed. Please check the image and model.\"}"
          ]
        },
        {
          "output_type": "stream",
          "name": "stdout",
          "text": [
            "Processing file 130 of 349 -  2637_1.jpg\n"
          ]
        },
        {
          "output_type": "stream",
          "name": "stderr",
          "text": [
            "{\"error\": \"Cow ID prediction failed. Please check the image and model.\"}"
          ]
        },
        {
          "output_type": "stream",
          "name": "stdout",
          "text": [
            "Processing file 131 of 349 -  2415_1.jpg\n",
            "{\"image_path\": \"2415_1.jpg\", \"cow_id\": \"2415\", \"confidence_score\": 1.0, \"temperature\": 0.5, \"threshold\": 0.5, \"quality\": \"Excellent\", \"error\": null}\n",
            "Processing file 132 of 349 -  2424_1.jpg\n",
            "{\"image_path\": \"2424_1.jpg\", \"cow_id\": \"2725\", \"confidence_score\": 0.66, \"temperature\": 0.5, \"threshold\": 0.5, \"quality\": \"Excellent\", \"error\": null}\n",
            "Processing file 133 of 349 -  2582_1.jpg\n",
            "{\"image_path\": \"2582_1.jpg\", \"cow_id\": \"2582\", \"confidence_score\": 1.0, \"temperature\": 0.5, \"threshold\": 0.5, \"quality\": \"Excellent\", \"error\": null}\n",
            "Processing file 134 of 349 -  2918_1.jpg\n",
            "{\"image_path\": \"2918_1.jpg\", \"cow_id\": \"2995\", \"confidence_score\": 0.55, \"temperature\": 0.5, \"threshold\": 0.5, \"quality\": \"Excellent\", \"error\": null}\n",
            "Processing file 135 of 349 -  2848_1.jpg\n",
            "{\"image_path\": \"2848_1.jpg\", \"cow_id\": \"2848\", \"confidence_score\": 0.93, \"temperature\": 0.5, \"threshold\": 0.5, \"quality\": \"Very Good\", \"error\": null}\n",
            "Processing file 136 of 349 -  2761_1.jpg\n",
            "{\"image_path\": \"2761_1.jpg\", \"cow_id\": \"2761\", \"confidence_score\": 1.0, \"temperature\": 0.5, \"threshold\": 0.5, \"quality\": \"Good\", \"error\": null}\n",
            "Processing file 137 of 349 -  2873_1.jpg\n",
            "{\"image_path\": \"2873_1.jpg\", \"cow_id\": \"2873\", \"confidence_score\": 1.0, \"temperature\": 0.5, \"threshold\": 0.5, \"quality\": \"Excellent\", \"error\": null}\n",
            "Processing file 138 of 349 -  2537_1.jpg\n"
          ]
        },
        {
          "output_type": "stream",
          "name": "stderr",
          "text": [
            "{\"error\": \"Cow ID prediction failed. Please check the image and model.\"}"
          ]
        },
        {
          "output_type": "stream",
          "name": "stdout",
          "text": [
            "Processing file 139 of 349 -  2795_1.jpg\n",
            "{\"image_path\": \"2795_1.jpg\", \"cow_id\": \"2795\", \"confidence_score\": 1.0, \"temperature\": 0.5, \"threshold\": 0.5, \"quality\": \"Very Good\", \"error\": null}\n",
            "Processing file 140 of 349 -  2912_1.jpg\n",
            "{\"image_path\": \"2912_1.jpg\", \"cow_id\": \"2912\", \"confidence_score\": 1.0, \"temperature\": 0.5, \"threshold\": 0.5, \"quality\": \"Very Good\", \"error\": null}\n",
            "Processing file 141 of 349 -  1966_1.jpg\n",
            "{\"image_path\": \"1966_1.jpg\", \"cow_id\": \"1966\", \"confidence_score\": 1.0, \"temperature\": 0.5, \"threshold\": 0.5, \"quality\": \"Good\", \"error\": null}\n",
            "Processing file 142 of 349 -  2811_1.jpg\n"
          ]
        },
        {
          "output_type": "stream",
          "name": "stderr",
          "text": [
            "{\"error\": \"Cow ID prediction failed. Please check the image and model.\"}"
          ]
        },
        {
          "output_type": "stream",
          "name": "stdout",
          "text": [
            "Processing file 143 of 349 -  3031_1.jpg\n",
            "{\"image_path\": \"3031_1.jpg\", \"cow_id\": \"3031\", \"confidence_score\": 1.0, \"temperature\": 0.5, \"threshold\": 0.5, \"quality\": \"Excellent\", \"error\": null}\n",
            "Processing file 144 of 349 -  2860_1.jpg\n",
            "{\"image_path\": \"2860_1.jpg\", \"cow_id\": \"2860\", \"confidence_score\": 1.0, \"temperature\": 0.5, \"threshold\": 0.5, \"quality\": \"Excellent\", \"error\": null}\n",
            "Processing file 145 of 349 -  27_1.jpg\n",
            "{\"image_path\": \"27_1.jpg\", \"cow_id\": \"2856\", \"confidence_score\": 1.0, \"temperature\": 0.5, \"threshold\": 0.5, \"quality\": \"Excellent\", \"error\": null}\n",
            "Processing file 146 of 349 -  2944_1.jpg\n",
            "{\"image_path\": \"2944_1.jpg\", \"cow_id\": \"2944\", \"confidence_score\": 1.0, \"temperature\": 0.5, \"threshold\": 0.5, \"quality\": \"Excellent\", \"error\": null}\n",
            "Processing file 147 of 349 -  2451_1.jpg\n",
            "{\"image_path\": \"2451_1.jpg\", \"cow_id\": \"2451\", \"confidence_score\": 1.0, \"temperature\": 0.5, \"threshold\": 0.5, \"quality\": \"Excellent\", \"error\": null}\n",
            "Processing file 148 of 349 -  870_1.jpg\n"
          ]
        },
        {
          "output_type": "stream",
          "name": "stderr",
          "text": [
            "ERROR:root:Error predicting cow ID: in user code:\n",
            "\n",
            "    File \"/usr/local/lib/python3.10/dist-packages/keras/src/engine/training.py\", line 2440, in predict_function  *\n",
            "        return step_function(self, iterator)\n",
            "    File \"/usr/local/lib/python3.10/dist-packages/keras/src/engine/training.py\", line 2425, in step_function  **\n",
            "        outputs = model.distribute_strategy.run(run_step, args=(data,))\n",
            "    File \"/usr/local/lib/python3.10/dist-packages/keras/src/engine/training.py\", line 2413, in run_step  **\n",
            "        outputs = model.predict_step(data)\n",
            "    File \"/usr/local/lib/python3.10/dist-packages/keras/src/engine/training.py\", line 2381, in predict_step\n",
            "        return self(x, training=False)\n",
            "    File \"/usr/local/lib/python3.10/dist-packages/keras/src/utils/traceback_utils.py\", line 70, in error_handler\n",
            "        raise e.with_traceback(filtered_tb) from None\n",
            "    File \"/usr/local/lib/python3.10/dist-packages/keras/src/engine/input_spec.py\", line 298, in assert_input_compatibility\n",
            "        raise ValueError(\n",
            "\n",
            "    ValueError: Input 0 of layer \"model\" is incompatible with the layer: expected shape=(None, 400, 400, 3), found shape=(None, 400, 310, 3)\n",
            "\n",
            "{\"error\": \"Cow ID prediction failed. Please check the image and model.\"}"
          ]
        },
        {
          "output_type": "stream",
          "name": "stdout",
          "text": [
            "Processing file 149 of 349 -  7_1.jpg\n",
            "{\"image_path\": \"7_1.jpg\", \"cow_id\": \"2564\", \"confidence_score\": 1.0, \"temperature\": 0.5, \"threshold\": 0.5, \"quality\": \"Good\", \"error\": null}\n",
            "Processing file 150 of 349 -  2603_1.jpg\n",
            "{\"image_path\": \"2603_1.jpg\", \"cow_id\": \"2603\", \"confidence_score\": 1.0, \"temperature\": 0.5, \"threshold\": 0.5, \"quality\": \"Excellent\", \"error\": null}\n",
            "Processing file 151 of 349 -  2718_1.jpg\n",
            "{\"image_path\": \"2718_1.jpg\", \"cow_id\": \"2939\", \"confidence_score\": 0.21, \"temperature\": 0.5, \"threshold\": 0.5, \"quality\": \"Excellent\", \"error\": null}\n",
            "Processing file 152 of 349 -  2699_1.jpg\n"
          ]
        },
        {
          "output_type": "stream",
          "name": "stderr",
          "text": [
            "{\"error\": \"Cow ID prediction failed. Please check the image and model.\"}"
          ]
        },
        {
          "output_type": "stream",
          "name": "stdout",
          "text": [
            "Processing file 153 of 349 -  2953_1.jpg\n",
            "{\"image_path\": \"2953_1.jpg\", \"cow_id\": \"2953\", \"confidence_score\": 1.0, \"temperature\": 0.5, \"threshold\": 0.5, \"quality\": \"Excellent\", \"error\": null}\n",
            "Processing file 154 of 349 -  2612_1.jpg\n"
          ]
        },
        {
          "output_type": "stream",
          "name": "stderr",
          "text": [
            "{\"error\": \"Cow ID prediction failed. Please check the image and model.\"}"
          ]
        },
        {
          "output_type": "stream",
          "name": "stdout",
          "text": [
            "Processing file 155 of 349 -  2869_1.jpg\n",
            "{\"image_path\": \"2869_1.jpg\", \"cow_id\": \"2869\", \"confidence_score\": 1.0, \"temperature\": 0.5, \"threshold\": 0.5, \"quality\": \"Excellent\", \"error\": null}\n",
            "Processing file 156 of 349 -  2877_1.jpg\n",
            "{\"image_path\": \"2877_1.jpg\", \"cow_id\": \"2877\", \"confidence_score\": 1.0, \"temperature\": 0.5, \"threshold\": 0.5, \"quality\": \"Good\", \"error\": null}\n",
            "Processing file 157 of 349 -  2847_2.jpg\n",
            "{\"image_path\": \"2847_2.jpg\", \"cow_id\": \"2554\", \"confidence_score\": 0.89, \"temperature\": 0.5, \"threshold\": 0.5, \"quality\": \"Excellent\", \"error\": null}\n",
            "Processing file 158 of 349 -  2816_1.jpg\n"
          ]
        },
        {
          "output_type": "stream",
          "name": "stderr",
          "text": [
            "{\"error\": \"Cow ID prediction failed. Please check the image and model.\"}"
          ]
        },
        {
          "output_type": "stream",
          "name": "stdout",
          "text": [
            "Processing file 159 of 349 -  2924_1.jpg\n",
            "{\"image_path\": \"2924_1.jpg\", \"cow_id\": \"2924\", \"confidence_score\": 1.0, \"temperature\": 0.5, \"threshold\": 0.5, \"quality\": \"Excellent\", \"error\": null}\n",
            "Processing file 160 of 349 -  844_1.jpg\n"
          ]
        },
        {
          "output_type": "stream",
          "name": "stderr",
          "text": [
            "{\"error\": \"Cow ID prediction failed. Please check the image and model.\"}"
          ]
        },
        {
          "output_type": "stream",
          "name": "stdout",
          "text": [
            "Processing file 161 of 349 -  2894_1.jpg\n",
            "{\"image_path\": \"2894_1.jpg\", \"cow_id\": \"2917\", \"confidence_score\": 0.62, \"temperature\": 0.5, \"threshold\": 0.5, \"quality\": \"Excellent\", \"error\": null}\n",
            "Processing file 162 of 349 -  2899_1.jpg\n"
          ]
        },
        {
          "output_type": "stream",
          "name": "stderr",
          "text": [
            "{\"error\": \"Cow ID prediction failed. Please check the image and model.\"}"
          ]
        },
        {
          "output_type": "stream",
          "name": "stdout",
          "text": [
            "Processing file 163 of 349 -  2393_1.jpg\n",
            "{\"image_path\": \"2393_1.jpg\", \"cow_id\": \"2732\", \"confidence_score\": 0.95, \"temperature\": 0.5, \"threshold\": 0.5, \"quality\": \"Excellent\", \"error\": null}\n",
            "Processing file 164 of 349 -  2683_1.jpg\n",
            "{\"image_path\": \"2683_1.jpg\", \"cow_id\": \"2683\", \"confidence_score\": 1.0, \"temperature\": 0.5, \"threshold\": 0.5, \"quality\": \"Good\", \"error\": null}\n",
            "Processing file 165 of 349 -  2722_1.jpg\n",
            "{\"image_path\": \"2722_1.jpg\", \"cow_id\": \"2722\", \"confidence_score\": 1.0, \"temperature\": 0.5, \"threshold\": 0.5, \"quality\": \"Very Good\", \"error\": null}\n",
            "Processing file 166 of 349 -  2518_1.jpg\n",
            "{\"image_path\": \"2518_1.jpg\", \"cow_id\": \"2518\", \"confidence_score\": 1.0, \"temperature\": 0.5, \"threshold\": 0.5, \"quality\": \"Good\", \"error\": null}\n",
            "Processing file 167 of 349 -  2560_1.jpg\n",
            "{\"image_path\": \"2560_1.jpg\", \"cow_id\": \"2926\", \"confidence_score\": 0.9, \"temperature\": 0.5, \"threshold\": 0.5, \"quality\": \"Very Good\", \"error\": null}\n",
            "Processing file 168 of 349 -  3004_1.jpg\n",
            "{\"image_path\": \"3004_1.jpg\", \"cow_id\": \"3004\", \"confidence_score\": 1.0, \"temperature\": 0.5, \"threshold\": 0.5, \"quality\": \"Excellent\", \"error\": null}\n",
            "Processing file 169 of 349 -  2927_1.jpg\n",
            "{\"image_path\": \"2927_1.jpg\", \"cow_id\": \"2927\", \"confidence_score\": 1.0, \"temperature\": 0.5, \"threshold\": 0.5, \"quality\": \"Excellent\", \"error\": null}\n",
            "Processing file 170 of 349 -  3014_1.jpg\n",
            "{\"image_path\": \"3014_1.jpg\", \"cow_id\": \"3014\", \"confidence_score\": 1.0, \"temperature\": 0.5, \"threshold\": 0.5, \"quality\": \"Good\", \"error\": null}\n",
            "Processing file 171 of 349 -  3020_1.jpg\n"
          ]
        },
        {
          "output_type": "stream",
          "name": "stderr",
          "text": [
            "{\"error\": \"Cow ID prediction failed. Please check the image and model.\"}"
          ]
        },
        {
          "output_type": "stream",
          "name": "stdout",
          "text": [
            "Processing file 172 of 349 -  2828_1.jpg\n"
          ]
        },
        {
          "output_type": "stream",
          "name": "stderr",
          "text": [
            "{\"error\": \"Cow ID prediction failed. Please check the image and model.\"}"
          ]
        },
        {
          "output_type": "stream",
          "name": "stdout",
          "text": [
            "Processing file 173 of 349 -  2725_1.jpg\n",
            "{\"image_path\": \"2725_1.jpg\", \"cow_id\": \"2725\", \"confidence_score\": 1.0, \"temperature\": 0.5, \"threshold\": 0.5, \"quality\": \"Excellent\", \"error\": null}\n",
            "Processing file 174 of 349 -  2852_1.jpg\n",
            "{\"image_path\": \"2852_1.jpg\", \"cow_id\": \"2852\", \"confidence_score\": 1.0, \"temperature\": 0.5, \"threshold\": 0.5, \"quality\": \"Excellent\", \"error\": null}\n",
            "Processing file 175 of 349 -  2746_1.jpg\n",
            "{\"image_path\": \"2746_1.jpg\", \"cow_id\": \"2679\", \"confidence_score\": 0.64, \"temperature\": 0.5, \"threshold\": 0.5, \"quality\": \"Excellent\", \"error\": null}\n",
            "Processing file 176 of 349 -  2315_1.jpg\n",
            "{\"image_path\": \"2315_1.jpg\", \"cow_id\": \"3032\", \"confidence_score\": 0.61, \"temperature\": 0.5, \"threshold\": 0.5, \"quality\": \"Excellent\", \"error\": null}\n",
            "Processing file 177 of 349 -  2564_1.jpg\n"
          ]
        },
        {
          "output_type": "stream",
          "name": "stderr",
          "text": [
            "{\"error\": \"Cow ID prediction failed. Please check the image and model.\"}"
          ]
        },
        {
          "output_type": "stream",
          "name": "stdout",
          "text": [
            "Processing file 178 of 349 -  2919_1.jpg\n",
            "{\"image_path\": \"2919_1.jpg\", \"cow_id\": \"2919\", \"confidence_score\": 1.0, \"temperature\": 0.5, \"threshold\": 0.5, \"quality\": \"Excellent\", \"error\": null}\n",
            "Processing file 179 of 349 -  2730_1.jpg\n",
            "{\"image_path\": \"2730_1.jpg\", \"cow_id\": \"2720\", \"confidence_score\": 0.86, \"temperature\": 0.5, \"threshold\": 0.5, \"quality\": \"Excellent\", \"error\": null}\n",
            "Processing file 180 of 349 -  2838_1.jpg\n"
          ]
        },
        {
          "output_type": "stream",
          "name": "stderr",
          "text": [
            "{\"error\": \"Cow ID prediction failed. Please check the image and model.\"}"
          ]
        },
        {
          "output_type": "stream",
          "name": "stdout",
          "text": [
            "Processing file 181 of 349 -  2766_1.jpg\n",
            "{\"image_path\": \"2766_1.jpg\", \"cow_id\": \"2766\", \"confidence_score\": 1.0, \"temperature\": 0.5, \"threshold\": 0.5, \"quality\": \"Excellent\", \"error\": null}\n",
            "Processing file 182 of 349 -  color_file.png\n"
          ]
        },
        {
          "output_type": "stream",
          "name": "stderr",
          "text": [
            "ERROR:root:Error detecting muzzle: attempt to get argmax of an empty sequence\n",
            "{\"error\": \"Muzzle detection failed. Please check the image and model.\"}"
          ]
        },
        {
          "output_type": "stream",
          "name": "stdout",
          "text": [
            "Processing file 183 of 349 -  2749_1.jpg\n",
            "{\"image_path\": \"2749_1.jpg\", \"cow_id\": \"2905\", \"confidence_score\": 0.27, \"temperature\": 0.5, \"threshold\": 0.5, \"quality\": \"Excellent\", \"error\": null}\n",
            "Processing file 184 of 349 -  2768_1.jpg\n",
            "{\"image_path\": \"2768_1.jpg\", \"cow_id\": \"2768\", \"confidence_score\": 1.0, \"temperature\": 0.5, \"threshold\": 0.5, \"quality\": \"Excellent\", \"error\": null}\n",
            "Processing file 185 of 349 -  2783_1.jpg\n",
            "{\"image_path\": \"2783_1.jpg\", \"cow_id\": \"2783\", \"confidence_score\": 0.97, \"temperature\": 0.5, \"threshold\": 0.5, \"quality\": \"Excellent\", \"error\": null}\n",
            "Processing file 186 of 349 -  2755_1.jpg\n",
            "{\"image_path\": \"2755_1.jpg\", \"cow_id\": \"2767\", \"confidence_score\": 0.92, \"temperature\": 0.5, \"threshold\": 0.5, \"quality\": \"Very Good\", \"error\": null}\n",
            "Processing file 187 of 349 -  2820_1.jpg\n"
          ]
        },
        {
          "output_type": "stream",
          "name": "stderr",
          "text": [
            "{\"error\": \"Cow ID prediction failed. Please check the image and model.\"}"
          ]
        },
        {
          "output_type": "stream",
          "name": "stdout",
          "text": [
            "Processing file 188 of 349 -  2574_1.jpg\n",
            "{\"image_path\": \"2574_1.jpg\", \"cow_id\": \"2574\", \"confidence_score\": 1.0, \"temperature\": 0.5, \"threshold\": 0.5, \"quality\": \"Excellent\", \"error\": null}\n",
            "Processing file 189 of 349 -  2583_1.jpg\n",
            "{\"image_path\": \"2583_1.jpg\", \"cow_id\": \"2583\", \"confidence_score\": 1.0, \"temperature\": 0.5, \"threshold\": 0.5, \"quality\": \"Excellent\", \"error\": null}\n",
            "Processing file 190 of 349 -  2657_1.jpg\n"
          ]
        },
        {
          "output_type": "stream",
          "name": "stderr",
          "text": [
            "{\"error\": \"Cow ID prediction failed. Please check the image and model.\"}"
          ]
        },
        {
          "output_type": "stream",
          "name": "stdout",
          "text": [
            "Processing file 191 of 349 -  2588_1.jpg\n"
          ]
        },
        {
          "output_type": "stream",
          "name": "stderr",
          "text": [
            "{\"error\": \"Cow ID prediction failed. Please check the image and model.\"}"
          ]
        },
        {
          "output_type": "stream",
          "name": "stdout",
          "text": [
            "Processing file 192 of 349 -  23_1.jpg\n"
          ]
        },
        {
          "output_type": "stream",
          "name": "stderr",
          "text": [
            "{\"error\": \"Cow ID prediction failed. Please check the image and model.\"}"
          ]
        },
        {
          "output_type": "stream",
          "name": "stdout",
          "text": [
            "Processing file 193 of 349 -  2670_1.jpg\n",
            "{\"image_path\": \"2670_1.jpg\", \"cow_id\": \"2670\", \"confidence_score\": 1.0, \"temperature\": 0.5, \"threshold\": 0.5, \"quality\": \"Very Good\", \"error\": null}\n",
            "Processing file 194 of 349 -  2818_1.jpg\n",
            "{\"image_path\": \"2818_1.jpg\", \"cow_id\": \"2818\", \"confidence_score\": 1.0, \"temperature\": 0.5, \"threshold\": 0.5, \"quality\": \"Excellent\", \"error\": null}\n",
            "Processing file 195 of 349 -  2760_1.jpg\n",
            "{\"image_path\": \"2760_1.jpg\", \"cow_id\": \"2917\", \"confidence_score\": 0.18, \"temperature\": 0.5, \"threshold\": 0.5, \"quality\": \"Excellent\", \"error\": null}\n",
            "Processing file 196 of 349 -  2364_1.jpg\n"
          ]
        },
        {
          "output_type": "stream",
          "name": "stderr",
          "text": [
            "{\"error\": \"Cow ID prediction failed. Please check the image and model.\"}"
          ]
        },
        {
          "output_type": "stream",
          "name": "stdout",
          "text": [
            "Processing file 197 of 349 -  2981_1.jpg\n",
            "{\"image_path\": \"2981_1.jpg\", \"cow_id\": \"2981\", \"confidence_score\": 1.0, \"temperature\": 0.5, \"threshold\": 0.5, \"quality\": \"Excellent\", \"error\": null}\n",
            "Processing file 198 of 349 -  2908_1.jpg\n",
            "{\"image_path\": \"2908_1.jpg\", \"cow_id\": \"2908\", \"confidence_score\": 1.0, \"temperature\": 0.5, \"threshold\": 0.5, \"quality\": \"Excellent\", \"error\": null}\n",
            "Processing file 199 of 349 -  2913_1.jpg\n",
            "{\"image_path\": \"2913_1.jpg\", \"cow_id\": \"2913\", \"confidence_score\": 0.64, \"temperature\": 0.5, \"threshold\": 0.5, \"quality\": \"Good\", \"error\": null}\n",
            "Processing file 200 of 349 -  3006_1.jpg\n",
            "{\"image_path\": \"3006_1.jpg\", \"cow_id\": \"3006\", \"confidence_score\": 1.0, \"temperature\": 0.5, \"threshold\": 0.5, \"quality\": \"Good\", \"error\": null}\n",
            "Processing file 201 of 349 -  2962_1.jpg\n",
            "{\"image_path\": \"2962_1.jpg\", \"cow_id\": \"2962\", \"confidence_score\": 1.0, \"temperature\": 0.5, \"threshold\": 0.5, \"quality\": \"Excellent\", \"error\": null}\n",
            "Processing file 202 of 349 -  2495_1.jpg\n",
            "{\"image_path\": \"2495_1.jpg\", \"cow_id\": \"2495\", \"confidence_score\": 1.0, \"temperature\": 0.5, \"threshold\": 0.5, \"quality\": \"Good\", \"error\": null}\n",
            "Processing file 203 of 349 -  2833_1.jpg\n"
          ]
        },
        {
          "output_type": "stream",
          "name": "stderr",
          "text": [
            "{\"error\": \"Cow ID prediction failed. Please check the image and model.\"}"
          ]
        },
        {
          "output_type": "stream",
          "name": "stdout",
          "text": [
            "Processing file 204 of 349 -  2802_1.jpg\n",
            "{\"image_path\": \"2802_1.jpg\", \"cow_id\": \"2802\", \"confidence_score\": 1.0, \"temperature\": 0.5, \"threshold\": 0.5, \"quality\": \"Excellent\", \"error\": null}\n",
            "Processing file 205 of 349 -  2694_1.jpg\n"
          ]
        },
        {
          "output_type": "stream",
          "name": "stderr",
          "text": [
            "{\"error\": \"Cow ID prediction failed. Please check the image and model.\"}"
          ]
        },
        {
          "output_type": "stream",
          "name": "stdout",
          "text": [
            "Processing file 206 of 349 -  2804_1.jpg\n"
          ]
        },
        {
          "output_type": "stream",
          "name": "stderr",
          "text": [
            "{\"error\": \"Cow ID prediction failed. Please check the image and model.\"}"
          ]
        },
        {
          "output_type": "stream",
          "name": "stdout",
          "text": [
            "Processing file 207 of 349 -  2617_1.jpg\n",
            "{\"image_path\": \"2617_1.jpg\", \"cow_id\": \"2617\", \"confidence_score\": 1.0, \"temperature\": 0.5, \"threshold\": 0.5, \"quality\": \"Good\", \"error\": null}\n",
            "Processing file 208 of 349 -  2661_1.jpg\n",
            "{\"image_path\": \"2661_1.jpg\", \"cow_id\": \"2661\", \"confidence_score\": 1.0, \"temperature\": 0.5, \"threshold\": 0.5, \"quality\": \"Excellent\", \"error\": null}\n",
            "Processing file 209 of 349 -  607_1.jpg\n"
          ]
        },
        {
          "output_type": "stream",
          "name": "stderr",
          "text": [
            "{\"error\": \"Cow ID prediction failed. Please check the image and model.\"}"
          ]
        },
        {
          "output_type": "stream",
          "name": "stdout",
          "text": [
            "Processing file 210 of 349 -  2867_1.jpg\n",
            "{\"image_path\": \"2867_1.jpg\", \"cow_id\": \"2867\", \"confidence_score\": 1.0, \"temperature\": 0.5, \"threshold\": 0.5, \"quality\": \"Excellent\", \"error\": null}\n",
            "Processing file 211 of 349 -  2613_1.jpg\n"
          ]
        },
        {
          "output_type": "stream",
          "name": "stderr",
          "text": [
            "{\"error\": \"Cow ID prediction failed. Please check the image and model.\"}"
          ]
        },
        {
          "output_type": "stream",
          "name": "stdout",
          "text": [
            "Processing file 212 of 349 -  2726_1.jpg\n",
            "{\"image_path\": \"2726_1.jpg\", \"cow_id\": \"2726\", \"confidence_score\": 1.0, \"temperature\": 0.5, \"threshold\": 0.5, \"quality\": \"Very Good\", \"error\": null}\n",
            "Processing file 213 of 349 -  2830_1.jpg\n",
            "{\"image_path\": \"2830_1.jpg\", \"cow_id\": \"2830\", \"confidence_score\": 1.0, \"temperature\": 0.5, \"threshold\": 0.5, \"quality\": \"Good\", \"error\": null}\n",
            "Processing file 214 of 349 -  3035_1.jpg\n",
            "{\"image_path\": \"3035_1.jpg\", \"cow_id\": \"3035\", \"confidence_score\": 1.0, \"temperature\": 0.5, \"threshold\": 0.5, \"quality\": \"Excellent\", \"error\": null}\n",
            "Processing file 215 of 349 -  2914_1.jpg\n",
            "{\"image_path\": \"2914_1.jpg\", \"cow_id\": \"2914\", \"confidence_score\": 1.0, \"temperature\": 0.5, \"threshold\": 0.5, \"quality\": \"Excellent\", \"error\": null}\n",
            "Processing file 216 of 349 -  2798_1.jpg\n",
            "{\"image_path\": \"2798_1.jpg\", \"cow_id\": \"2600\", \"confidence_score\": 0.57, \"temperature\": 0.5, \"threshold\": 0.5, \"quality\": \"Excellent\", \"error\": null}\n",
            "Processing file 217 of 349 -  2483_1.jpg\n"
          ]
        },
        {
          "output_type": "stream",
          "name": "stderr",
          "text": [
            "{\"error\": \"Cow ID prediction failed. Please check the image and model.\"}"
          ]
        },
        {
          "output_type": "stream",
          "name": "stdout",
          "text": [
            "Processing file 218 of 349 -  2693_1.jpg\n",
            "{\"image_path\": \"2693_1.jpg\", \"cow_id\": \"2693\", \"confidence_score\": 1.0, \"temperature\": 0.5, \"threshold\": 0.5, \"quality\": \"Excellent\", \"error\": null}\n",
            "Processing file 219 of 349 -  2723_1.jpg\n",
            "{\"image_path\": \"2723_1.jpg\", \"cow_id\": \"2723\", \"confidence_score\": 1.0, \"temperature\": 0.5, \"threshold\": 0.5, \"quality\": \"Excellent\", \"error\": null}\n",
            "Processing file 220 of 349 -  2834_1.jpg\n"
          ]
        },
        {
          "output_type": "stream",
          "name": "stderr",
          "text": [
            "{\"error\": \"Cow ID prediction failed. Please check the image and model.\"}"
          ]
        },
        {
          "output_type": "stream",
          "name": "stdout",
          "text": [
            "Processing file 221 of 349 -  2875_1.jpg\n",
            "{\"image_path\": \"2875_1.jpg\", \"cow_id\": \"2875\", \"confidence_score\": 1.0, \"temperature\": 0.5, \"threshold\": 0.5, \"quality\": \"Excellent\", \"error\": null}\n",
            "Processing file 222 of 349 -  2393_4.jpg\n",
            "{\"image_path\": \"2393_4.jpg\", \"cow_id\": \"2393\", \"confidence_score\": 1.0, \"temperature\": 0.5, \"threshold\": 0.5, \"quality\": \"Very Good\", \"error\": null}\n",
            "Processing file 223 of 349 -  2868_1.jpg\n",
            "{\"image_path\": \"2868_1.jpg\", \"cow_id\": \"2868\", \"confidence_score\": 1.0, \"temperature\": 0.5, \"threshold\": 0.5, \"quality\": \"Very Good\", \"error\": null}\n",
            "Processing file 224 of 349 -  2728_1.jpg\n",
            "{\"image_path\": \"2728_1.jpg\", \"cow_id\": \"2728\", \"confidence_score\": 1.0, \"temperature\": 0.5, \"threshold\": 0.5, \"quality\": \"Excellent\", \"error\": null}\n",
            "Processing file 225 of 349 -  2806_1.jpg\n"
          ]
        },
        {
          "output_type": "stream",
          "name": "stderr",
          "text": [
            "{\"error\": \"Cow ID prediction failed. Please check the image and model.\"}"
          ]
        },
        {
          "output_type": "stream",
          "name": "stdout",
          "text": [
            "Processing file 226 of 349 -  2829_1.jpg\n"
          ]
        },
        {
          "output_type": "stream",
          "name": "stderr",
          "text": [
            "{\"error\": \"Cow ID prediction failed. Please check the image and model.\"}"
          ]
        },
        {
          "output_type": "stream",
          "name": "stdout",
          "text": [
            "Processing file 227 of 349 -  2692_1.jpg\n",
            "{\"image_path\": \"2692_1.jpg\", \"cow_id\": \"2692\", \"confidence_score\": 1.0, \"temperature\": 0.5, \"threshold\": 0.5, \"quality\": \"Very Good\", \"error\": null}\n",
            "Processing file 228 of 349 -  2859_1.jpg\n",
            "{\"image_path\": \"2859_1.jpg\", \"cow_id\": \"2859\", \"confidence_score\": 1.0, \"temperature\": 0.5, \"threshold\": 0.5, \"quality\": \"Excellent\", \"error\": null}\n",
            "Processing file 229 of 349 -  2810_1.jpg\n",
            "{\"image_path\": \"2810_1.jpg\", \"cow_id\": \"2810\", \"confidence_score\": 1.0, \"temperature\": 0.5, \"threshold\": 0.5, \"quality\": \"Excellent\", \"error\": null}\n",
            "Processing file 230 of 349 -  606_1.jpg\n",
            "{\"image_path\": \"606_1.jpg\", \"cow_id\": \"3032\", \"confidence_score\": 0.79, \"temperature\": 0.5, \"threshold\": 0.5, \"quality\": \"Very Good\", \"error\": null}\n",
            "Processing file 231 of 349 -  2747_1.jpg\n",
            "{\"image_path\": \"2747_1.jpg\", \"cow_id\": \"2459\", \"confidence_score\": 1.0, \"temperature\": 0.5, \"threshold\": 0.5, \"quality\": \"Excellent\", \"error\": null}\n",
            "Processing file 232 of 349 -  2831_1.jpg\n"
          ]
        },
        {
          "output_type": "stream",
          "name": "stderr",
          "text": [
            "{\"error\": \"Cow ID prediction failed. Please check the image and model.\"}"
          ]
        },
        {
          "output_type": "stream",
          "name": "stdout",
          "text": [
            "Processing file 233 of 349 -  2993_1.jpg\n",
            "{\"image_path\": \"2993_1.jpg\", \"cow_id\": \"2993\", \"confidence_score\": 1.0, \"temperature\": 0.5, \"threshold\": 0.5, \"quality\": \"Good\", \"error\": null}\n",
            "Processing file 234 of 349 -  2879_1.jpg\n",
            "{\"image_path\": \"2879_1.jpg\", \"cow_id\": \"2863\", \"confidence_score\": 0.38, \"temperature\": 0.5, \"threshold\": 0.5, \"quality\": \"Good\", \"error\": null}\n",
            "Processing file 235 of 349 -  2782_1.jpg\n",
            "{\"image_path\": \"2782_1.jpg\", \"cow_id\": \"2782\", \"confidence_score\": 1.0, \"temperature\": 0.5, \"threshold\": 0.5, \"quality\": \"Excellent\", \"error\": null}\n",
            "Processing file 236 of 349 -  2845_1.jpg\n",
            "{\"image_path\": \"2845_1.jpg\", \"cow_id\": \"2845\", \"confidence_score\": 1.0, \"temperature\": 0.5, \"threshold\": 0.5, \"quality\": \"Excellent\", \"error\": null}\n",
            "Processing file 237 of 349 -  2631_1.jpg\n",
            "{\"image_path\": \"2631_1.jpg\", \"cow_id\": \"2631\", \"confidence_score\": 1.0, \"temperature\": 0.5, \"threshold\": 0.5, \"quality\": \"Excellent\", \"error\": null}\n",
            "Processing file 238 of 349 -  3017_1.jpg\n",
            "{\"image_path\": \"3017_1.jpg\", \"cow_id\": \"3017\", \"confidence_score\": 1.0, \"temperature\": 0.5, \"threshold\": 0.5, \"quality\": \"Excellent\", \"error\": null}\n",
            "Processing file 239 of 349 -  2904_1.jpg\n",
            "{\"image_path\": \"2904_1.jpg\", \"cow_id\": \"14\", \"confidence_score\": 0.39, \"temperature\": 0.5, \"threshold\": 0.5, \"quality\": \"Excellent\", \"error\": null}\n",
            "Processing file 240 of 349 -  2975_1.jpg\n",
            "{\"image_path\": \"2975_1.jpg\", \"cow_id\": \"2975\", \"confidence_score\": 1.0, \"temperature\": 0.5, \"threshold\": 0.5, \"quality\": \"Excellent\", \"error\": null}\n",
            "Processing file 241 of 349 -  2815_1.jpg\n"
          ]
        },
        {
          "output_type": "stream",
          "name": "stderr",
          "text": [
            "{\"error\": \"Cow ID prediction failed. Please check the image and model.\"}"
          ]
        },
        {
          "output_type": "stream",
          "name": "stdout",
          "text": [
            "Processing file 242 of 349 -  2839_1.jpg\n"
          ]
        },
        {
          "output_type": "stream",
          "name": "stderr",
          "text": [
            "{\"error\": \"Cow ID prediction failed. Please check the image and model.\"}"
          ]
        },
        {
          "output_type": "stream",
          "name": "stdout",
          "text": [
            "Processing file 243 of 349 -  2979_1.jpg\n"
          ]
        },
        {
          "output_type": "stream",
          "name": "stderr",
          "text": [
            "{\"error\": \"Cow ID prediction failed. Please check the image and model.\"}"
          ]
        },
        {
          "output_type": "stream",
          "name": "stdout",
          "text": [
            "Processing file 244 of 349 -  3025_1.jpg\n"
          ]
        },
        {
          "output_type": "stream",
          "name": "stderr",
          "text": [
            "ERROR:root:Error detecting muzzle: attempt to get argmax of an empty sequence\n",
            "{\"error\": \"Muzzle detection failed. Please check the image and model.\"}"
          ]
        },
        {
          "output_type": "stream",
          "name": "stdout",
          "text": [
            "Processing file 245 of 349 -  2721_1.jpg\n",
            "{\"image_path\": \"2721_1.jpg\", \"cow_id\": \"2514\", \"confidence_score\": 0.37, \"temperature\": 0.5, \"threshold\": 0.5, \"quality\": \"Good\", \"error\": null}\n",
            "Processing file 246 of 349 -  242_1.jpg\n",
            "{\"image_path\": \"242_1.jpg\", \"cow_id\": \"242\", \"confidence_score\": 1.0, \"temperature\": 0.5, \"threshold\": 0.5, \"quality\": \"Excellent\", \"error\": null}\n",
            "Processing file 247 of 349 -  2713_1.jpg\n",
            "{\"image_path\": \"2713_1.jpg\", \"cow_id\": \"2713\", \"confidence_score\": 1.0, \"temperature\": 0.5, \"threshold\": 0.5, \"quality\": \"Very Good\", \"error\": null}\n",
            "Processing file 248 of 349 -  2866_1.jpg\n",
            "{\"image_path\": \"2866_1.jpg\", \"cow_id\": \"2866\", \"confidence_score\": 1.0, \"temperature\": 0.5, \"threshold\": 0.5, \"quality\": \"Very Good\", \"error\": null}\n",
            "Processing file 249 of 349 -  2780_1.jpg\n",
            "{\"image_path\": \"2780_1.jpg\", \"cow_id\": \"2780\", \"confidence_score\": 1.0, \"temperature\": 0.5, \"threshold\": 0.5, \"quality\": \"Excellent\", \"error\": null}\n",
            "Processing file 250 of 349 -  3021_1.jpg\n",
            "{\"image_path\": \"3021_1.jpg\", \"cow_id\": \"3021\", \"confidence_score\": 1.0, \"temperature\": 0.5, \"threshold\": 0.5, \"quality\": \"Excellent\", \"error\": null}\n",
            "Processing file 251 of 349 -  2876_1.jpg\n",
            "{\"image_path\": \"2876_1.jpg\", \"cow_id\": \"2876\", \"confidence_score\": 1.0, \"temperature\": 0.5, \"threshold\": 0.5, \"quality\": \"Excellent\", \"error\": null}\n",
            "Processing file 252 of 349 -  2754_1.jpg\n",
            "{\"image_path\": \"2754_1.jpg\", \"cow_id\": \"3004\", \"confidence_score\": 0.21, \"temperature\": 0.5, \"threshold\": 0.5, \"quality\": \"Excellent\", \"error\": null}\n",
            "Processing file 253 of 349 -  2986_1.jpg\n",
            "{\"image_path\": \"2986_1.jpg\", \"cow_id\": \"2986\", \"confidence_score\": 1.0, \"temperature\": 0.5, \"threshold\": 0.5, \"quality\": \"Excellent\", \"error\": null}\n",
            "Processing file 254 of 349 -  2673_1.jpg\n",
            "{\"image_path\": \"2673_1.jpg\", \"cow_id\": \"2673\", \"confidence_score\": 1.0, \"temperature\": 0.5, \"threshold\": 0.5, \"quality\": \"Excellent\", \"error\": null}\n",
            "Processing file 255 of 349 -  2901_1.jpg\n"
          ]
        },
        {
          "output_type": "stream",
          "name": "stderr",
          "text": [
            "{\"error\": \"Cow ID prediction failed. Please check the image and model.\"}"
          ]
        },
        {
          "output_type": "stream",
          "name": "stdout",
          "text": [
            "Processing file 256 of 349 -  2939_1.jpg\n",
            "{\"image_path\": \"2939_1.jpg\", \"cow_id\": \"2939\", \"confidence_score\": 1.0, \"temperature\": 0.5, \"threshold\": 0.5, \"quality\": \"Excellent\", \"error\": null}\n",
            "Processing file 257 of 349 -  2781_1.jpg\n",
            "{\"image_path\": \"2781_1.jpg\", \"cow_id\": \"2781\", \"confidence_score\": 1.0, \"temperature\": 0.5, \"threshold\": 0.5, \"quality\": \"Excellent\", \"error\": null}\n",
            "Processing file 258 of 349 -  2732_.jpg\n",
            "{\"image_path\": \"2732_.jpg\", \"cow_id\": \"2732\", \"confidence_score\": 1.0, \"temperature\": 0.5, \"threshold\": 0.5, \"quality\": \"Good\", \"error\": null}\n",
            "Processing file 259 of 349 -  2621_1.jpg\n",
            "{\"image_path\": \"2621_1.jpg\", \"cow_id\": \"2621\", \"confidence_score\": 0.99, \"temperature\": 0.5, \"threshold\": 0.5, \"quality\": \"Excellent\", \"error\": null}\n",
            "Processing file 260 of 349 -  2476_1.jpg\n"
          ]
        },
        {
          "output_type": "stream",
          "name": "stderr",
          "text": [
            "{\"error\": \"Cow ID prediction failed. Please check the image and model.\"}"
          ]
        },
        {
          "output_type": "stream",
          "name": "stdout",
          "text": [
            "Processing file 261 of 349 -  2794_1.jpg\n",
            "{\"image_path\": \"2794_1.jpg\", \"cow_id\": \"2794\", \"confidence_score\": 1.0, \"temperature\": 0.5, \"threshold\": 0.5, \"quality\": \"Excellent\", \"error\": null}\n",
            "Processing file 262 of 349 -  2917_1.jpg\n",
            "{\"image_path\": \"2917_1.jpg\", \"cow_id\": \"2917\", \"confidence_score\": 1.0, \"temperature\": 0.5, \"threshold\": 0.5, \"quality\": \"Very Good\", \"error\": null}\n",
            "Processing file 263 of 349 -  2905_1.jpg\n",
            "{\"image_path\": \"2905_1.jpg\", \"cow_id\": \"2905\", \"confidence_score\": 1.0, \"temperature\": 0.5, \"threshold\": 0.5, \"quality\": \"Good\", \"error\": null}\n",
            "Processing file 264 of 349 -  2663_1.jpg\n",
            "{\"image_path\": \"2663_1.jpg\", \"cow_id\": \"2663\", \"confidence_score\": 0.98, \"temperature\": 0.5, \"threshold\": 0.5, \"quality\": \"Excellent\", \"error\": null}\n",
            "Processing file 265 of 349 -  2694_2.jpg\n"
          ]
        },
        {
          "output_type": "stream",
          "name": "stderr",
          "text": [
            "{\"error\": \"Cow ID prediction failed. Please check the image and model.\"}"
          ]
        },
        {
          "output_type": "stream",
          "name": "stdout",
          "text": [
            "Processing file 266 of 349 -  2972_1.jpg\n",
            "{\"image_path\": \"2972_1.jpg\", \"cow_id\": \"2972\", \"confidence_score\": 1.0, \"temperature\": 0.5, \"threshold\": 0.5, \"quality\": \"Excellent\", \"error\": null}\n",
            "Processing file 267 of 349 -  2896_1.jpg\n"
          ]
        },
        {
          "output_type": "stream",
          "name": "stderr",
          "text": [
            "{\"error\": \"Cow ID prediction failed. Please check the image and model.\"}"
          ]
        },
        {
          "output_type": "stream",
          "name": "stdout",
          "text": [
            "Processing file 268 of 349 -  2785_1.jpg\n"
          ]
        },
        {
          "output_type": "stream",
          "name": "stderr",
          "text": [
            "{\"error\": \"Cow ID prediction failed. Please check the image and model.\"}"
          ]
        },
        {
          "output_type": "stream",
          "name": "stdout",
          "text": [
            "Processing file 269 of 349 -  2809_1.jpg\n",
            "{\"image_path\": \"2809_1.jpg\", \"cow_id\": \"2939\", \"confidence_score\": 0.28, \"temperature\": 0.5, \"threshold\": 0.5, \"quality\": \"Excellent\", \"error\": null}\n",
            "Processing file 270 of 349 -  2629_1.jpg\n",
            "{\"image_path\": \"2629_1.jpg\", \"cow_id\": \"2629\", \"confidence_score\": 0.81, \"temperature\": 0.5, \"threshold\": 0.5, \"quality\": \"Excellent\", \"error\": null}\n",
            "Processing file 271 of 349 -  2665_1.jpg\n",
            "{\"image_path\": \"2665_1.jpg\", \"cow_id\": \"2665\", \"confidence_score\": 1.0, \"temperature\": 0.5, \"threshold\": 0.5, \"quality\": \"Excellent\", \"error\": null}\n",
            "Processing file 272 of 349 -  2779_1.jpg\n",
            "{\"image_path\": \"2779_1.jpg\", \"cow_id\": \"2779\", \"confidence_score\": 1.0, \"temperature\": 0.5, \"threshold\": 0.5, \"quality\": \"Very Good\", \"error\": null}\n",
            "Processing file 273 of 349 -  2653_1.jpg\n"
          ]
        },
        {
          "output_type": "stream",
          "name": "stderr",
          "text": [
            "{\"error\": \"Cow ID prediction failed. Please check the image and model.\"}"
          ]
        },
        {
          "output_type": "stream",
          "name": "stdout",
          "text": [
            "Processing file 274 of 349 -  2998_1.jpg\n",
            "{\"image_path\": \"2998_1.jpg\", \"cow_id\": \"2998\", \"confidence_score\": 1.0, \"temperature\": 0.5, \"threshold\": 0.5, \"quality\": \"Good\", \"error\": null}\n",
            "Processing file 275 of 349 -  2836_1.jpg\n"
          ]
        },
        {
          "output_type": "stream",
          "name": "stderr",
          "text": [
            "{\"error\": \"Cow ID prediction failed. Please check the image and model.\"}"
          ]
        },
        {
          "output_type": "stream",
          "name": "stdout",
          "text": [
            "Processing file 276 of 349 -  3015_1.jpg\n",
            "{\"image_path\": \"3015_1.jpg\", \"cow_id\": \"3015\", \"confidence_score\": 1.0, \"temperature\": 0.5, \"threshold\": 0.5, \"quality\": \"Excellent\", \"error\": null}\n",
            "Processing file 277 of 349 -  25_1.jpg\n"
          ]
        },
        {
          "output_type": "stream",
          "name": "stderr",
          "text": [
            "{\"error\": \"Cow ID prediction failed. Please check the image and model.\"}"
          ]
        },
        {
          "output_type": "stream",
          "name": "stdout",
          "text": [
            "Processing file 278 of 349 -  2335_1.jpg\n",
            "{\"image_path\": \"2335_1.jpg\", \"cow_id\": \"2335\", \"confidence_score\": 1.0, \"temperature\": 0.5, \"threshold\": 0.5, \"quality\": \"Excellent\", \"error\": null}\n",
            "Processing file 279 of 349 -  2450_1.jpg\n",
            "{\"image_path\": \"2450_1.jpg\", \"cow_id\": \"2415\", \"confidence_score\": 0.6, \"temperature\": 0.5, \"threshold\": 0.5, \"quality\": \"Excellent\", \"error\": null}\n",
            "Processing file 280 of 349 -  2980_1.jpg\n",
            "{\"image_path\": \"2980_1.jpg\", \"cow_id\": \"2980\", \"confidence_score\": 1.0, \"temperature\": 0.5, \"threshold\": 0.5, \"quality\": \"Excellent\", \"error\": null}\n",
            "Processing file 281 of 349 -  2822_.jpg\n",
            "{\"image_path\": \"2822_.jpg\", \"cow_id\": \"2822\", \"confidence_score\": 1.0, \"temperature\": 0.5, \"threshold\": 0.5, \"quality\": \"Very Good\", \"error\": null}\n",
            "Processing file 282 of 349 -  2686_1.jpg\n"
          ]
        },
        {
          "output_type": "stream",
          "name": "stderr",
          "text": [
            "{\"error\": \"Cow ID prediction failed. Please check the image and model.\"}"
          ]
        },
        {
          "output_type": "stream",
          "name": "stdout",
          "text": [
            "Processing file 283 of 349 -  2733_1.jpg\n"
          ]
        },
        {
          "output_type": "stream",
          "name": "stderr",
          "text": [
            "{\"error\": \"Cow ID prediction failed. Please check the image and model.\"}"
          ]
        },
        {
          "output_type": "stream",
          "name": "stdout",
          "text": [
            "Processing file 284 of 349 -  2801_1.jpg\n"
          ]
        },
        {
          "output_type": "stream",
          "name": "stderr",
          "text": [
            "{\"error\": \"Cow ID prediction failed. Please check the image and model.\"}"
          ]
        },
        {
          "output_type": "stream",
          "name": "stdout",
          "text": [
            "Processing file 285 of 349 -  9_1.jpg\n",
            "{\"image_path\": \"9_1.jpg\", \"cow_id\": \"2991\", \"confidence_score\": 0.63, \"temperature\": 0.5, \"threshold\": 0.5, \"quality\": \"Good\", \"error\": null}\n",
            "Processing file 286 of 349 -  2442_1.jpg\n",
            "{\"image_path\": \"2442_1.jpg\", \"cow_id\": \"2442\", \"confidence_score\": 1.0, \"temperature\": 0.5, \"threshold\": 0.5, \"quality\": \"Very Good\", \"error\": null}\n",
            "Processing file 287 of 349 -  2349_1.jpg\n"
          ]
        },
        {
          "output_type": "stream",
          "name": "stderr",
          "text": [
            "{\"error\": \"Cow ID prediction failed. Please check the image and model.\"}"
          ]
        },
        {
          "output_type": "stream",
          "name": "stdout",
          "text": [
            "Processing file 288 of 349 -  2849_1.jpg\n",
            "{\"image_path\": \"2849_1.jpg\", \"cow_id\": \"2849\", \"confidence_score\": 1.0, \"temperature\": 0.5, \"threshold\": 0.5, \"quality\": \"Excellent\", \"error\": null}\n",
            "Processing file 289 of 349 -  3027_1.jpg\n"
          ]
        },
        {
          "output_type": "stream",
          "name": "stderr",
          "text": [
            "{\"error\": \"Cow ID prediction failed. Please check the image and model.\"}"
          ]
        },
        {
          "output_type": "stream",
          "name": "stdout",
          "text": [
            "Processing file 290 of 349 -  2880_1.jpg\n",
            "{\"image_path\": \"2880_1.jpg\", \"cow_id\": \"2726\", \"confidence_score\": 0.85, \"temperature\": 0.5, \"threshold\": 0.5, \"quality\": \"Excellent\", \"error\": null}\n",
            "Processing file 291 of 349 -  3008_1.jpg\n",
            "{\"image_path\": \"3008_1.jpg\", \"cow_id\": \"2895\", \"confidence_score\": 0.9, \"temperature\": 0.5, \"threshold\": 0.5, \"quality\": \"Excellent\", \"error\": null}\n",
            "Processing file 292 of 349 -  2659_1.jpg\n",
            "{\"image_path\": \"2659_1.jpg\", \"cow_id\": \"2659\", \"confidence_score\": 1.0, \"temperature\": 0.5, \"threshold\": 0.5, \"quality\": \"Excellent\", \"error\": null}\n",
            "Processing file 293 of 349 -  3022_1.jpg\n",
            "{\"image_path\": \"3022_1.jpg\", \"cow_id\": \"3022\", \"confidence_score\": 1.0, \"temperature\": 0.5, \"threshold\": 0.5, \"quality\": \"Excellent\", \"error\": null}\n",
            "Processing file 294 of 349 -  2689_1.jpg\n"
          ]
        },
        {
          "output_type": "stream",
          "name": "stderr",
          "text": [
            "{\"error\": \"Cow ID prediction failed. Please check the image and model.\"}"
          ]
        },
        {
          "output_type": "stream",
          "name": "stdout",
          "text": [
            "Processing file 295 of 349 -  2778_1.jpg\n",
            "{\"image_path\": \"2778_1.jpg\", \"cow_id\": \"2778\", \"confidence_score\": 1.0, \"temperature\": 0.5, \"threshold\": 0.5, \"quality\": \"Excellent\", \"error\": null}\n",
            "Processing file 296 of 349 -  2787_1.jpg\n",
            "{\"image_path\": \"2787_1.jpg\", \"cow_id\": \"2787\", \"confidence_score\": 1.0, \"temperature\": 0.5, \"threshold\": 0.5, \"quality\": \"Very Good\", \"error\": null}\n",
            "Processing file 297 of 349 -  2771_1.jpg\n",
            "{\"image_path\": \"2771_1.jpg\", \"cow_id\": \"2601\", \"confidence_score\": 0.58, \"temperature\": 0.5, \"threshold\": 0.5, \"quality\": \"Very Good\", \"error\": null}\n",
            "Processing file 298 of 349 -  2530_1.jpg\n",
            "{\"image_path\": \"2530_1.jpg\", \"cow_id\": \"2530\", \"confidence_score\": 1.0, \"temperature\": 0.5, \"threshold\": 0.5, \"quality\": \"Excellent\", \"error\": null}\n",
            "Processing file 299 of 349 -  2566_1.jpg\n",
            "{\"image_path\": \"2566_1.jpg\", \"cow_id\": \"2670\", \"confidence_score\": 0.67, \"temperature\": 0.5, \"threshold\": 0.5, \"quality\": \"Good\", \"error\": null}\n",
            "Processing file 300 of 349 -  2577_1.jpg\n",
            "{\"image_path\": \"2577_1.jpg\", \"cow_id\": \"2577\", \"confidence_score\": 1.0, \"temperature\": 0.5, \"threshold\": 0.5, \"quality\": \"Good\", \"error\": null}\n",
            "Processing file 301 of 349 -  2601_1.jpg\n"
          ]
        },
        {
          "output_type": "stream",
          "name": "stderr",
          "text": [
            "{\"error\": \"Cow ID prediction failed. Please check the image and model.\"}"
          ]
        },
        {
          "output_type": "stream",
          "name": "stdout",
          "text": [
            "Processing file 302 of 349 -  2535_1.jpg\n",
            "{\"image_path\": \"2535_1.jpg\", \"cow_id\": \"2535\", \"confidence_score\": 1.0, \"temperature\": 0.5, \"threshold\": 0.5, \"quality\": \"Very Good\", \"error\": null}\n",
            "Processing file 303 of 349 -  2856_1.jpg\n",
            "{\"image_path\": \"2856_1.jpg\", \"cow_id\": \"2856\", \"confidence_score\": 1.0, \"temperature\": 0.5, \"threshold\": 0.5, \"quality\": \"Very Good\", \"error\": null}\n",
            "Processing file 304 of 349 -  2888_1.jpg\n",
            "{\"image_path\": \"2888_1.jpg\", \"cow_id\": \"2888\", \"confidence_score\": 1.0, \"temperature\": 0.5, \"threshold\": 0.5, \"quality\": \"Excellent\", \"error\": null}\n",
            "Processing file 305 of 349 -  2623_1.jpg\n"
          ]
        },
        {
          "output_type": "stream",
          "name": "stderr",
          "text": [
            "{\"error\": \"Cow ID prediction failed. Please check the image and model.\"}"
          ]
        },
        {
          "output_type": "stream",
          "name": "stdout",
          "text": [
            "Processing file 306 of 349 -  2855_1.jpg\n",
            "{\"image_path\": \"2855_1.jpg\", \"cow_id\": \"2855\", \"confidence_score\": 0.96, \"temperature\": 0.5, \"threshold\": 0.5, \"quality\": \"Excellent\", \"error\": null}\n",
            "Processing file 307 of 349 -  2799_1.jpg\n",
            "{\"image_path\": \"2799_1.jpg\", \"cow_id\": \"2799\", \"confidence_score\": 1.0, \"temperature\": 0.5, \"threshold\": 0.5, \"quality\": \"Excellent\", \"error\": null}\n",
            "Processing file 308 of 349 -  2729_1.jpg\n"
          ]
        },
        {
          "output_type": "stream",
          "name": "stderr",
          "text": [
            "{\"error\": \"Cow ID prediction failed. Please check the image and model.\"}"
          ]
        },
        {
          "output_type": "stream",
          "name": "stdout",
          "text": [
            "Processing file 309 of 349 -  2946_1.jpg\n",
            "{\"image_path\": \"2946_1.jpg\", \"cow_id\": \"2946\", \"confidence_score\": 1.0, \"temperature\": 0.5, \"threshold\": 0.5, \"quality\": \"Very Good\", \"error\": null}\n",
            "Processing file 310 of 349 -  266_1.jpg\n",
            "{\"image_path\": \"266_1.jpg\", \"cow_id\": \"2518\", \"confidence_score\": 0.63, \"temperature\": 0.5, \"threshold\": 0.5, \"quality\": \"Very Good\", \"error\": null}\n",
            "Processing file 311 of 349 -  2910_1.jpg\n",
            "{\"image_path\": \"2910_1.jpg\", \"cow_id\": \"2910\", \"confidence_score\": 1.0, \"temperature\": 0.5, \"threshold\": 0.5, \"quality\": \"Good\", \"error\": null}\n",
            "Processing file 312 of 349 -  2701_1.jpg\n"
          ]
        },
        {
          "output_type": "stream",
          "name": "stderr",
          "text": [
            "{\"error\": \"Cow ID prediction failed. Please check the image and model.\"}"
          ]
        },
        {
          "output_type": "stream",
          "name": "stdout",
          "text": [
            "Processing file 313 of 349 -  2841_1.jpg\n",
            "{\"image_path\": \"2841_1.jpg\", \"cow_id\": \"2841\", \"confidence_score\": 1.0, \"temperature\": 0.5, \"threshold\": 0.5, \"quality\": \"Excellent\", \"error\": null}\n",
            "Processing file 314 of 349 -  3005_1.jpg\n",
            "{\"image_path\": \"3005_1.jpg\", \"cow_id\": \"3005\", \"confidence_score\": 1.0, \"temperature\": 0.5, \"threshold\": 0.5, \"quality\": \"Excellent\", \"error\": null}\n",
            "Processing file 315 of 349 -  2123_1.jpg\n",
            "{\"image_path\": \"2123_1.jpg\", \"cow_id\": \"2123\", \"confidence_score\": 1.0, \"temperature\": 0.5, \"threshold\": 0.5, \"quality\": \"Good\", \"error\": null}\n",
            "Processing file 316 of 349 -  21_1.jpg\n",
            "{\"image_path\": \"21_1.jpg\", \"cow_id\": \"21\", \"confidence_score\": 1.0, \"temperature\": 0.5, \"threshold\": 0.5, \"quality\": \"Excellent\", \"error\": null}\n",
            "Processing file 317 of 349 -  2672_1.jpg\n"
          ]
        },
        {
          "output_type": "stream",
          "name": "stderr",
          "text": [
            "{\"error\": \"Cow ID prediction failed. Please check the image and model.\"}"
          ]
        },
        {
          "output_type": "stream",
          "name": "stdout",
          "text": [
            "Processing file 318 of 349 -  2459_1.jpg\n",
            "{\"image_path\": \"2459_1.jpg\", \"cow_id\": \"2459\", \"confidence_score\": 1.0, \"temperature\": 0.5, \"threshold\": 0.5, \"quality\": \"Excellent\", \"error\": null}\n",
            "Processing file 319 of 349 -  3009_1.jpg\n",
            "{\"image_path\": \"3009_1.jpg\", \"cow_id\": \"3009\", \"confidence_score\": 1.0, \"temperature\": 0.5, \"threshold\": 0.5, \"quality\": \"Good\", \"error\": null}\n",
            "Processing file 320 of 349 -  2677_1.jpg\n",
            "{\"image_path\": \"2677_1.jpg\", \"cow_id\": \"16\", \"confidence_score\": 0.83, \"temperature\": 0.5, \"threshold\": 0.5, \"quality\": \"Very Good\", \"error\": null}\n",
            "Processing file 321 of 349 -  2640_1.jpg\n",
            "{\"image_path\": \"2640_1.jpg\", \"cow_id\": \"2640\", \"confidence_score\": 1.0, \"temperature\": 0.5, \"threshold\": 0.5, \"quality\": \"Very Good\", \"error\": null}\n",
            "Processing file 322 of 349 -  2417_1.jpg\n",
            "{\"image_path\": \"2417_1.jpg\", \"cow_id\": \"2417\", \"confidence_score\": 1.0, \"temperature\": 0.5, \"threshold\": 0.5, \"quality\": \"Very Good\", \"error\": null}\n",
            "Processing file 323 of 349 -  15_1.jpg\n",
            "{\"image_path\": \"15_1.jpg\", \"cow_id\": \"15\", \"confidence_score\": 1.0, \"temperature\": 0.5, \"threshold\": 0.5, \"quality\": \"Excellent\", \"error\": null}\n",
            "Processing file 324 of 349 -  2684_1.jpg\n",
            "{\"image_path\": \"2684_1.jpg\", \"cow_id\": \"2684\", \"confidence_score\": 1.0, \"temperature\": 0.5, \"threshold\": 0.5, \"quality\": \"Excellent\", \"error\": null}\n",
            "Processing file 325 of 349 -  2720_1.jpg\n",
            "{\"image_path\": \"2720_1.jpg\", \"cow_id\": \"2720\", \"confidence_score\": 1.0, \"temperature\": 0.5, \"threshold\": 0.5, \"quality\": \"Excellent\", \"error\": null}\n",
            "Processing file 326 of 349 -  3018_1.jpg\n",
            "{\"image_path\": \"3018_1.jpg\", \"cow_id\": \"3018\", \"confidence_score\": 1.0, \"temperature\": 0.5, \"threshold\": 0.5, \"quality\": \"Very Good\", \"error\": null}\n",
            "Processing file 327 of 349 -  3037_1.jpg\n",
            "{\"image_path\": \"3037_1.jpg\", \"cow_id\": \"3037\", \"confidence_score\": 1.0, \"temperature\": 0.5, \"threshold\": 0.5, \"quality\": \"Excellent\", \"error\": null}\n",
            "Processing file 328 of 349 -  26_1.jpg\n"
          ]
        },
        {
          "output_type": "stream",
          "name": "stderr",
          "text": [
            "{\"error\": \"Cow ID prediction failed. Please check the image and model.\"}"
          ]
        },
        {
          "output_type": "stream",
          "name": "stdout",
          "text": [
            "Processing file 329 of 349 -  2928_1.jpg\n",
            "{\"image_path\": \"2928_1.jpg\", \"cow_id\": \"2928\", \"confidence_score\": 1.0, \"temperature\": 0.5, \"threshold\": 0.5, \"quality\": \"Very Good\", \"error\": null}\n",
            "Processing file 330 of 349 -  2697_1.jpg\n",
            "{\"image_path\": \"2697_1.jpg\", \"cow_id\": \"2697\", \"confidence_score\": 1.0, \"temperature\": 0.5, \"threshold\": 0.5, \"quality\": \"Excellent\", \"error\": null}\n",
            "Processing file 331 of 349 -  10_1.jpg\n",
            "{\"image_path\": \"10_1.jpg\", \"cow_id\": \"10\", \"confidence_score\": 1.0, \"temperature\": 0.5, \"threshold\": 0.5, \"quality\": \"Excellent\", \"error\": null}\n",
            "Processing file 332 of 349 -  2265_1.jpg\n",
            "{\"image_path\": \"2265_1.jpg\", \"cow_id\": \"2265\", \"confidence_score\": 1.0, \"temperature\": 0.5, \"threshold\": 0.5, \"quality\": \"Good\", \"error\": null}\n",
            "Processing file 333 of 349 -  2865_1.jpg\n",
            "{\"image_path\": \"2865_1.jpg\", \"cow_id\": \"2865\", \"confidence_score\": 1.0, \"temperature\": 0.5, \"threshold\": 0.5, \"quality\": \"Excellent\", \"error\": null}\n",
            "Processing file 334 of 349 -  2846_1.jpg\n",
            "{\"image_path\": \"2846_1.jpg\", \"cow_id\": \"2846\", \"confidence_score\": 1.0, \"temperature\": 0.5, \"threshold\": 0.5, \"quality\": \"Excellent\", \"error\": null}\n",
            "Processing file 335 of 349 -  2751_1.jpg\n",
            "{\"image_path\": \"2751_1.jpg\", \"cow_id\": \"2751\", \"confidence_score\": 1.0, \"temperature\": 0.5, \"threshold\": 0.5, \"quality\": \"Excellent\", \"error\": null}\n",
            "Processing file 336 of 349 -  2968_1.jpg\n",
            "{\"image_path\": \"2968_1.jpg\", \"cow_id\": \"2968\", \"confidence_score\": 1.0, \"temperature\": 0.5, \"threshold\": 0.5, \"quality\": \"Excellent\", \"error\": null}\n",
            "Processing file 337 of 349 -  2592_1.jpg\n",
            "{\"image_path\": \"2592_1.jpg\", \"cow_id\": \"2592\", \"confidence_score\": 1.0, \"temperature\": 0.5, \"threshold\": 0.5, \"quality\": \"Excellent\", \"error\": null}\n",
            "Processing file 338 of 349 -  2850_1.jpg\n",
            "{\"image_path\": \"2850_1.jpg\", \"cow_id\": \"2850\", \"confidence_score\": 1.0, \"temperature\": 0.5, \"threshold\": 0.5, \"quality\": \"Excellent\", \"error\": null}\n",
            "Processing file 339 of 349 -  2772_1.jpg\n"
          ]
        },
        {
          "output_type": "stream",
          "name": "stderr",
          "text": [
            "{\"error\": \"Cow ID prediction failed. Please check the image and model.\"}"
          ]
        },
        {
          "output_type": "stream",
          "name": "stdout",
          "text": [
            "Processing file 340 of 349 -  2920_1.jpg\n",
            "{\"image_path\": \"2920_1.jpg\", \"cow_id\": \"2920\", \"confidence_score\": 1.0, \"temperature\": 0.5, \"threshold\": 0.5, \"quality\": \"Excellent\", \"error\": null}\n",
            "Processing file 341 of 349 -  2600_1.jpg\n",
            "{\"image_path\": \"2600_1.jpg\", \"cow_id\": \"2600\", \"confidence_score\": 1.0, \"temperature\": 0.5, \"threshold\": 0.5, \"quality\": \"Excellent\", \"error\": null}\n",
            "Processing file 342 of 349 -  2740_1.jpg\n",
            "{\"image_path\": \"2740_1.jpg\", \"cow_id\": \"2722\", \"confidence_score\": 0.3, \"temperature\": 0.5, \"threshold\": 0.5, \"quality\": \"Good\", \"error\": null}\n",
            "Processing file 343 of 349 -  2587_1.jpg\n"
          ]
        },
        {
          "output_type": "stream",
          "name": "stderr",
          "text": [
            "{\"error\": \"Cow ID prediction failed. Please check the image and model.\"}"
          ]
        },
        {
          "output_type": "stream",
          "name": "stdout",
          "text": [
            "Processing file 344 of 349 -  2915_1.jpg\n",
            "{\"image_path\": \"2915_1.jpg\", \"cow_id\": \"2915\", \"confidence_score\": 1.0, \"temperature\": 0.5, \"threshold\": 0.5, \"quality\": \"Good\", \"error\": null}\n",
            "Processing file 345 of 349 -  2863_1.jpg\n",
            "{\"image_path\": \"2863_1.jpg\", \"cow_id\": \"2863\", \"confidence_score\": 1.0, \"temperature\": 0.5, \"threshold\": 0.5, \"quality\": \"Good\", \"error\": null}\n",
            "Processing file 346 of 349 -  2791_1.jpg\n"
          ]
        },
        {
          "output_type": "stream",
          "name": "stderr",
          "text": [
            "{\"error\": \"Cow ID prediction failed. Please check the image and model.\"}"
          ]
        },
        {
          "output_type": "stream",
          "name": "stdout",
          "text": [
            "Processing file 347 of 349 -  2513_1.jpg\n",
            "{\"image_path\": \"2513_1.jpg\", \"cow_id\": \"2513\", \"confidence_score\": 1.0, \"temperature\": 0.5, \"threshold\": 0.5, \"quality\": \"Very Good\", \"error\": null}\n",
            "Processing file 348 of 349 -  2942_1.jpg\n"
          ]
        },
        {
          "output_type": "stream",
          "name": "stderr",
          "text": [
            "{\"error\": \"Cow ID prediction failed. Please check the image and model.\"}"
          ]
        },
        {
          "output_type": "stream",
          "name": "stdout",
          "text": [
            "Processing file 349 of 349 -  3036_1.jpg\n",
            "{\"image_path\": \"3036_1.jpg\", \"cow_id\": \"3036\", \"confidence_score\": 0.77, \"temperature\": 0.5, \"threshold\": 0.5, \"quality\": \"Excellent\", \"error\": null}\n"
          ]
        }
      ],
      "source": [
        "import os\n",
        "import cv2\n",
        "from ultralytics import YOLO\n",
        "import numpy as np\n",
        "from tensorflow.keras.models import load_model\n",
        "import yaml\n",
        "import sys\n",
        "import json\n",
        "import logging\n",
        "import argparse\n",
        "import csv\n",
        "\n",
        "os.environ[\"TF_CPP_MIN_LOG_LEVEL\"] = (\n",
        "    \"3\"  # Suppresses TensorFlow warnings and info messages\n",
        ")\n",
        "\n",
        "# Set up logging\n",
        "logging.basicConfig(\n",
        "    filename=\"process.log\",\n",
        "    level=logging.DEBUG,\n",
        "    format=\"%(asctime)s - %(levelname)s - %(message)s\",\n",
        ")\n",
        "\n",
        "\n",
        "def write_percentage(session_id, content):\n",
        "    \"\"\"\n",
        "    Overwrites the content of the specified file with the given content.\n",
        "\n",
        "    :param file_path: Path to the file to be overwritten.\n",
        "    :param content: Content to write into the file.\n",
        "    \"\"\"\n",
        "    with open(session_id, \"w\") as file:\n",
        "        file.write(content)\n",
        "\n",
        "\n",
        "def load_models(yolo_model_path, cow_id_model_path):\n",
        "    try:\n",
        "        yolo_model = YOLO(yolo_model_path)\n",
        "        cow_ID_model = load_model(cow_id_model_path, compile=False)\n",
        "        return yolo_model, cow_ID_model, None\n",
        "    except Exception as e:\n",
        "        logging.error(f\"Error loading models: {e}\")\n",
        "        return (\n",
        "            None,\n",
        "            None,\n",
        "            json.dumps(\n",
        "                {\"error\": \"Failed to load models. Please check the model paths.\"}\n",
        "            ),\n",
        "        )\n",
        "\n",
        "\n",
        "def load_cow_id_mappings(mapping_file):\n",
        "    try:\n",
        "        with open(mapping_file, \"r\") as f:\n",
        "            mappings = yaml.safe_load(f)\n",
        "        return mappings, None\n",
        "    except Exception as e:\n",
        "        logging.error(f\"Error loading cow ID mappings: {e}\")\n",
        "        return None, json.dumps(\n",
        "            {\"error\": \"Failed to load cow ID mappings. Please check the mapping file.\"}\n",
        "        )\n",
        "\n",
        "\n",
        "def detect_muzzle(yolo_model, cow_image):\n",
        "    try:\n",
        "        results = yolo_model.predict(source=cow_image, verbose=False)\n",
        "        confidence_scores = results[0].boxes.conf\n",
        "        max_index = np.argmax(confidence_scores)\n",
        "        bbox = results[0].boxes.xyxy[max_index]\n",
        "        bbox = [int(coord) for coord in bbox]\n",
        "        muzzle_image = cow_image[bbox[1] : bbox[3], bbox[0] : bbox[2]]\n",
        "        bbox_size = (bbox[3] - bbox[1]) * (bbox[2] - bbox[0])\n",
        "        max_confidence = confidence_scores[\n",
        "            max_index\n",
        "        ]  # Max confidence for the detected muzzle\n",
        "        return muzzle_image, bbox_size, max_confidence, None\n",
        "    except Exception as e:\n",
        "        logging.error(f\"Error detecting muzzle: {e}\")\n",
        "        return (\n",
        "            None,\n",
        "            None,\n",
        "            None,\n",
        "            json.dumps(\n",
        "                {\"error\": \"Muzzle detection failed. Please check the image and model.\"}\n",
        "            ),\n",
        "        )\n",
        "\n",
        "\n",
        "def crop_image_center(image, crop_percentage_width=0.20, crop_percentage_height=0.20):\n",
        "    try:\n",
        "        height, width, _ = image.shape\n",
        "        crop_height = int(height * crop_percentage_height)\n",
        "        crop_width = int(width * crop_percentage_width)\n",
        "        cropped_image = image[crop_height:-crop_height, crop_width:-crop_width]\n",
        "        return cropped_image, None\n",
        "    except Exception as e:\n",
        "        logging.error(f\"Error cropping image: {e}\")\n",
        "        return None, json.dumps(\n",
        "            {\"error\": \"Image cropping failed. Please check the image dimensions.\"}\n",
        "        )\n",
        "\n",
        "\n",
        "def ensure_target_size(image, target_height=400, target_width=400):\n",
        "    try:\n",
        "        height, width, _ = image.shape\n",
        "        if height < target_height or width < target_width:\n",
        "            image = cv2.resize(\n",
        "                image, (target_width, target_height), interpolation=cv2.INTER_LINEAR\n",
        "            )\n",
        "        start_x = max(0, (width - target_width) // 2)\n",
        "        start_y = max(0, (height - target_height) // 2)\n",
        "        cropped_image = image[\n",
        "            start_y : start_y + target_height, start_x : start_x + target_width\n",
        "        ]\n",
        "        return cropped_image, None\n",
        "    except Exception as e:\n",
        "        logging.error(f\"Error ensuring target size: {e}\")\n",
        "        return None, json.dumps({\"error\": \"Resizing image to target size failed.\"})\n",
        "\n",
        "\n",
        "def prepare_image_for_prediction(image):\n",
        "    try:\n",
        "        image = cv2.cvtColor(image, cv2.COLOR_BGR2GRAY)\n",
        "        image = np.dstack([image] * 3)\n",
        "        return image, None\n",
        "    except Exception as e:\n",
        "        logging.error(f\"Error preparing image for prediction: {e}\")\n",
        "        return None, json.dumps({\"error\": \"Image preparation for prediction failed.\"})\n",
        "\n",
        "\n",
        "def predict_cow_id(image, model):\n",
        "    try:\n",
        "        x1 = np.expand_dims(image, axis=0)\n",
        "        predictions = model.predict(x1, verbose=0)\n",
        "        max_confidence = float(np.max(predictions))  # Convert to Python native float\n",
        "        y = int(np.argmax(predictions, axis=1)[0])  # Convert to Python native int\n",
        "        return y, max_confidence, None\n",
        "    except Exception as e:\n",
        "        logging.error(f\"Error predicting cow ID: {e}\")\n",
        "        return (\n",
        "            None,\n",
        "            None,\n",
        "            json.dumps({\"error\": \"Cow ID prediction failed. Please check the image and model.\"}),\n",
        "        )\n",
        "\n",
        "\n",
        "def convert_grayscale_to_color(image):\n",
        "    try:\n",
        "        if len(image.shape) == 2:  # Check if the image is single-channel (grayscale)\n",
        "            color_image = np.dstack([image] * 3)\n",
        "            return color_image, None\n",
        "        elif (\n",
        "            len(image.shape) == 3 and image.shape[2] == 3\n",
        "        ):  # Check if the image is already in color\n",
        "            return image, None\n",
        "        else:\n",
        "            raise ValueError(\n",
        "                \"Unexpected image format. The image must be either single-channel or 3-channel.\"\n",
        "            )\n",
        "    except Exception as e:\n",
        "        logging.error(f\"Error converting grayscale to color: {e}\")\n",
        "        return None, json.dumps({\"error\": \"Image format conversion failed.\"})\n",
        "\n",
        "\n",
        "def determine_quality_from_muzzle(muzzle_image, bbox_size, confidence_score):\n",
        "    try:\n",
        "        # Sharpness: Measure the variance of the Laplacian to determine sharpness\n",
        "        sharpness = cv2.Laplacian(muzzle_image, cv2.CV_64F).var()\n",
        "\n",
        "        # Logging bbox size, sharpness, and confidence score for debugging\n",
        "        logging.info(\n",
        "            f\"Bounding Box Size: {bbox_size}, Sharpness: {sharpness}, Confidence Score: {confidence_score}\"\n",
        "        )\n",
        "\n",
        "        # Adjusted thresholds\n",
        "        if bbox_size > 25000 and sharpness > 200 and confidence_score > 0.7:\n",
        "            return \"Excellent\", None\n",
        "        elif bbox_size > 20000 and sharpness > 150 and confidence_score > 0.6:\n",
        "            return \"Very Good\", None\n",
        "        elif bbox_size > 15000 and sharpness > 100 and confidence_score > 0.5:\n",
        "            return \"Good\", None\n",
        "        elif bbox_size > 10000 and sharpness > 50 and confidence_score > 0.4:\n",
        "            return None, json.dumps(\n",
        "                {\"error\": \"Cow ID prediction failed. Please check the image and model.\"}\n",
        "            )\n",
        "        else:\n",
        "            return \"Poor\", json.dumps(\n",
        "                {\"error\": \"Cow ID prediction failed. Please check the image and model.\"}\n",
        "            )\n",
        "    except Exception as e:\n",
        "        logging.error(f\"Error determining image quality: {e}\")\n",
        "        return \"Unknown\"\n",
        "\n",
        "def save_to_csv(file_path, data, fieldnames):\n",
        "    \"\"\"\n",
        "    Save data to a CSV file.\n",
        "\n",
        "    Parameters:\n",
        "    - file_path (str): Path to the CSV file.\n",
        "    - data (dict): Data to write to the CSV file.\n",
        "    - fieldnames (list): List of column names for the CSV file.\n",
        "    \"\"\"\n",
        "    file_exists = os.path.isfile(file_path)\n",
        "\n",
        "    with open(file_path, mode='a', newline='') as file:\n",
        "        writer = csv.DictWriter(file, fieldnames=fieldnames)\n",
        "\n",
        "        # Write the header only if the file does not exist\n",
        "        if not file_exists:\n",
        "            writer.writeheader()\n",
        "\n",
        "        writer.writerow(data)\n",
        "\n",
        "\n",
        "def main(args, filename):\n",
        "    error_occurred = None\n",
        "    try:\n",
        "        write_percentage(args.session, \"Completed 5%. Loading Models ...\")\n",
        "        yolo_model, cow_ID_model, error = load_models(\n",
        "            args.yolo_model, args.cow_id_model\n",
        "        )\n",
        "        if error:\n",
        "            sys.stderr.write(error)\n",
        "            error_occurred = error\n",
        "            return\n",
        "\n",
        "        write_percentage(args.session, \"Completed 10%. Loading Cow's Mapping Database...\")\n",
        "        int_to_ID_161, error = load_cow_id_mappings(args.mapping_file)\n",
        "        if error:\n",
        "            sys.stderr.write(error)\n",
        "            error_occurred = error\n",
        "            return\n",
        "\n",
        "        write_percentage(args.session, \"Completed 25%. Uploading Image to Model...\")\n",
        "        cow_image = cv2.imread(args.image)\n",
        "        if cow_image is None:\n",
        "            error_occurred = json.dumps({\"error\": \"Image not found or unable to load.\"})\n",
        "            sys.stderr.write(error_occurred)\n",
        "            return\n",
        "\n",
        "        write_percentage(args.session, \"Completed 50%. Detecting Muzzle...\")\n",
        "        muzzle_image, bbox_size, confidence_score, error = detect_muzzle(\n",
        "            yolo_model, cow_image\n",
        "        )\n",
        "        if error:\n",
        "            sys.stderr.write(error)\n",
        "            error_occurred = error\n",
        "            return\n",
        "\n",
        "        write_percentage(args.session, \"Completed 55%. Cropping the Muzzle area...\")\n",
        "        cropped_muzzle_image, error = crop_image_center(muzzle_image)\n",
        "        if error:\n",
        "            sys.stderr.write(error)\n",
        "            error_occurred = error\n",
        "            return\n",
        "\n",
        "        write_percentage(args.session, \"Completed 70%. Converting the GrayScale image to Color ...\")\n",
        "        color_muzzle_image, error = convert_grayscale_to_color(cropped_muzzle_image)\n",
        "        if error:\n",
        "            sys.stderr.write(error)\n",
        "            error_occurred = error\n",
        "            return\n",
        "\n",
        "        write_percentage(args.session, \"Completed 74%. Preparing Image for Prediction ...\")\n",
        "        prepared_image, error = prepare_image_for_prediction(color_muzzle_image)\n",
        "        if error:\n",
        "            sys.stderr.write(error)\n",
        "            error_occurred = error\n",
        "            return\n",
        "\n",
        "        write_percentage(args.session, \"Completed 76%. Cross-checking Target Image Size ...\")\n",
        "        image_front, error = ensure_target_size(prepared_image)\n",
        "        if error:\n",
        "            sys.stderr.write(error)\n",
        "            error_occurred = error\n",
        "            return\n",
        "\n",
        "        write_percentage(args.session, \"Completed 90%. Predicting Cow ID ...\")\n",
        "        predicted_label, confidence, error = predict_cow_id(image_front, cow_ID_model)\n",
        "        if error:\n",
        "            sys.stderr.write(error)\n",
        "            error_occurred = error\n",
        "            return\n",
        "\n",
        "        # Determine quality based on muzzle detection\n",
        "        write_percentage(args.session, \"Completed 95%. Determining Model's Quality from Muzzle ...\")\n",
        "        quality, error = determine_quality_from_muzzle(\n",
        "            muzzle_image, bbox_size, confidence_score\n",
        "        )\n",
        "        if error:\n",
        "            sys.stderr.write(error)\n",
        "            error_occurred = error\n",
        "            return\n",
        "\n",
        "        write_percentage(args.session, f\"Completed 95%. Model's Quality of Muzzle: {quality} ...\")\n",
        "        # Now, use the color image for further processing if needed\n",
        "        # For demonstration, let's save the color image to a file\n",
        "        write_percentage(args.session, \"Completed 99%. Saving Image to Disk ...\")\n",
        "        cv2.imwrite(\"color_file.png\", color_muzzle_image)\n",
        "\n",
        "        data = {\n",
        "            \"image_path\": filename,\n",
        "            \"cow_id\": int_to_ID_161[predicted_label],\n",
        "            \"confidence_score\": round(confidence, 2),\n",
        "            \"temperature\": args.temperature,\n",
        "            \"threshold\": args.threshold,\n",
        "            \"quality\": quality,\n",
        "            \"error\": None,\n",
        "        }\n",
        "        write_percentage(args.session, \"Completed 100%. Completed Cow Identification, processing results ...\")\n",
        "        print(json.dumps(data))\n",
        "\n",
        "        fieldnames = list(data.keys())\n",
        "        save_to_csv('report.csv', data, fieldnames)\n",
        "    except Exception as e:\n",
        "        error_json = json.dumps({\"error\": str(e)})\n",
        "        sys.stderr.write(error_json)\n",
        "        logging.error(f\"Error in main function: {e}\")\n",
        "        error_occurred = error_json\n",
        "    finally:\n",
        "        if error_occurred:\n",
        "          data = {\n",
        "            \"image_path\": filename,\n",
        "            \"cow_id\":'',\n",
        "            \"confidence_score\": '',\n",
        "            \"temperature\": '',\n",
        "            \"threshold\": '',\n",
        "            \"quality\":'',\n",
        "            \"error\": error_occurred,\n",
        "          }\n",
        "          fieldnames = list(data.keys())\n",
        "          save_to_csv('report.csv', data, fieldnames)\n",
        "\n",
        "\n",
        "if __name__ == \"__main__\":\n",
        "    # Define the directory containing images and other files\n",
        "    directory = \"/new/Data\"\n",
        "    print(directory)\n",
        "    # Supported image extensions\n",
        "    image_extensions = ('.jpg', '.jpeg', '.png', '.bmp', '.gif')\n",
        "\n",
        "    all_files = os.listdir(directory)\n",
        "    image_files = [f for f in all_files if f.lower().endswith(image_extensions)]\n",
        "    total_files = len(image_files)\n",
        "\n",
        "    processed_files = 0\n",
        "    # Loop through the directory to find all image files\n",
        "    for filename in os.listdir(directory):\n",
        "        if filename.lower().endswith(image_extensions):\n",
        "            # Create the full path to the image\n",
        "            image_path = os.path.join(directory, filename)\n",
        "            processed_files += 1\n",
        "\n",
        "\n",
        "            # Create the args Namespace with the current image\n",
        "            args = argparse.Namespace(\n",
        "                image=image_path,\n",
        "                yolo_model=os.path.join(directory, \"best.pt\"),        # Path to the YOLO model\n",
        "                cow_id_model=os.path.join(directory, \"ResNet50_cow_id_all.h5\"),  # Path to the cow ID model\n",
        "                mapping_file=os.path.join(directory, \"int_to_ID_all_cows.yaml\"), # Path to the YAML mapping file\n",
        "                temperature=0.5,                                      # Adjust temperature as needed\n",
        "                threshold=0.5,                                        # Adjust threshold as needed\n",
        "                session=filename+'.txt'                                      # Session string\n",
        "            )\n",
        "\n",
        "            # Call the main function with the current args\n",
        "            print(f\"Processing file {processed_files} of {total_files} -  {filename}\")\n",
        "            main(args,filename)\n",
        "\n",
        "\n",
        "\n"
      ]
    },
    {
      "cell_type": "code",
      "source": [
        "import pandas as pd\n",
        "import re\n",
        "\n",
        "def extract_integer_id(filename):\n",
        "    \"\"\"\n",
        "    Extract the first integer ID from the filename.\n",
        "\n",
        "    Parameters:\n",
        "    filename (str): The name of the file to extract the ID from.\n",
        "\n",
        "    Returns:\n",
        "    int or str: The extracted integer ID, or an empty string if no integer ID is found.\n",
        "    \"\"\"\n",
        "    # Extract the first sequence of digits from the filename before any underscore\n",
        "    match = re.match(r'(\\d+)', filename.split('_')[0])\n",
        "    if match:\n",
        "        return int(match.group(1))\n",
        "    return ''\n",
        "\n",
        "# Load the CSV file\n",
        "csv_file_path = 'report.csv'  # Update the path as needed\n",
        "df = pd.read_csv(csv_file_path)\n",
        "\n",
        "# Initialize counters and results list\n",
        "passed_count = 0\n",
        "failed_count = 0\n",
        "error_count = 0\n",
        "results = []\n",
        "\n",
        "# Process each row in the DataFrame\n",
        "for _, row in df.iterrows():\n",
        "    # Extract necessary information\n",
        "    image_path = row['image_path']\n",
        "    cow_id = row['cow_id']\n",
        "    actual_cow_id = extract_integer_id(image_path)\n",
        "    error_message = 'false'\n",
        "\n",
        "    # Handle errors\n",
        "    if not pd.isnull(row['error']):  # Check if 'error' column is not NaN\n",
        "        status = 'error'\n",
        "        error_count += 1\n",
        "        error_message = row['error']\n",
        "        results.append({\n",
        "          'Actual COW ID': actual_cow_id,\n",
        "          'Cow ID': cow_id if not pd.isna(cow_id) else 'N/A',\n",
        "          'Status': status,\n",
        "          'Error': error_message\n",
        "        })\n",
        "        continue\n",
        "\n",
        "\n",
        "    if pd.isna(cow_id):  # No cow_id provided\n",
        "        status = 'failed'\n",
        "        failed_count += 1\n",
        "    else:\n",
        "        cow_id = int(cow_id)\n",
        "        # Compare actual cow ID with the provided cow ID\n",
        "        if actual_cow_id == cow_id:\n",
        "            status = 'passed'\n",
        "            passed_count += 1\n",
        "        else:\n",
        "            status = 'failed'\n",
        "            failed_count += 1\n",
        "\n",
        "    results.append({\n",
        "        'Actual COW ID': actual_cow_id,\n",
        "        'Cow ID': cow_id if not pd.isna(cow_id) else 'N/A',\n",
        "        'Status': status,\n",
        "        'Error': error_message\n",
        "    })\n",
        "\n",
        "# Create a DataFrame for the results table\n",
        "results_df = pd.DataFrame(results)\n",
        "\n",
        "# Print the counts\n",
        "print(f'Passed: {passed_count}')\n",
        "print(f'Failed: {failed_count}')\n",
        "print(f'Error: {error_count}')\n",
        "\n",
        "# Print the results table\n",
        "import IPython.display as display\n",
        "display.display(results_df)\n"
      ],
      "metadata": {
        "colab": {
          "base_uri": "https://localhost:8080/",
          "height": 748
        },
        "id": "Rv_F_1RDHBmP",
        "outputId": "915fe4eb-e9e4-4cb3-b9da-9f86015893da"
      },
      "execution_count": 38,
      "outputs": [
        {
          "output_type": "stream",
          "name": "stdout",
          "text": [
            "Passed: 209\n",
            "Failed: 47\n",
            "Error: 93\n"
          ]
        },
        {
          "output_type": "display_data",
          "data": {
            "text/plain": [
              "    Actual COW ID Cow ID  Status  \\\n",
              "0            3026   3026  passed   \n",
              "1            2261   2856  failed   \n",
              "2            2641    N/A   error   \n",
              "3            2528   2528  passed   \n",
              "4            2750    N/A   error   \n",
              "..            ...    ...     ...   \n",
              "344          2863   2863  passed   \n",
              "345          2791    N/A   error   \n",
              "346          2513   2513  passed   \n",
              "347          2942    N/A   error   \n",
              "348          3036   3036  passed   \n",
              "\n",
              "                                                 Error  \n",
              "0                                                false  \n",
              "1                                                false  \n",
              "2    {\"error\": \"Cow ID prediction failed. Please ch...  \n",
              "3                                                false  \n",
              "4    {\"error\": \"Cow ID prediction failed. Please ch...  \n",
              "..                                                 ...  \n",
              "344                                              false  \n",
              "345  {\"error\": \"Cow ID prediction failed. Please ch...  \n",
              "346                                              false  \n",
              "347  {\"error\": \"Cow ID prediction failed. Please ch...  \n",
              "348                                              false  \n",
              "\n",
              "[349 rows x 4 columns]"
            ],
            "text/html": [
              "\n",
              "  <div id=\"df-84637c36-5be8-4290-8476-3547c2e40017\" class=\"colab-df-container\">\n",
              "    <div>\n",
              "<style scoped>\n",
              "    .dataframe tbody tr th:only-of-type {\n",
              "        vertical-align: middle;\n",
              "    }\n",
              "\n",
              "    .dataframe tbody tr th {\n",
              "        vertical-align: top;\n",
              "    }\n",
              "\n",
              "    .dataframe thead th {\n",
              "        text-align: right;\n",
              "    }\n",
              "</style>\n",
              "<table border=\"1\" class=\"dataframe\">\n",
              "  <thead>\n",
              "    <tr style=\"text-align: right;\">\n",
              "      <th></th>\n",
              "      <th>Actual COW ID</th>\n",
              "      <th>Cow ID</th>\n",
              "      <th>Status</th>\n",
              "      <th>Error</th>\n",
              "    </tr>\n",
              "  </thead>\n",
              "  <tbody>\n",
              "    <tr>\n",
              "      <th>0</th>\n",
              "      <td>3026</td>\n",
              "      <td>3026</td>\n",
              "      <td>passed</td>\n",
              "      <td>false</td>\n",
              "    </tr>\n",
              "    <tr>\n",
              "      <th>1</th>\n",
              "      <td>2261</td>\n",
              "      <td>2856</td>\n",
              "      <td>failed</td>\n",
              "      <td>false</td>\n",
              "    </tr>\n",
              "    <tr>\n",
              "      <th>2</th>\n",
              "      <td>2641</td>\n",
              "      <td>N/A</td>\n",
              "      <td>error</td>\n",
              "      <td>{\"error\": \"Cow ID prediction failed. Please ch...</td>\n",
              "    </tr>\n",
              "    <tr>\n",
              "      <th>3</th>\n",
              "      <td>2528</td>\n",
              "      <td>2528</td>\n",
              "      <td>passed</td>\n",
              "      <td>false</td>\n",
              "    </tr>\n",
              "    <tr>\n",
              "      <th>4</th>\n",
              "      <td>2750</td>\n",
              "      <td>N/A</td>\n",
              "      <td>error</td>\n",
              "      <td>{\"error\": \"Cow ID prediction failed. Please ch...</td>\n",
              "    </tr>\n",
              "    <tr>\n",
              "      <th>...</th>\n",
              "      <td>...</td>\n",
              "      <td>...</td>\n",
              "      <td>...</td>\n",
              "      <td>...</td>\n",
              "    </tr>\n",
              "    <tr>\n",
              "      <th>344</th>\n",
              "      <td>2863</td>\n",
              "      <td>2863</td>\n",
              "      <td>passed</td>\n",
              "      <td>false</td>\n",
              "    </tr>\n",
              "    <tr>\n",
              "      <th>345</th>\n",
              "      <td>2791</td>\n",
              "      <td>N/A</td>\n",
              "      <td>error</td>\n",
              "      <td>{\"error\": \"Cow ID prediction failed. Please ch...</td>\n",
              "    </tr>\n",
              "    <tr>\n",
              "      <th>346</th>\n",
              "      <td>2513</td>\n",
              "      <td>2513</td>\n",
              "      <td>passed</td>\n",
              "      <td>false</td>\n",
              "    </tr>\n",
              "    <tr>\n",
              "      <th>347</th>\n",
              "      <td>2942</td>\n",
              "      <td>N/A</td>\n",
              "      <td>error</td>\n",
              "      <td>{\"error\": \"Cow ID prediction failed. Please ch...</td>\n",
              "    </tr>\n",
              "    <tr>\n",
              "      <th>348</th>\n",
              "      <td>3036</td>\n",
              "      <td>3036</td>\n",
              "      <td>passed</td>\n",
              "      <td>false</td>\n",
              "    </tr>\n",
              "  </tbody>\n",
              "</table>\n",
              "<p>349 rows × 4 columns</p>\n",
              "</div>\n",
              "    <div class=\"colab-df-buttons\">\n",
              "\n",
              "  <div class=\"colab-df-container\">\n",
              "    <button class=\"colab-df-convert\" onclick=\"convertToInteractive('df-84637c36-5be8-4290-8476-3547c2e40017')\"\n",
              "            title=\"Convert this dataframe to an interactive table.\"\n",
              "            style=\"display:none;\">\n",
              "\n",
              "  <svg xmlns=\"http://www.w3.org/2000/svg\" height=\"24px\" viewBox=\"0 -960 960 960\">\n",
              "    <path d=\"M120-120v-720h720v720H120Zm60-500h600v-160H180v160Zm220 220h160v-160H400v160Zm0 220h160v-160H400v160ZM180-400h160v-160H180v160Zm440 0h160v-160H620v160ZM180-180h160v-160H180v160Zm440 0h160v-160H620v160Z\"/>\n",
              "  </svg>\n",
              "    </button>\n",
              "\n",
              "  <style>\n",
              "    .colab-df-container {\n",
              "      display:flex;\n",
              "      gap: 12px;\n",
              "    }\n",
              "\n",
              "    .colab-df-convert {\n",
              "      background-color: #E8F0FE;\n",
              "      border: none;\n",
              "      border-radius: 50%;\n",
              "      cursor: pointer;\n",
              "      display: none;\n",
              "      fill: #1967D2;\n",
              "      height: 32px;\n",
              "      padding: 0 0 0 0;\n",
              "      width: 32px;\n",
              "    }\n",
              "\n",
              "    .colab-df-convert:hover {\n",
              "      background-color: #E2EBFA;\n",
              "      box-shadow: 0px 1px 2px rgba(60, 64, 67, 0.3), 0px 1px 3px 1px rgba(60, 64, 67, 0.15);\n",
              "      fill: #174EA6;\n",
              "    }\n",
              "\n",
              "    .colab-df-buttons div {\n",
              "      margin-bottom: 4px;\n",
              "    }\n",
              "\n",
              "    [theme=dark] .colab-df-convert {\n",
              "      background-color: #3B4455;\n",
              "      fill: #D2E3FC;\n",
              "    }\n",
              "\n",
              "    [theme=dark] .colab-df-convert:hover {\n",
              "      background-color: #434B5C;\n",
              "      box-shadow: 0px 1px 3px 1px rgba(0, 0, 0, 0.15);\n",
              "      filter: drop-shadow(0px 1px 2px rgba(0, 0, 0, 0.3));\n",
              "      fill: #FFFFFF;\n",
              "    }\n",
              "  </style>\n",
              "\n",
              "    <script>\n",
              "      const buttonEl =\n",
              "        document.querySelector('#df-84637c36-5be8-4290-8476-3547c2e40017 button.colab-df-convert');\n",
              "      buttonEl.style.display =\n",
              "        google.colab.kernel.accessAllowed ? 'block' : 'none';\n",
              "\n",
              "      async function convertToInteractive(key) {\n",
              "        const element = document.querySelector('#df-84637c36-5be8-4290-8476-3547c2e40017');\n",
              "        const dataTable =\n",
              "          await google.colab.kernel.invokeFunction('convertToInteractive',\n",
              "                                                    [key], {});\n",
              "        if (!dataTable) return;\n",
              "\n",
              "        const docLinkHtml = 'Like what you see? Visit the ' +\n",
              "          '<a target=\"_blank\" href=https://colab.research.google.com/notebooks/data_table.ipynb>data table notebook</a>'\n",
              "          + ' to learn more about interactive tables.';\n",
              "        element.innerHTML = '';\n",
              "        dataTable['output_type'] = 'display_data';\n",
              "        await google.colab.output.renderOutput(dataTable, element);\n",
              "        const docLink = document.createElement('div');\n",
              "        docLink.innerHTML = docLinkHtml;\n",
              "        element.appendChild(docLink);\n",
              "      }\n",
              "    </script>\n",
              "  </div>\n",
              "\n",
              "\n",
              "<div id=\"df-6b309aa9-b7a1-4314-b3d5-a71841bdc9c8\">\n",
              "  <button class=\"colab-df-quickchart\" onclick=\"quickchart('df-6b309aa9-b7a1-4314-b3d5-a71841bdc9c8')\"\n",
              "            title=\"Suggest charts\"\n",
              "            style=\"display:none;\">\n",
              "\n",
              "<svg xmlns=\"http://www.w3.org/2000/svg\" height=\"24px\"viewBox=\"0 0 24 24\"\n",
              "     width=\"24px\">\n",
              "    <g>\n",
              "        <path d=\"M19 3H5c-1.1 0-2 .9-2 2v14c0 1.1.9 2 2 2h14c1.1 0 2-.9 2-2V5c0-1.1-.9-2-2-2zM9 17H7v-7h2v7zm4 0h-2V7h2v10zm4 0h-2v-4h2v4z\"/>\n",
              "    </g>\n",
              "</svg>\n",
              "  </button>\n",
              "\n",
              "<style>\n",
              "  .colab-df-quickchart {\n",
              "      --bg-color: #E8F0FE;\n",
              "      --fill-color: #1967D2;\n",
              "      --hover-bg-color: #E2EBFA;\n",
              "      --hover-fill-color: #174EA6;\n",
              "      --disabled-fill-color: #AAA;\n",
              "      --disabled-bg-color: #DDD;\n",
              "  }\n",
              "\n",
              "  [theme=dark] .colab-df-quickchart {\n",
              "      --bg-color: #3B4455;\n",
              "      --fill-color: #D2E3FC;\n",
              "      --hover-bg-color: #434B5C;\n",
              "      --hover-fill-color: #FFFFFF;\n",
              "      --disabled-bg-color: #3B4455;\n",
              "      --disabled-fill-color: #666;\n",
              "  }\n",
              "\n",
              "  .colab-df-quickchart {\n",
              "    background-color: var(--bg-color);\n",
              "    border: none;\n",
              "    border-radius: 50%;\n",
              "    cursor: pointer;\n",
              "    display: none;\n",
              "    fill: var(--fill-color);\n",
              "    height: 32px;\n",
              "    padding: 0;\n",
              "    width: 32px;\n",
              "  }\n",
              "\n",
              "  .colab-df-quickchart:hover {\n",
              "    background-color: var(--hover-bg-color);\n",
              "    box-shadow: 0 1px 2px rgba(60, 64, 67, 0.3), 0 1px 3px 1px rgba(60, 64, 67, 0.15);\n",
              "    fill: var(--button-hover-fill-color);\n",
              "  }\n",
              "\n",
              "  .colab-df-quickchart-complete:disabled,\n",
              "  .colab-df-quickchart-complete:disabled:hover {\n",
              "    background-color: var(--disabled-bg-color);\n",
              "    fill: var(--disabled-fill-color);\n",
              "    box-shadow: none;\n",
              "  }\n",
              "\n",
              "  .colab-df-spinner {\n",
              "    border: 2px solid var(--fill-color);\n",
              "    border-color: transparent;\n",
              "    border-bottom-color: var(--fill-color);\n",
              "    animation:\n",
              "      spin 1s steps(1) infinite;\n",
              "  }\n",
              "\n",
              "  @keyframes spin {\n",
              "    0% {\n",
              "      border-color: transparent;\n",
              "      border-bottom-color: var(--fill-color);\n",
              "      border-left-color: var(--fill-color);\n",
              "    }\n",
              "    20% {\n",
              "      border-color: transparent;\n",
              "      border-left-color: var(--fill-color);\n",
              "      border-top-color: var(--fill-color);\n",
              "    }\n",
              "    30% {\n",
              "      border-color: transparent;\n",
              "      border-left-color: var(--fill-color);\n",
              "      border-top-color: var(--fill-color);\n",
              "      border-right-color: var(--fill-color);\n",
              "    }\n",
              "    40% {\n",
              "      border-color: transparent;\n",
              "      border-right-color: var(--fill-color);\n",
              "      border-top-color: var(--fill-color);\n",
              "    }\n",
              "    60% {\n",
              "      border-color: transparent;\n",
              "      border-right-color: var(--fill-color);\n",
              "    }\n",
              "    80% {\n",
              "      border-color: transparent;\n",
              "      border-right-color: var(--fill-color);\n",
              "      border-bottom-color: var(--fill-color);\n",
              "    }\n",
              "    90% {\n",
              "      border-color: transparent;\n",
              "      border-bottom-color: var(--fill-color);\n",
              "    }\n",
              "  }\n",
              "</style>\n",
              "\n",
              "  <script>\n",
              "    async function quickchart(key) {\n",
              "      const quickchartButtonEl =\n",
              "        document.querySelector('#' + key + ' button');\n",
              "      quickchartButtonEl.disabled = true;  // To prevent multiple clicks.\n",
              "      quickchartButtonEl.classList.add('colab-df-spinner');\n",
              "      try {\n",
              "        const charts = await google.colab.kernel.invokeFunction(\n",
              "            'suggestCharts', [key], {});\n",
              "      } catch (error) {\n",
              "        console.error('Error during call to suggestCharts:', error);\n",
              "      }\n",
              "      quickchartButtonEl.classList.remove('colab-df-spinner');\n",
              "      quickchartButtonEl.classList.add('colab-df-quickchart-complete');\n",
              "    }\n",
              "    (() => {\n",
              "      let quickchartButtonEl =\n",
              "        document.querySelector('#df-6b309aa9-b7a1-4314-b3d5-a71841bdc9c8 button');\n",
              "      quickchartButtonEl.style.display =\n",
              "        google.colab.kernel.accessAllowed ? 'block' : 'none';\n",
              "    })();\n",
              "  </script>\n",
              "</div>\n",
              "\n",
              "  <div id=\"id_2397f0b4-3c2a-43f6-9d96-12e116ef9547\">\n",
              "    <style>\n",
              "      .colab-df-generate {\n",
              "        background-color: #E8F0FE;\n",
              "        border: none;\n",
              "        border-radius: 50%;\n",
              "        cursor: pointer;\n",
              "        display: none;\n",
              "        fill: #1967D2;\n",
              "        height: 32px;\n",
              "        padding: 0 0 0 0;\n",
              "        width: 32px;\n",
              "      }\n",
              "\n",
              "      .colab-df-generate:hover {\n",
              "        background-color: #E2EBFA;\n",
              "        box-shadow: 0px 1px 2px rgba(60, 64, 67, 0.3), 0px 1px 3px 1px rgba(60, 64, 67, 0.15);\n",
              "        fill: #174EA6;\n",
              "      }\n",
              "\n",
              "      [theme=dark] .colab-df-generate {\n",
              "        background-color: #3B4455;\n",
              "        fill: #D2E3FC;\n",
              "      }\n",
              "\n",
              "      [theme=dark] .colab-df-generate:hover {\n",
              "        background-color: #434B5C;\n",
              "        box-shadow: 0px 1px 3px 1px rgba(0, 0, 0, 0.15);\n",
              "        filter: drop-shadow(0px 1px 2px rgba(0, 0, 0, 0.3));\n",
              "        fill: #FFFFFF;\n",
              "      }\n",
              "    </style>\n",
              "    <button class=\"colab-df-generate\" onclick=\"generateWithVariable('results_df')\"\n",
              "            title=\"Generate code using this dataframe.\"\n",
              "            style=\"display:none;\">\n",
              "\n",
              "  <svg xmlns=\"http://www.w3.org/2000/svg\" height=\"24px\"viewBox=\"0 0 24 24\"\n",
              "       width=\"24px\">\n",
              "    <path d=\"M7,19H8.4L18.45,9,17,7.55,7,17.6ZM5,21V16.75L18.45,3.32a2,2,0,0,1,2.83,0l1.4,1.43a1.91,1.91,0,0,1,.58,1.4,1.91,1.91,0,0,1-.58,1.4L9.25,21ZM18.45,9,17,7.55Zm-12,3A5.31,5.31,0,0,0,4.9,8.1,5.31,5.31,0,0,0,1,6.5,5.31,5.31,0,0,0,4.9,4.9,5.31,5.31,0,0,0,6.5,1,5.31,5.31,0,0,0,8.1,4.9,5.31,5.31,0,0,0,12,6.5,5.46,5.46,0,0,0,6.5,12Z\"/>\n",
              "  </svg>\n",
              "    </button>\n",
              "    <script>\n",
              "      (() => {\n",
              "      const buttonEl =\n",
              "        document.querySelector('#id_2397f0b4-3c2a-43f6-9d96-12e116ef9547 button.colab-df-generate');\n",
              "      buttonEl.style.display =\n",
              "        google.colab.kernel.accessAllowed ? 'block' : 'none';\n",
              "\n",
              "      buttonEl.onclick = () => {\n",
              "        google.colab.notebook.generateWithVariable('results_df');\n",
              "      }\n",
              "      })();\n",
              "    </script>\n",
              "  </div>\n",
              "\n",
              "    </div>\n",
              "  </div>\n"
            ],
            "application/vnd.google.colaboratory.intrinsic+json": {
              "type": "dataframe",
              "variable_name": "results_df",
              "summary": "{\n  \"name\": \"results_df\",\n  \"rows\": 349,\n  \"fields\": [\n    {\n      \"column\": \"Actual COW ID\",\n      \"properties\": {\n        \"dtype\": \"date\",\n        \"min\": \"1970-01-01 00:00:00.000000002\",\n        \"max\": \"1970-01-01 00:00:00.000003089\",\n        \"num_unique_values\": 347,\n        \"samples\": [\n          2720,\n          2049,\n          26\n        ],\n        \"semantic_type\": \"\",\n        \"description\": \"\"\n      }\n    },\n    {\n      \"column\": \"Cow ID\",\n      \"properties\": {\n        \"dtype\": \"string\",\n        \"num_unique_values\": 217,\n        \"samples\": [\n          10,\n          2915,\n          2830\n        ],\n        \"semantic_type\": \"\",\n        \"description\": \"\"\n      }\n    },\n    {\n      \"column\": \"Status\",\n      \"properties\": {\n        \"dtype\": \"category\",\n        \"num_unique_values\": 3,\n        \"samples\": [\n          \"passed\",\n          \"failed\",\n          \"error\"\n        ],\n        \"semantic_type\": \"\",\n        \"description\": \"\"\n      }\n    },\n    {\n      \"column\": \"Error\",\n      \"properties\": {\n        \"dtype\": \"category\",\n        \"num_unique_values\": 3,\n        \"samples\": [\n          \"false\",\n          \"{\\\"error\\\": \\\"Cow ID prediction failed. Please check the image and model.\\\"}\",\n          \"{\\\"error\\\": \\\"Muzzle detection failed. Please check the image and model.\\\"}\"\n        ],\n        \"semantic_type\": \"\",\n        \"description\": \"\"\n      }\n    }\n  ]\n}"
            }
          },
          "metadata": {}
        }
      ]
    },
    {
      "cell_type": "code",
      "source": [],
      "metadata": {
        "id": "LsTopBOUVzSx"
      },
      "execution_count": null,
      "outputs": []
    }
  ]
}